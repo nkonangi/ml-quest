{
 "cells": [
  {
   "cell_type": "markdown",
   "id": "797e555a",
   "metadata": {},
   "source": [
    "# Python Fundamentals - Week 1"
   ]
  },
  {
   "cell_type": "markdown",
   "id": "f3fb96dc",
   "metadata": {},
   "source": [
    "### Basics"
   ]
  },
  {
   "cell_type": "code",
   "execution_count": 3,
   "id": "00b27071",
   "metadata": {},
   "outputs": [],
   "source": [
    "# This is a single-line comment\n",
    "\n",
    "\"\"\"\n",
    "This is a multi-line comment\n",
    "And this is the second line\n",
    "\"\"\""
   ]
  },
  {
   "cell_type": "code",
   "execution_count": 9,
   "id": "10d084bc",
   "metadata": {},
   "outputs": [
    {
     "name": "stdout",
     "output_type": "stream",
     "text": [
      "Hello World!\n",
      "\n",
      "How are you?\n"
     ]
    }
   ],
   "source": [
    "# print function\n",
    "print(\"Hello World!\\n\")\n",
    "# print()\n",
    "print(\"How are you?\")"
   ]
  },
  {
   "cell_type": "code",
   "execution_count": 12,
   "id": "686d68b6",
   "metadata": {},
   "outputs": [
    {
     "name": "stdout",
     "output_type": "stream",
     "text": [
      "a b\n"
     ]
    }
   ],
   "source": [
    "print('a', end=' ')\n",
    "print('b')"
   ]
  },
  {
   "cell_type": "code",
   "execution_count": 11,
   "id": "f1779f01",
   "metadata": {},
   "outputs": [
    {
     "name": "stdout",
     "output_type": "stream",
     "text": [
      "123\n"
     ]
    },
    {
     "data": {
      "text/plain": [
       "'123'"
      ]
     },
     "execution_count": 11,
     "metadata": {},
     "output_type": "execute_result"
    }
   ],
   "source": [
    "# input function\n",
    "input(\"Enter your name: \")\n",
    "# input()"
   ]
  },
  {
   "cell_type": "markdown",
   "id": "951280d0",
   "metadata": {},
   "source": [
    "### Variables & Data Types"
   ]
  },
  {
   "cell_type": "code",
   "execution_count": 17,
   "id": "9932b2d3",
   "metadata": {},
   "outputs": [
    {
     "name": "stdout",
     "output_type": "stream",
     "text": [
      "Matt\n",
      "<class 'str'>\n"
     ]
    }
   ],
   "source": [
    "# string\n",
    "_name = \"Matt\"\n",
    "print(_name)\n",
    "print(type(_name))"
   ]
  },
  {
   "cell_type": "code",
   "execution_count": 21,
   "id": "7e5b8d65",
   "metadata": {},
   "outputs": [
    {
     "name": "stdout",
     "output_type": "stream",
     "text": [
      "20\n",
      "<class 'int'>\n"
     ]
    }
   ],
   "source": [
    "# integer\n",
    "age1 = 20\n",
    "print(age1)\n",
    "print(type(age1))"
   ]
  },
  {
   "cell_type": "code",
   "execution_count": 22,
   "id": "21da92de",
   "metadata": {},
   "outputs": [
    {
     "name": "stdout",
     "output_type": "stream",
     "text": [
      "True\n",
      "<class 'bool'>\n"
     ]
    }
   ],
   "source": [
    "# boolean\n",
    "is_married = True\n",
    "print(is_married)\n",
    "print(type(is_married))"
   ]
  },
  {
   "cell_type": "code",
   "execution_count": 23,
   "id": "7d5c3bdc",
   "metadata": {},
   "outputs": [
    {
     "name": "stdout",
     "output_type": "stream",
     "text": [
      "3.7\n",
      "<class 'float'>\n"
     ]
    }
   ],
   "source": [
    "# float\n",
    "gpa = 3.7\n",
    "print(gpa)\n",
    "print(type(gpa))"
   ]
  },
  {
   "cell_type": "code",
   "execution_count": 26,
   "id": "7539930b",
   "metadata": {},
   "outputs": [
    {
     "name": "stdout",
     "output_type": "stream",
     "text": [
      "<class 'int'>\n",
      "<class 'str'>\n"
     ]
    }
   ],
   "source": [
    "# you can overwrite (re-assign) values to variables\n",
    "age = 30\n",
    "print(type(age))\n",
    "\n",
    "age = \"30\"\n",
    "print(type(age))"
   ]
  },
  {
   "cell_type": "code",
   "execution_count": 29,
   "id": "dac57f71",
   "metadata": {},
   "outputs": [
    {
     "name": "stdout",
     "output_type": "stream",
     "text": [
      "True\n"
     ]
    }
   ],
   "source": [
    "# What is the output?\n",
    "a = 5\n",
    "a = \"abcd\"\n",
    "a = True\n",
    "\n",
    "print(a)"
   ]
  },
  {
   "cell_type": "code",
   "execution_count": 32,
   "id": "01347baf",
   "metadata": {},
   "outputs": [
    {
     "ename": "SyntaxError",
     "evalue": "invalid decimal literal (404103703.py, line 2)",
     "output_type": "error",
     "traceback": [
      "\u001b[0;36m  Cell \u001b[0;32mIn[32], line 2\u001b[0;36m\u001b[0m\n\u001b[0;31m    3d_num = 120\u001b[0m\n\u001b[0m    ^\u001b[0m\n\u001b[0;31mSyntaxError\u001b[0m\u001b[0;31m:\u001b[0m invalid decimal literal\n"
     ]
    }
   ],
   "source": [
    "# What is the output?\n",
    "3d_num = 120\n",
    "print(3d_num + 1)"
   ]
  },
  {
   "cell_type": "code",
   "execution_count": 33,
   "id": "eb703c26",
   "metadata": {},
   "outputs": [
    {
     "name": "stdout",
     "output_type": "stream",
     "text": [
      "<class 'str'>\n",
      "<class 'int'>\n"
     ]
    }
   ],
   "source": [
    "# Explicit typecasting\n",
    "age = \"25\"\n",
    "int_age = int(age)\n",
    "\n",
    "print(type(age))\n",
    "print(type(int_age))"
   ]
  },
  {
   "cell_type": "code",
   "execution_count": 34,
   "id": "5ae74176",
   "metadata": {},
   "outputs": [
    {
     "name": "stdout",
     "output_type": "stream",
     "text": [
      "<class 'int'>\n",
      "<class 'str'>\n"
     ]
    }
   ],
   "source": [
    "age = 25\n",
    "str_age = str(age)\n",
    "\n",
    "print(type(age))\n",
    "print(type(str_age))"
   ]
  },
  {
   "cell_type": "code",
   "execution_count": 35,
   "id": "5abf2a38",
   "metadata": {},
   "outputs": [
    {
     "ename": "ValueError",
     "evalue": "invalid literal for int() with base 10: 'Twenty-five'",
     "output_type": "error",
     "traceback": [
      "\u001b[0;31m---------------------------------------------------------------------------\u001b[0m",
      "\u001b[0;31mValueError\u001b[0m                                Traceback (most recent call last)",
      "Cell \u001b[0;32mIn[35], line 2\u001b[0m\n\u001b[1;32m      1\u001b[0m age \u001b[38;5;241m=\u001b[39m \u001b[38;5;124m\"\u001b[39m\u001b[38;5;124mTwenty-five\u001b[39m\u001b[38;5;124m\"\u001b[39m\n\u001b[0;32m----> 2\u001b[0m int_age \u001b[38;5;241m=\u001b[39m \u001b[38;5;28;43mint\u001b[39;49m\u001b[43m(\u001b[49m\u001b[43mage\u001b[49m\u001b[43m)\u001b[49m\n",
      "\u001b[0;31mValueError\u001b[0m: invalid literal for int() with base 10: 'Twenty-five'"
     ]
    }
   ],
   "source": [
    "age = \"Twenty-five\"\n",
    "int_age = int(age)"
   ]
  },
  {
   "cell_type": "code",
   "execution_count": 39,
   "id": "95c29052",
   "metadata": {},
   "outputs": [
    {
     "name": "stdout",
     "output_type": "stream",
     "text": [
      "7.0\n",
      "<class 'float'>\n",
      "7\n",
      "<class 'int'>\n"
     ]
    }
   ],
   "source": [
    "# Implicit Typecasting\n",
    "int_val = 5\n",
    "float_val = 2.0\n",
    "\n",
    "print(int_val + float_val)\n",
    "print(type(int_val + float_val))\n",
    "\n",
    "# Explicit Typecasting\n",
    "int_result = int(int_val + float_val)\n",
    "\n",
    "print(int_result)\n",
    "print(type(int_result))"
   ]
  },
  {
   "cell_type": "code",
   "execution_count": 41,
   "id": "af8c57d3",
   "metadata": {},
   "outputs": [
    {
     "name": "stdout",
     "output_type": "stream",
     "text": [
      "Enter your number: 23\n",
      "23\n",
      "<class 'int'>\n"
     ]
    }
   ],
   "source": [
    "# Reading numbers from the user\n",
    "num = int(input(\"Enter your number: \"))\n",
    "\n",
    "print(num)\n",
    "print(type(num))"
   ]
  },
  {
   "cell_type": "code",
   "execution_count": 43,
   "id": "a547b80c",
   "metadata": {},
   "outputs": [
    {
     "name": "stdout",
     "output_type": "stream",
     "text": [
      "Enter a float number: abcd\n",
      "Invalid input. Please enter a valid number\n"
     ]
    }
   ],
   "source": [
    "# Error handling\n",
    "try:\n",
    "    num = float(input(\"Enter a float number: \"))\n",
    "except:\n",
    "    print(\"Invalid input. Please enter a valid number\")"
   ]
  },
  {
   "cell_type": "markdown",
   "id": "7037ef22",
   "metadata": {},
   "source": [
    "### Operators"
   ]
  },
  {
   "cell_type": "code",
   "execution_count": 45,
   "id": "89a14339",
   "metadata": {},
   "outputs": [],
   "source": [
    "# Arithmetic Operators\n",
    "a = 9\n",
    "b = 4\n",
    "\n",
    "# 9 = 4 x 2 + 1"
   ]
  },
  {
   "cell_type": "code",
   "execution_count": 53,
   "id": "6507a705",
   "metadata": {},
   "outputs": [
    {
     "name": "stdout",
     "output_type": "stream",
     "text": [
      "6561\n"
     ]
    }
   ],
   "source": [
    "# print(a+b)\n",
    "# print(a-b)\n",
    "# print(a*b)\n",
    "# print(a/b)\n",
    "# print(a//b)\n",
    "# print(a%b)\n",
    "print(a**b)"
   ]
  },
  {
   "cell_type": "code",
   "execution_count": 57,
   "id": "baf666a7",
   "metadata": {},
   "outputs": [],
   "source": [
    "a = 5\n",
    "b = 10"
   ]
  },
  {
   "cell_type": "code",
   "execution_count": 58,
   "id": "62c39d88",
   "metadata": {},
   "outputs": [
    {
     "name": "stdout",
     "output_type": "stream",
     "text": [
      "15\n"
     ]
    }
   ],
   "source": [
    "# b = b + a\n",
    "b += a\n",
    "print(b)"
   ]
  },
  {
   "cell_type": "code",
   "execution_count": 59,
   "id": "366d4fc3",
   "metadata": {},
   "outputs": [
    {
     "name": "stdout",
     "output_type": "stream",
     "text": [
      "16\n"
     ]
    }
   ],
   "source": [
    "b += 1\n",
    "print(b)"
   ]
  },
  {
   "cell_type": "code",
   "execution_count": 60,
   "id": "ef3311bd",
   "metadata": {},
   "outputs": [
    {
     "name": "stdout",
     "output_type": "stream",
     "text": [
      "32\n"
     ]
    }
   ],
   "source": [
    "# b = b * 2\n",
    "b *= 2\n",
    "print(b)"
   ]
  },
  {
   "cell_type": "code",
   "execution_count": 72,
   "id": "2c217c0e",
   "metadata": {},
   "outputs": [],
   "source": [
    "# Comparison Operators\n",
    "a = 13\n",
    "b = 20"
   ]
  },
  {
   "cell_type": "code",
   "execution_count": 73,
   "id": "57ca1589",
   "metadata": {},
   "outputs": [
    {
     "name": "stdout",
     "output_type": "stream",
     "text": [
      "True\n"
     ]
    }
   ],
   "source": [
    "# print(a < b)\n",
    "# print(a == b)\n",
    "# print(a != b)\n",
    "# print(a >= b)\n",
    "print(a <= b)"
   ]
  },
  {
   "cell_type": "code",
   "execution_count": 74,
   "id": "90ad0e59",
   "metadata": {},
   "outputs": [
    {
     "name": "stdout",
     "output_type": "stream",
     "text": [
      "False\n"
     ]
    }
   ],
   "source": [
    "x = a > b\n",
    "print(x)"
   ]
  },
  {
   "cell_type": "code",
   "execution_count": 91,
   "id": "ad159e84",
   "metadata": {},
   "outputs": [],
   "source": [
    "a = [1, 2, 3]\n",
    "b = [1, 2, 3]"
   ]
  },
  {
   "cell_type": "code",
   "execution_count": 92,
   "id": "ae3cf61b",
   "metadata": {},
   "outputs": [],
   "source": [
    "result1 = (a != b)\n",
    "result2 = (a is not b)"
   ]
  },
  {
   "cell_type": "code",
   "execution_count": 93,
   "id": "d8da1945",
   "metadata": {},
   "outputs": [
    {
     "name": "stdout",
     "output_type": "stream",
     "text": [
      "False\n",
      "True\n"
     ]
    }
   ],
   "source": [
    "print(result1)\n",
    "print(result2)"
   ]
  },
  {
   "cell_type": "code",
   "execution_count": 94,
   "id": "03e7774e",
   "metadata": {},
   "outputs": [
    {
     "name": "stdout",
     "output_type": "stream",
     "text": [
      "4609423552\n",
      "4609433920\n"
     ]
    }
   ],
   "source": [
    "print(id(a))\n",
    "print(id(b))"
   ]
  },
  {
   "cell_type": "code",
   "execution_count": 80,
   "id": "25654b06",
   "metadata": {},
   "outputs": [],
   "source": [
    "c = a"
   ]
  },
  {
   "cell_type": "code",
   "execution_count": 81,
   "id": "fbff0b4a",
   "metadata": {},
   "outputs": [],
   "source": [
    "result3 = (c is not a)"
   ]
  },
  {
   "cell_type": "code",
   "execution_count": 83,
   "id": "6504b0e1",
   "metadata": {},
   "outputs": [
    {
     "name": "stdout",
     "output_type": "stream",
     "text": [
      "4608822976\n",
      "4608822976\n"
     ]
    }
   ],
   "source": [
    "print(id(a))\n",
    "print(id(c))"
   ]
  },
  {
   "cell_type": "code",
   "execution_count": 82,
   "id": "93789f3c",
   "metadata": {},
   "outputs": [
    {
     "name": "stdout",
     "output_type": "stream",
     "text": [
      "False\n"
     ]
    }
   ],
   "source": [
    "print(result3)"
   ]
  },
  {
   "cell_type": "code",
   "execution_count": 84,
   "id": "5510956a",
   "metadata": {},
   "outputs": [],
   "source": [
    "# Logical Operators\n",
    "a = True\n",
    "b = False"
   ]
  },
  {
   "cell_type": "code",
   "execution_count": 87,
   "id": "09cc8bd1",
   "metadata": {},
   "outputs": [
    {
     "name": "stdout",
     "output_type": "stream",
     "text": [
      "False\n"
     ]
    }
   ],
   "source": [
    "# print(a and b)\n",
    "# print(a or b)\n",
    "print(not a)"
   ]
  },
  {
   "cell_type": "code",
   "execution_count": 88,
   "id": "1b442b2c",
   "metadata": {},
   "outputs": [],
   "source": [
    "condition = a and b"
   ]
  },
  {
   "cell_type": "code",
   "execution_count": 90,
   "id": "1158100c",
   "metadata": {},
   "outputs": [
    {
     "name": "stdout",
     "output_type": "stream",
     "text": [
      "True\n"
     ]
    }
   ],
   "source": [
    "print(not condition)"
   ]
  },
  {
   "cell_type": "markdown",
   "id": "8394570f",
   "metadata": {},
   "source": [
    "### if-else Statements"
   ]
  },
  {
   "cell_type": "code",
   "execution_count": 96,
   "id": "437deef9",
   "metadata": {},
   "outputs": [
    {
     "name": "stdout",
     "output_type": "stream",
     "text": [
      "You're eligible for voting\n"
     ]
    }
   ],
   "source": [
    "# Example - if-else\n",
    "age = 25\n",
    "threshold = 18\n",
    "\n",
    "if age > threshold:\n",
    "    print(\"You're eligible for voting\")\n",
    "else:\n",
    "    print(\"You're NOT eligible for voting\")"
   ]
  },
  {
   "cell_type": "code",
   "execution_count": 99,
   "id": "37707f04",
   "metadata": {},
   "outputs": [
    {
     "name": "stdout",
     "output_type": "stream",
     "text": [
      "0\n",
      "Even\n"
     ]
    }
   ],
   "source": [
    "# Example - Arithmetic Operators\n",
    "a = 8\n",
    "\n",
    "print(a % 2)\n",
    "\n",
    "if a % 2 == 0:\n",
    "    print(\"Even\")\n",
    "else:\n",
    "    print(\"Odd\")"
   ]
  },
  {
   "cell_type": "code",
   "execution_count": 102,
   "id": "1b9ff8b0",
   "metadata": {},
   "outputs": [
    {
     "name": "stdout",
     "output_type": "stream",
     "text": [
      "Underaged!\n"
     ]
    }
   ],
   "source": [
    "# Example - Multiple Conditions\n",
    "age = 25\n",
    "has_license = True\n",
    "\n",
    "if (age >= 18) and (has_license):\n",
    "    print(\"Driving Allowed!\")\n",
    "elif (age >= 18) and (not has_license):\n",
    "    print(\"Need License!\")\n",
    "else:\n",
    "    print(\"Underaged!\")"
   ]
  },
  {
   "cell_type": "code",
   "execution_count": 104,
   "id": "4d6660ed",
   "metadata": {},
   "outputs": [
    {
     "name": "stdout",
     "output_type": "stream",
     "text": [
      "Checkpoint D\n"
     ]
    }
   ],
   "source": [
    "# What are the outputs?\n",
    "\n",
    "num = 14\n",
    "# num = 7\n",
    "\n",
    "if num >= 10:\n",
    "    if num % 2 == 0:\n",
    "        print(\"Checkpoint A\")\n",
    "    else:\n",
    "        print(\"Checkpoint B\")\n",
    "else:\n",
    "    if num % 2 == 0:\n",
    "        print(\"Checkpoint C\")\n",
    "    else:\n",
    "        print(\"Checkpoint D\")"
   ]
  },
  {
   "cell_type": "code",
   "execution_count": 106,
   "id": "76522c03",
   "metadata": {},
   "outputs": [
    {
     "name": "stdout",
     "output_type": "stream",
     "text": [
      "A\n"
     ]
    }
   ],
   "source": [
    "num = 14\n",
    "condition = (num % 2 == 0)\n",
    "\n",
    "if num >= 10:\n",
    "    print(\"A\") if condition else print(\"B\")\n",
    "else:\n",
    "    print(\"C\") if condition else print(\"D\")"
   ]
  },
  {
   "cell_type": "code",
   "execution_count": 107,
   "id": "9d32abfd",
   "metadata": {},
   "outputs": [
    {
     "name": "stdout",
     "output_type": "stream",
     "text": [
      "A\n"
     ]
    }
   ],
   "source": [
    "(print(\"A\") if condition else print(\"B\")) if (num >= 10) else (print(\"C\") if condition else print(\"D\"))"
   ]
  },
  {
   "cell_type": "markdown",
   "id": "4d0ffa23",
   "metadata": {},
   "source": [
    "### Loops"
   ]
  },
  {
   "cell_type": "code",
   "execution_count": 108,
   "id": "17c94648",
   "metadata": {},
   "outputs": [
    {
     "name": "stdout",
     "output_type": "stream",
     "text": [
      "0\n",
      "1\n",
      "2\n",
      "3\n",
      "4\n"
     ]
    }
   ],
   "source": [
    "# for loop\n",
    "for i in range(5):\n",
    "    print(i)"
   ]
  },
  {
   "cell_type": "code",
   "execution_count": 109,
   "id": "6dc6a0f0",
   "metadata": {},
   "outputs": [
    {
     "name": "stdout",
     "output_type": "stream",
     "text": [
      "10\n",
      "11\n",
      "12\n",
      "13\n",
      "14\n"
     ]
    }
   ],
   "source": [
    "for i in range(10, 15):\n",
    "    print(i)"
   ]
  },
  {
   "cell_type": "code",
   "execution_count": 110,
   "id": "4836b33c",
   "metadata": {},
   "outputs": [
    {
     "name": "stdout",
     "output_type": "stream",
     "text": [
      "10\n",
      "12\n",
      "14\n"
     ]
    }
   ],
   "source": [
    "for i in range(10, 15, 2):\n",
    "    print(i)"
   ]
  },
  {
   "cell_type": "code",
   "execution_count": 112,
   "id": "cb4d2e4b",
   "metadata": {},
   "outputs": [
    {
     "name": "stdout",
     "output_type": "stream",
     "text": [
      "10\n"
     ]
    }
   ],
   "source": [
    "# Find the sum of 1-4\n",
    "SUM = 0\n",
    "for x in range(1, 5):\n",
    "    SUM += x\n",
    "print(SUM)"
   ]
  },
  {
   "cell_type": "code",
   "execution_count": 113,
   "id": "f29e815d",
   "metadata": {},
   "outputs": [
    {
     "name": "stdout",
     "output_type": "stream",
     "text": [
      "1234\n"
     ]
    }
   ],
   "source": [
    "message = \"\"\n",
    "for num in range(1, 5):\n",
    "    message += str(num)\n",
    "print(message)"
   ]
  },
  {
   "cell_type": "code",
   "execution_count": 115,
   "id": "e6d8a26c",
   "metadata": {},
   "outputs": [
    {
     "name": "stdout",
     "output_type": "stream",
     "text": [
      "Number 1\n",
      "Number 2\n",
      "Number 3\n",
      "Number 4\n",
      "Number 5\n",
      "\n",
      "Count = 6\n"
     ]
    }
   ],
   "source": [
    "# while loop\n",
    "count = 1\n",
    "\n",
    "while (count <= 5):\n",
    "    print(\"Number \" + str(count))\n",
    "    count += 1\n",
    "\n",
    "print(\"\\nCount =\", count)"
   ]
  },
  {
   "cell_type": "code",
   "execution_count": 118,
   "id": "b89ddac7",
   "metadata": {},
   "outputs": [
    {
     "name": "stdout",
     "output_type": "stream",
     "text": [
      "0\n",
      "1\n",
      "2\n"
     ]
    }
   ],
   "source": [
    "# loop control - break\n",
    "for i in range(5):\n",
    "    if i == 3:\n",
    "        break\n",
    "    print(i)"
   ]
  },
  {
   "cell_type": "code",
   "execution_count": 119,
   "id": "80dd0775",
   "metadata": {},
   "outputs": [
    {
     "name": "stdout",
     "output_type": "stream",
     "text": [
      "0\n",
      "1\n",
      "2\n",
      "4\n"
     ]
    }
   ],
   "source": [
    "# loop control - continue\n",
    "for i in range(5):\n",
    "    if i == 3:\n",
    "        continue\n",
    "    print(i)"
   ]
  },
  {
   "cell_type": "markdown",
   "id": "454d7654",
   "metadata": {},
   "source": [
    "#### CLASS ACTIVITY"
   ]
  },
  {
   "cell_type": "markdown",
   "id": "6c4bc549",
   "metadata": {},
   "source": [
    "Find the sum of digits of a given number N"
   ]
  },
  {
   "cell_type": "code",
   "execution_count": 123,
   "id": "b1307077",
   "metadata": {},
   "outputs": [
    {
     "name": "stdout",
     "output_type": "stream",
     "text": [
      "9\n"
     ]
    }
   ],
   "source": [
    "# N = 5013\n",
    "# ans = 5 + 0 + 1 + 3 = 9\n",
    "\n",
    "N = 5013\n",
    "res = 0\n",
    "\n",
    "while N > 0:\n",
    "    remainder = N % 10\n",
    "    res += remainder\n",
    "    N //= 10\n",
    "\n",
    "print(res)"
   ]
  },
  {
   "cell_type": "markdown",
   "id": "ed96f5cb",
   "metadata": {},
   "source": [
    "Find the first pair of (non-negligible) divisors for a given number N"
   ]
  },
  {
   "cell_type": "code",
   "execution_count": 147,
   "id": "92c4becd",
   "metadata": {},
   "outputs": [
    {
     "name": "stdout",
     "output_type": "stream",
     "text": [
      "(2, 32)\n"
     ]
    }
   ],
   "source": [
    "# N = 64\n",
    "# set_of_divisors = {1, 2, 4, 8, 16, 32, 64}\n",
    "# ans = (2, 32)\n",
    "\n",
    "N = 64\n",
    "found_divisor = False\n",
    "\n",
    "for i in range(2, N):\n",
    "    \n",
    "    if found_divisor:\n",
    "        break\n",
    "        \n",
    "    for j in range(i, N):\n",
    "        \n",
    "        # Check if i and j are divisors\n",
    "        if i * j == N:\n",
    "            ans = (i, j)\n",
    "            found_divisor = True\n",
    "            break\n",
    "        \n",
    "print(ans)"
   ]
  },
  {
   "cell_type": "markdown",
   "id": "20bcd971",
   "metadata": {},
   "source": [
    "### Function"
   ]
  },
  {
   "cell_type": "code",
   "execution_count": 128,
   "id": "561c2cbd",
   "metadata": {},
   "outputs": [
    {
     "name": "stdout",
     "output_type": "stream",
     "text": [
      "Hello\n"
     ]
    }
   ],
   "source": [
    "def greet():\n",
    "    print(\"Hello\")\n",
    "\n",
    "greet()"
   ]
  },
  {
   "cell_type": "code",
   "execution_count": 131,
   "id": "a0e815c8",
   "metadata": {},
   "outputs": [
    {
     "name": "stdout",
     "output_type": "stream",
     "text": [
      "Hello John\n"
     ]
    }
   ],
   "source": [
    "def greet_someone(name: str) -> None:\n",
    "    print(\"Hello \" + name)\n",
    "    \n",
    "greet_someone(name=\"John\")"
   ]
  },
  {
   "cell_type": "code",
   "execution_count": 146,
   "id": "8a733acb",
   "metadata": {},
   "outputs": [
    {
     "name": "stdout",
     "output_type": "stream",
     "text": [
      "20\n"
     ]
    }
   ],
   "source": [
    "# Example - Arithmetic\n",
    "def add_numbers(a: int, b: int) -> int:\n",
    "    return a + 2 * b\n",
    "\n",
    "print(add_numbers(a=4, b=8))"
   ]
  },
  {
   "cell_type": "code",
   "execution_count": 137,
   "id": "59c6a9e4",
   "metadata": {},
   "outputs": [
    {
     "data": {
      "text/plain": [
       "10"
      ]
     },
     "execution_count": 137,
     "metadata": {},
     "output_type": "execute_result"
    }
   ],
   "source": [
    "# Example - Arithmetic\n",
    "def add_numbers(a=7, b=8):\n",
    "    return a + b\n",
    "\n",
    "# print(add_numbers())\n",
    "# print(add_numbers(2, 3))\n",
    "print(add_numbers(a=2))"
   ]
  },
  {
   "cell_type": "code",
   "execution_count": 139,
   "id": "c7361ee9",
   "metadata": {},
   "outputs": [
    {
     "name": "stdout",
     "output_type": "stream",
     "text": [
      "19\n"
     ]
    }
   ],
   "source": [
    "# N = 5013\n",
    "# ans = 5 + 0 + 1 + 3 = 9\n",
    "\n",
    "def find_sum_of_digits(num):\n",
    "    res = 0\n",
    "    while num > 0:\n",
    "        remainder = num % 10\n",
    "        res += remainder\n",
    "        num //= 10\n",
    "    return res\n",
    "\n",
    "print(find_sum_of_digits(49213))"
   ]
  },
  {
   "cell_type": "code",
   "execution_count": 140,
   "id": "d28ff5af",
   "metadata": {},
   "outputs": [
    {
     "name": "stdout",
     "output_type": "stream",
     "text": [
      "30\n"
     ]
    }
   ],
   "source": [
    "def function1(arg1: str):\n",
    "    print(arg1 + 10)\n",
    "\n",
    "function1(arg1=20)"
   ]
  },
  {
   "cell_type": "markdown",
   "id": "586cc4b9",
   "metadata": {},
   "source": [
    "### Lists"
   ]
  },
  {
   "cell_type": "code",
   "execution_count": 148,
   "id": "f7f03e40",
   "metadata": {},
   "outputs": [],
   "source": [
    "# Create a new list (lists are heterogeneous)\n",
    "my_list = [1, 2, 3, \"John\", True, 'a', 'b']"
   ]
  },
  {
   "cell_type": "code",
   "execution_count": 153,
   "id": "b17b0b48",
   "metadata": {},
   "outputs": [
    {
     "name": "stdout",
     "output_type": "stream",
     "text": [
      "b\n"
     ]
    }
   ],
   "source": [
    "# print(my_list[0])\n",
    "# print(my_list[1])\n",
    "print(my_list[len(my_list)-1])"
   ]
  },
  {
   "cell_type": "code",
   "execution_count": 156,
   "id": "ce9137d4",
   "metadata": {},
   "outputs": [
    {
     "name": "stdout",
     "output_type": "stream",
     "text": [
      "1\n"
     ]
    }
   ],
   "source": [
    "# print(my_list[-1])\n",
    "# print(my_list[-3])\n",
    "print(my_list[-len(my_list)])"
   ]
  },
  {
   "cell_type": "code",
   "execution_count": 157,
   "id": "e9ead83a",
   "metadata": {},
   "outputs": [
    {
     "name": "stdout",
     "output_type": "stream",
     "text": [
      "['new', 2, 3, 'John', True, 'a', 'b']\n"
     ]
    }
   ],
   "source": [
    "my_list[0] = \"new\"\n",
    "print(my_list)"
   ]
  },
  {
   "cell_type": "code",
   "execution_count": 158,
   "id": "1d484324",
   "metadata": {},
   "outputs": [
    {
     "name": "stdout",
     "output_type": "stream",
     "text": [
      "[0, 'new', 2, 3, 'John', True, 'a', 'b', 'c']\n"
     ]
    }
   ],
   "source": [
    "# list concatenation\n",
    "new_list = [0] + my_list + ['c']\n",
    "print(new_list)"
   ]
  },
  {
   "cell_type": "code",
   "execution_count": 161,
   "id": "dd705328",
   "metadata": {},
   "outputs": [
    {
     "name": "stdout",
     "output_type": "stream",
     "text": [
      "[0, 0, 0, 0, 0, 0, 0, 0, 0, 0]\n"
     ]
    }
   ],
   "source": [
    "# list multiplications\n",
    "scores = [0] * 10\n",
    "print(scores)"
   ]
  },
  {
   "cell_type": "code",
   "execution_count": 207,
   "id": "4211a591",
   "metadata": {},
   "outputs": [],
   "source": [
    "# lists built-in functions\n",
    "fruits = [\"Apple\", \"Banana\", \"Cherry\"]"
   ]
  },
  {
   "cell_type": "code",
   "execution_count": 210,
   "id": "388773cc",
   "metadata": {},
   "outputs": [
    {
     "name": "stdout",
     "output_type": "stream",
     "text": [
      "['Apple', 'Banana', 'Cherry', 'Orange', 'Kiwi', 'Blueberry']\n"
     ]
    }
   ],
   "source": [
    "# fruits.append(\"Orange\")\n",
    "# fruits.extend([\"Kiwi\", \"Blueberry\"])\n",
    "# fruits.extend([\"Watermelon\"])\n",
    "# fruits.remove(\"Cherry\")\n",
    "# removed_element = fruits.pop()\n",
    "# removed_element = fruits.pop(2)\n",
    "# idx = fruits.index(\"Banana\")\n",
    "# fruits.append(\"Apple\")\n",
    "# num_of_apples = fruits.count(\"Apple\")\n",
    "# fruits.clear()\n",
    "\n",
    "print(fruits)\n",
    "# print(removed_element)\n",
    "# print(idx)\n",
    "# print(num_of_apples)"
   ]
  },
  {
   "cell_type": "code",
   "execution_count": 178,
   "id": "4008c1f5",
   "metadata": {},
   "outputs": [],
   "source": [
    "# Numerical Example\n",
    "nums = [2, 0, -1, 4, -2, 10]"
   ]
  },
  {
   "cell_type": "code",
   "execution_count": 187,
   "id": "cefb3544",
   "metadata": {},
   "outputs": [
    {
     "name": "stdout",
     "output_type": "stream",
     "text": [
      "[10, -1, -2]\n"
     ]
    }
   ],
   "source": [
    "# nums.sort(reverse=True)\n",
    "# num.reverse()\n",
    "# num2 = nums.copy()\n",
    "del nums[1:3]\n",
    "\n",
    "# print(nums)\n",
    "print(nums)"
   ]
  },
  {
   "cell_type": "code",
   "execution_count": 188,
   "id": "56d23616",
   "metadata": {},
   "outputs": [
    {
     "name": "stdout",
     "output_type": "stream",
     "text": [
      "10\n",
      "-1\n",
      "-2\n"
     ]
    }
   ],
   "source": [
    "# element-wise iteration\n",
    "for num in nums:\n",
    "    print(num)"
   ]
  },
  {
   "cell_type": "code",
   "execution_count": 191,
   "id": "74786fb9",
   "metadata": {},
   "outputs": [
    {
     "name": "stdout",
     "output_type": "stream",
     "text": [
      "0 10\n",
      "1 -1\n",
      "2 -2\n"
     ]
    }
   ],
   "source": [
    "# Iterate with index\n",
    "for i in range(len(nums)):\n",
    "    print(i, nums[i])"
   ]
  },
  {
   "cell_type": "code",
   "execution_count": 190,
   "id": "2ca991e3",
   "metadata": {},
   "outputs": [
    {
     "name": "stdout",
     "output_type": "stream",
     "text": [
      "0 10\n",
      "1 -1\n",
      "2 -2\n"
     ]
    }
   ],
   "source": [
    "for i, val in enumerate(nums):\n",
    "    print(i, val)"
   ]
  },
  {
   "cell_type": "code",
   "execution_count": 192,
   "id": "a11ab38f",
   "metadata": {},
   "outputs": [
    {
     "name": "stdout",
     "output_type": "stream",
     "text": [
      "True\n"
     ]
    }
   ],
   "source": [
    "# Check existence\n",
    "\n",
    "case1 = (10 in nums)\n",
    "print(case1)"
   ]
  },
  {
   "cell_type": "code",
   "execution_count": 193,
   "id": "5d408dc6",
   "metadata": {},
   "outputs": [
    {
     "name": "stdout",
     "output_type": "stream",
     "text": [
      "False\n"
     ]
    }
   ],
   "source": [
    "case2 = (5 in nums)\n",
    "print(case2)"
   ]
  },
  {
   "cell_type": "code",
   "execution_count": 195,
   "id": "d5098ce6",
   "metadata": {},
   "outputs": [
    {
     "name": "stdout",
     "output_type": "stream",
     "text": [
      "[0, 1, 4, 9, 16]\n"
     ]
    }
   ],
   "source": [
    "# list comprehensions\n",
    "squares = [x**2 for x in range(5)]\n",
    "print(squares)"
   ]
  },
  {
   "cell_type": "code",
   "execution_count": 196,
   "id": "df678d5c",
   "metadata": {},
   "outputs": [
    {
     "name": "stdout",
     "output_type": "stream",
     "text": [
      "[0, 2, 4, 6, 8]\n"
     ]
    }
   ],
   "source": [
    "evens = [x for x in range(10) if x % 2 == 0]\n",
    "print(evens)"
   ]
  },
  {
   "cell_type": "code",
   "execution_count": 211,
   "id": "ccdf40e0",
   "metadata": {},
   "outputs": [],
   "source": [
    "# Slicing in lists\n",
    "\n",
    "my_list = [0, 1, 2, 3, 4, 5, 6, 7, 8, 9]"
   ]
  },
  {
   "cell_type": "code",
   "execution_count": 215,
   "id": "3ae11b07",
   "metadata": {},
   "outputs": [
    {
     "name": "stdout",
     "output_type": "stream",
     "text": [
      "[9, 8, 7, 6, 5, 4, 3, 2, 1, 0]\n"
     ]
    }
   ],
   "source": [
    "# print(my_list[start:end:step])\n",
    "\n",
    "# print(my_list[1:5])\n",
    "# print(my_list[4:])\n",
    "# print(my_list[:4])\n",
    "# print(my_list[1:9:2])\n",
    "# print(my_list[::])\n",
    "# print(my_list[::2])\n",
    "print(my_list[::-1])\n",
    "# print(my_list[-2:-5:-1])\n",
    "# print(my_list[-3:])\n",
    "# print(my_list[-5:-2])"
   ]
  },
  {
   "cell_type": "markdown",
   "id": "40a83a04",
   "metadata": {},
   "source": [
    "### LeetCode - Two Sum"
   ]
  },
  {
   "cell_type": "markdown",
   "id": "75d7c0e7",
   "metadata": {},
   "source": [
    "Given an array of integers nums and an integer target, return indices of the two numbers such that they add up to target.\n",
    "\n",
    "You may assume that each input would have exactly one solution, and you may not use the same element twice.\n",
    "\n",
    "You can return the answer in any order."
   ]
  },
  {
   "cell_type": "code",
   "execution_count": 216,
   "id": "930e51f5",
   "metadata": {},
   "outputs": [],
   "source": [
    "def twoSum(nums, target):\n",
    "    n = len(nums)\n",
    "    for i in range(n):\n",
    "        num1 = nums[i]\n",
    "        for j in range(i+1, n):\n",
    "            num2 = nums[j]\n",
    "            if (num1 + num2 == target):\n",
    "                return [i, j]"
   ]
  },
  {
   "cell_type": "code",
   "execution_count": 217,
   "id": "2e9a9be6",
   "metadata": {
    "scrolled": true
   },
   "outputs": [
    {
     "name": "stdout",
     "output_type": "stream",
     "text": [
      "[0, 1]\n"
     ]
    }
   ],
   "source": [
    "# Test Case 1\n",
    "list1 = [2, 7, 11, 15]\n",
    "result = twoSum(list1, 9)\n",
    "print(result)"
   ]
  },
  {
   "cell_type": "code",
   "execution_count": 218,
   "id": "0d2c2934",
   "metadata": {},
   "outputs": [
    {
     "name": "stdout",
     "output_type": "stream",
     "text": [
      "[1, 2]\n"
     ]
    }
   ],
   "source": [
    "# Test Case 2\n",
    "list2 = [3, 2, 4]\n",
    "result = twoSum(list2, 6)\n",
    "print(result)"
   ]
  },
  {
   "cell_type": "code",
   "execution_count": 219,
   "id": "bb14f3c4",
   "metadata": {},
   "outputs": [
    {
     "name": "stdout",
     "output_type": "stream",
     "text": [
      "[0, 2]\n"
     ]
    }
   ],
   "source": [
    "# Test Case 3\n",
    "list3 = [2, 10, 9, 20, 5, 7]\n",
    "result = twoSum(list3, 11)\n",
    "print(result)"
   ]
  },
  {
   "cell_type": "markdown",
   "id": "7caefc8e",
   "metadata": {},
   "source": [
    "### LeetCode - Contains Duplicate"
   ]
  },
  {
   "cell_type": "markdown",
   "id": "efec01d7",
   "metadata": {},
   "source": [
    "Given an integer array nums, return true if any value appears at least twice in the array, and return false if every element is distinct."
   ]
  },
  {
   "cell_type": "code",
   "execution_count": 265,
   "id": "02b3d758",
   "metadata": {},
   "outputs": [],
   "source": [
    "# Solution 1\n",
    "def containsDuplicate(nums):\n",
    "    n = len(nums)\n",
    "    for i in range(n-1):\n",
    "        for j in range(i+1, n):\n",
    "            if nums[i] == nums[j]:\n",
    "                return True\n",
    "    return False    "
   ]
  },
  {
   "cell_type": "code",
   "execution_count": 266,
   "id": "7d2776d6",
   "metadata": {},
   "outputs": [],
   "source": [
    "# Solution 2\n",
    "def containsDuplicate(nums):\n",
    "    nums.sort()\n",
    "    n = len(nums)\n",
    "    for i in range(n-1):\n",
    "        if nums[i] == nums[i+1]:\n",
    "            return True\n",
    "    return False"
   ]
  },
  {
   "cell_type": "code",
   "execution_count": 267,
   "id": "5becfd4b",
   "metadata": {},
   "outputs": [
    {
     "name": "stdout",
     "output_type": "stream",
     "text": [
      "True\n"
     ]
    }
   ],
   "source": [
    "# Test Case 1\n",
    "list1 = [1, 2, 3, 1]\n",
    "result = containsDuplicate(list1)\n",
    "print(result)"
   ]
  },
  {
   "cell_type": "code",
   "execution_count": 268,
   "id": "432c0959",
   "metadata": {},
   "outputs": [
    {
     "name": "stdout",
     "output_type": "stream",
     "text": [
      "False\n"
     ]
    }
   ],
   "source": [
    "# Test Case 2\n",
    "list2 = [1, 2, 3, 4]\n",
    "result = containsDuplicate(list2)\n",
    "print(result)"
   ]
  },
  {
   "cell_type": "code",
   "execution_count": 269,
   "id": "17a2da4d",
   "metadata": {},
   "outputs": [
    {
     "name": "stdout",
     "output_type": "stream",
     "text": [
      "True\n"
     ]
    }
   ],
   "source": [
    "# Test Case 3\n",
    "list3 = [1, 1, 1, 3, 3, 4, 3, 2, 4, 2]\n",
    "result = containsDuplicate(list3)\n",
    "print(result)"
   ]
  },
  {
   "cell_type": "code",
   "execution_count": 270,
   "id": "83df694a",
   "metadata": {},
   "outputs": [
    {
     "name": "stdout",
     "output_type": "stream",
     "text": [
      "False\n"
     ]
    }
   ],
   "source": [
    "# Test Case 4\n",
    "list4 = [2, 10, 9, 20, 1, 7]\n",
    "result = containsDuplicate(list4)\n",
    "print(result)"
   ]
  },
  {
   "cell_type": "markdown",
   "id": "45dddd59",
   "metadata": {},
   "source": [
    "### Strings"
   ]
  },
  {
   "cell_type": "code",
   "execution_count": 220,
   "id": "659cfa67",
   "metadata": {},
   "outputs": [],
   "source": [
    "# Create a new string\n",
    "greeting = \"Hello, World!\""
   ]
  },
  {
   "cell_type": "code",
   "execution_count": 222,
   "id": "aad88097",
   "metadata": {},
   "outputs": [
    {
     "name": "stdout",
     "output_type": "stream",
     "text": [
      "H e !\n"
     ]
    }
   ],
   "source": [
    "# Access characters\n",
    "ch1 = greeting[0]\n",
    "ch2 = greeting[1]\n",
    "ch3 = greeting[-1]\n",
    "\n",
    "print(ch1, ch2, ch3)"
   ]
  },
  {
   "cell_type": "code",
   "execution_count": 223,
   "id": "012bcd55",
   "metadata": {},
   "outputs": [
    {
     "ename": "TypeError",
     "evalue": "'str' object does not support item assignment",
     "output_type": "error",
     "traceback": [
      "\u001b[0;31m---------------------------------------------------------------------------\u001b[0m",
      "\u001b[0;31mTypeError\u001b[0m                                 Traceback (most recent call last)",
      "Cell \u001b[0;32mIn[223], line 2\u001b[0m\n\u001b[1;32m      1\u001b[0m \u001b[38;5;66;03m# strings are immutable\u001b[39;00m\n\u001b[0;32m----> 2\u001b[0m greeting[\u001b[38;5;241m0\u001b[39m] \u001b[38;5;241m=\u001b[39m \u001b[38;5;124m'\u001b[39m\u001b[38;5;124mG\u001b[39m\u001b[38;5;124m'\u001b[39m\n",
      "\u001b[0;31mTypeError\u001b[0m: 'str' object does not support item assignment"
     ]
    }
   ],
   "source": [
    "# strings are immutable\n",
    "greeting[0] = 'G'"
   ]
  },
  {
   "cell_type": "code",
   "execution_count": 224,
   "id": "ec6df5f1",
   "metadata": {},
   "outputs": [
    {
     "name": "stdout",
     "output_type": "stream",
     "text": [
      "Hello, World! Have a great day!\n"
     ]
    }
   ],
   "source": [
    "# string concatenation\n",
    "full_greeting = greeting + \" Have a great day!\"\n",
    "print(full_greeting)"
   ]
  },
  {
   "cell_type": "code",
   "execution_count": 225,
   "id": "53ecb69d",
   "metadata": {},
   "outputs": [
    {
     "name": "stdout",
     "output_type": "stream",
     "text": [
      "13\n"
     ]
    }
   ],
   "source": [
    "n = len(greeting)\n",
    "print(n)"
   ]
  },
  {
   "cell_type": "code",
   "execution_count": 226,
   "id": "d1a3a491",
   "metadata": {},
   "outputs": [],
   "source": [
    "# strings built-in functions\n",
    "words = \"Interview Kickstart\""
   ]
  },
  {
   "cell_type": "code",
   "execution_count": 235,
   "id": "c5a2f144",
   "metadata": {},
   "outputs": [
    {
     "name": "stdout",
     "output_type": "stream",
     "text": [
      "Interview Ready!\n"
     ]
    }
   ],
   "source": [
    "# print(words.upper())\n",
    "# print(words.lower())\n",
    "# print(words.capitalize())\n",
    "# print(words.partition(' '))\n",
    "# print(words.partition('t'))\n",
    "# print(words.split())\n",
    "# print(words.split('t', maxsplit=2))\n",
    "print(words.replace(\"Kickstart\", \"Ready!\"))"
   ]
  },
  {
   "cell_type": "code",
   "execution_count": 236,
   "id": "a60239ed",
   "metadata": {},
   "outputs": [],
   "source": [
    "words = [\"Interview\", \"Kickstart\"]"
   ]
  },
  {
   "cell_type": "code",
   "execution_count": 238,
   "id": "bb48c30d",
   "metadata": {},
   "outputs": [
    {
     "name": "stdout",
     "output_type": "stream",
     "text": [
      "Interview, Kickstart\n"
     ]
    }
   ],
   "source": [
    "# print(\" \".join(words))\n",
    "print(\", \".join(words))"
   ]
  },
  {
   "cell_type": "code",
   "execution_count": 239,
   "id": "6e935bf0",
   "metadata": {},
   "outputs": [],
   "source": [
    "# strings built-in functions\n",
    "words = \"Interview Kickstart\""
   ]
  },
  {
   "cell_type": "code",
   "execution_count": 241,
   "id": "cb9917cd",
   "metadata": {},
   "outputs": [
    {
     "name": "stdout",
     "output_type": "stream",
     "text": [
      "-1\n"
     ]
    }
   ],
   "source": [
    "# print(words.find(\"Kickstart\"))\n",
    "print(words.find(\"Ready\"))"
   ]
  },
  {
   "cell_type": "code",
   "execution_count": 243,
   "id": "e7e41e5d",
   "metadata": {},
   "outputs": [
    {
     "ename": "ValueError",
     "evalue": "substring not found",
     "output_type": "error",
     "traceback": [
      "\u001b[0;31m---------------------------------------------------------------------------\u001b[0m",
      "\u001b[0;31mValueError\u001b[0m                                Traceback (most recent call last)",
      "Cell \u001b[0;32mIn[243], line 2\u001b[0m\n\u001b[1;32m      1\u001b[0m \u001b[38;5;66;03m# print(words.index(\"Kickstart\"))\u001b[39;00m\n\u001b[0;32m----> 2\u001b[0m \u001b[38;5;28mprint\u001b[39m(\u001b[43mwords\u001b[49m\u001b[38;5;241;43m.\u001b[39;49m\u001b[43mindex\u001b[49m\u001b[43m(\u001b[49m\u001b[38;5;124;43m\"\u001b[39;49m\u001b[38;5;124;43mReady\u001b[39;49m\u001b[38;5;124;43m\"\u001b[39;49m\u001b[43m)\u001b[49m)\n",
      "\u001b[0;31mValueError\u001b[0m: substring not found"
     ]
    }
   ],
   "source": [
    "# print(words.index(\"Kickstart\"))\n",
    "print(words.index(\"Ready\"))"
   ]
  },
  {
   "cell_type": "code",
   "execution_count": 257,
   "id": "2f3e08cf",
   "metadata": {},
   "outputs": [
    {
     "name": "stdout",
     "output_type": "stream",
     "text": [
      "text\n"
     ]
    }
   ],
   "source": [
    "text = \"   text         \"\n",
    "\n",
    "print(text.strip())"
   ]
  },
  {
   "cell_type": "code",
   "execution_count": 256,
   "id": "20b4a6e4",
   "metadata": {},
   "outputs": [
    {
     "name": "stdout",
     "output_type": "stream",
     "text": [
      "text\n"
     ]
    }
   ],
   "source": [
    "print(text.lstrip().rstrip())"
   ]
  },
  {
   "cell_type": "code",
   "execution_count": 245,
   "id": "6d4c02f5",
   "metadata": {},
   "outputs": [
    {
     "name": "stdout",
     "output_type": "stream",
     "text": [
      "wo\n"
     ]
    }
   ],
   "source": [
    "text = \"wowwwww!\"\n",
    "\n",
    "print(text.rstrip(\"!w\"))"
   ]
  },
  {
   "cell_type": "code",
   "execution_count": 248,
   "id": "5c31bd00",
   "metadata": {},
   "outputs": [
    {
     "name": "stdout",
     "output_type": "stream",
     "text": [
      "True\n"
     ]
    }
   ],
   "source": [
    "text = \"Python is fun\"\n",
    "\n",
    "print(text.startswith(\"Python\"))"
   ]
  },
  {
   "cell_type": "code",
   "execution_count": 251,
   "id": "36187bfb",
   "metadata": {},
   "outputs": [
    {
     "name": "stdout",
     "output_type": "stream",
     "text": [
      "True\n"
     ]
    }
   ],
   "source": [
    "print(\"12345\".isnumeric())"
   ]
  },
  {
   "cell_type": "code",
   "execution_count": 252,
   "id": "4abc1cee",
   "metadata": {},
   "outputs": [
    {
     "name": "stdout",
     "output_type": "stream",
     "text": [
      "True\n"
     ]
    }
   ],
   "source": [
    "print(\"12345abc\".isalnum())"
   ]
  },
  {
   "cell_type": "code",
   "execution_count": 253,
   "id": "200a413e",
   "metadata": {},
   "outputs": [
    {
     "name": "stdout",
     "output_type": "stream",
     "text": [
      "odin\n",
      "Fun\n"
     ]
    }
   ],
   "source": [
    "# String slicing\n",
    "my_string = 'CodingIsFun'\n",
    "\n",
    "# Using indexing sequence\n",
    "print(my_string[1:5])\n",
    "print(my_string[-3:])"
   ]
  },
  {
   "cell_type": "markdown",
   "id": "668329e7",
   "metadata": {},
   "source": [
    "### LeetCode - Find Pivot Index"
   ]
  },
  {
   "cell_type": "markdown",
   "id": "dc81532c",
   "metadata": {},
   "source": [
    "Given an array of integers nums, calculate the pivot index of this array.\n",
    "\n",
    "The pivot index is the index where the sum of all the numbers strictly to the left of the index is equal to the sum of all the numbers strictly to the index's right.\n",
    "\n",
    "If the index is on the left edge of the array, then the left sum is 0 because there are no elements to the left. This also applies to the right edge of the array.\n",
    "\n",
    "Return the leftmost pivot index. If no such index exists, return -1."
   ]
  },
  {
   "cell_type": "code",
   "execution_count": 258,
   "id": "aa0e0f67",
   "metadata": {},
   "outputs": [],
   "source": [
    "# Solution 1\n",
    "def find_left_sum(nums, i):\n",
    "#     return sum(nums[:i])\n",
    "    SUM = 0\n",
    "    for j in range(i):\n",
    "        SUM += nums[j]\n",
    "    return SUM\n",
    "\n",
    "def find_right_sum(nums, i):\n",
    "#     return sum(nums[i+1:])\n",
    "    SUM = 0\n",
    "    for j in range(i+1, len(nums)):\n",
    "        SUM += nums[j]\n",
    "    return SUM\n",
    "\n",
    "def pivotIndex(nums):\n",
    "    for i in range(len(nums)):\n",
    "        left_sum = find_left_sum(nums, i)\n",
    "        right_sum = find_right_sum(nums, i)\n",
    "        if left_sum == right_sum:\n",
    "            return i\n",
    "    return -1"
   ]
  },
  {
   "cell_type": "code",
   "execution_count": null,
   "id": "bcfdffc9",
   "metadata": {},
   "outputs": [],
   "source": [
    "# Solution 2\n",
    "def pivotIndex(nums):\n",
    "    S = sum(nums)\n",
    "    leftsum = 0\n",
    "    for i, x in enumerate(nums):\n",
    "        if leftsum == (S - leftsum - x):\n",
    "            return i\n",
    "        leftsum += x\n",
    "    return -1"
   ]
  },
  {
   "cell_type": "code",
   "execution_count": 259,
   "id": "80219837",
   "metadata": {},
   "outputs": [
    {
     "name": "stdout",
     "output_type": "stream",
     "text": [
      "3\n"
     ]
    }
   ],
   "source": [
    "# Test Case 1\n",
    "nums1 = [1, 7, 3, 6, 5, 6]\n",
    "print(pivotIndex(nums1))"
   ]
  },
  {
   "cell_type": "code",
   "execution_count": 260,
   "id": "95a410cd",
   "metadata": {},
   "outputs": [
    {
     "name": "stdout",
     "output_type": "stream",
     "text": [
      "-1\n"
     ]
    }
   ],
   "source": [
    "# Test Case 2\n",
    "nums2 = [1, 2, 3]\n",
    "print(pivotIndex(nums2))"
   ]
  },
  {
   "cell_type": "markdown",
   "id": "af0d6e3d",
   "metadata": {},
   "source": [
    "### LeetCode - Revese Words in a String"
   ]
  },
  {
   "cell_type": "markdown",
   "id": "ddb7de04",
   "metadata": {},
   "source": [
    "Given an input string s, reverse the order of the words.\n",
    "\n",
    "A word is defined as a sequence of non-space characters. The words in s will be separated by at least on space.\n",
    "\n",
    "Return a string of the words in reverse order concatenated by a single space.\n",
    "\n",
    "Note that s may contain leading or trailing spaces or multiple spaces between two words. The returned string should only have a single space separating the words. Do not include any extra spaces."
   ]
  },
  {
   "cell_type": "code",
   "execution_count": 261,
   "id": "8d3e63ce",
   "metadata": {},
   "outputs": [],
   "source": [
    "def reverseWords(s):\n",
    "    list1 = s.split()\n",
    "    list1.reverse()\n",
    "    # list1 = list1[::-1] # Alternatively\n",
    "    str1 = \" \".join(list1)\n",
    "    return str1"
   ]
  },
  {
   "cell_type": "code",
   "execution_count": 263,
   "id": "51c5e82e",
   "metadata": {},
   "outputs": [
    {
     "name": "stdout",
     "output_type": "stream",
     "text": [
      "blue is sky The\n"
     ]
    }
   ],
   "source": [
    "# Test Case 1\n",
    "text1 = \"The sky is blue\"\n",
    "print(reverseWords(text1))"
   ]
  },
  {
   "cell_type": "code",
   "execution_count": 264,
   "id": "84fbfe8f",
   "metadata": {},
   "outputs": [
    {
     "name": "stdout",
     "output_type": "stream",
     "text": [
      "world hello\n"
     ]
    }
   ],
   "source": [
    "# Test Case 2\n",
    "text2 = \"  hello world  \"\n",
    "print(reverseWords(text2))"
   ]
  }
 ],
 "metadata": {
  "kernelspec": {
   "display_name": "Python 3 (ipykernel)",
   "language": "python",
   "name": "python3"
  },
  "language_info": {
   "codemirror_mode": {
    "name": "ipython",
    "version": 3
   },
   "file_extension": ".py",
   "mimetype": "text/x-python",
   "name": "python",
   "nbconvert_exporter": "python",
   "pygments_lexer": "ipython3",
   "version": "3.10.9"
  }
 },
 "nbformat": 4,
 "nbformat_minor": 5
}
