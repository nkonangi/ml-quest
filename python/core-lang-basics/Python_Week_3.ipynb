{
 "cells": [
  {
   "cell_type": "markdown",
   "id": "93bf79a9",
   "metadata": {},
   "source": [
    "# Python Fundamentals - Week 3"
   ]
  },
  {
   "cell_type": "markdown",
   "id": "5d6c3e7a",
   "metadata": {},
   "source": [
    "### Scope of Variables"
   ]
  },
  {
   "cell_type": "markdown",
   "id": "32b9217a",
   "metadata": {},
   "source": [
    "#### Class Activity"
   ]
  },
  {
   "cell_type": "markdown",
   "id": "3ae1982f",
   "metadata": {},
   "source": [
    "#### Local Variables"
   ]
  },
  {
   "cell_type": "markdown",
   "id": "d6b40f9a",
   "metadata": {},
   "source": [
    "What is the output of the code below:"
   ]
  },
  {
   "cell_type": "code",
   "execution_count": 1,
   "id": "2e64a0de",
   "metadata": {},
   "outputs": [
    {
     "ename": "NameError",
     "evalue": "name 'local_var' is not defined",
     "output_type": "error",
     "traceback": [
      "\u001b[0;31m---------------------------------------------------------------------------\u001b[0m",
      "\u001b[0;31mNameError\u001b[0m                                 Traceback (most recent call last)",
      "Cell \u001b[0;32mIn[1], line 6\u001b[0m\n\u001b[1;32m      3\u001b[0m     \u001b[38;5;28mprint\u001b[39m(local_var)\n\u001b[1;32m      5\u001b[0m my_var \u001b[38;5;241m=\u001b[39m \u001b[38;5;241m6\u001b[39m \u001b[38;5;66;03m# global variable\u001b[39;00m\n\u001b[0;32m----> 6\u001b[0m example_function()\n\u001b[1;32m      7\u001b[0m \u001b[38;5;28mprint\u001b[39m(local_var)\n",
      "Cell \u001b[0;32mIn[1], line 3\u001b[0m, in \u001b[0;36mexample_function\u001b[0;34m()\u001b[0m\n\u001b[1;32m      1\u001b[0m \u001b[38;5;28;01mdef\u001b[39;00m \u001b[38;5;21mexample_function\u001b[39m():\n\u001b[1;32m      2\u001b[0m     my_var \u001b[38;5;241m=\u001b[39m \u001b[38;5;241m5\u001b[39m \u001b[38;5;66;03m# local variable\u001b[39;00m\n\u001b[0;32m----> 3\u001b[0m     \u001b[38;5;28mprint\u001b[39m(local_var)\n",
      "\u001b[0;31mNameError\u001b[0m: name 'local_var' is not defined"
     ]
    }
   ],
   "source": [
    "def example_function():\n",
    "    my_var = 5 # local variable\n",
    "    print(local_var)\n",
    "\n",
    "my_var = 6 # global variable\n",
    "example_function()\n",
    "print(local_var)"
   ]
  },
  {
   "cell_type": "markdown",
   "id": "e544f3d0",
   "metadata": {},
   "source": [
    "#### Nonlocal Variables"
   ]
  },
  {
   "cell_type": "markdown",
   "id": "7b408e2a",
   "metadata": {},
   "source": [
    "What is the output of the code below:"
   ]
  },
  {
   "cell_type": "code",
   "execution_count": null,
   "id": "33a9f933",
   "metadata": {},
   "outputs": [],
   "source": [
    "def outer_function():\n",
    "    nonlocal_var = 10\n",
    "    \n",
    "    def inner_function():\n",
    "#         nonlocal nonlocal_var\n",
    "#         nonlocal_var = 5\n",
    "#         print(nonlocal_var)\n",
    "        def new_function():\n",
    "            nonlocal nonlocal_var\n",
    "            nonlocal_var += 5\n",
    "            print(nonlocal_var)\n",
    "        \n",
    "        new_function()\n",
    "            \n",
    "    inner_function()\n",
    "    print(nonlocal_var)\n",
    "\n",
    "outer_function()"
   ]
  },
  {
   "cell_type": "markdown",
   "id": "d0a4acad",
   "metadata": {},
   "source": [
    "#### Global Variables"
   ]
  },
  {
   "cell_type": "markdown",
   "id": "f1e9824c",
   "metadata": {},
   "source": [
    "What is the output of the code below:"
   ]
  },
  {
   "cell_type": "code",
   "execution_count": null,
   "id": "095d61a6",
   "metadata": {},
   "outputs": [],
   "source": [
    "global_var = 20\n",
    "\n",
    "def example_function():\n",
    "    global global_var\n",
    "    global_var += 5\n",
    "\n",
    "print(global_var)\n",
    "example_function()\n",
    "print(global_var)"
   ]
  },
  {
   "cell_type": "markdown",
   "id": "2d65ff74",
   "metadata": {},
   "source": [
    "### OOP Concepts"
   ]
  },
  {
   "cell_type": "markdown",
   "id": "7eb55684",
   "metadata": {},
   "source": [
    "#### Create a New Class"
   ]
  },
  {
   "cell_type": "code",
   "execution_count": null,
   "id": "da75ff36",
   "metadata": {},
   "outputs": [],
   "source": [
    "# Create a new class\n",
    "class Student:\n",
    "    \n",
    "    # Define a constructor\n",
    "    def __init__(self, name):\n",
    "        self.name = name # Define an attribute\n",
    "        \n",
    "    # Define a method\n",
    "    def study(self):\n",
    "        print(self.name, \"is studying\")"
   ]
  },
  {
   "cell_type": "code",
   "execution_count": null,
   "id": "1db1dba1",
   "metadata": {},
   "outputs": [],
   "source": [
    "student1 = Student(\"John\")"
   ]
  },
  {
   "cell_type": "code",
   "execution_count": null,
   "id": "24c8a13a",
   "metadata": {},
   "outputs": [],
   "source": [
    "print(type(student1))"
   ]
  },
  {
   "cell_type": "code",
   "execution_count": null,
   "id": "6db50152",
   "metadata": {},
   "outputs": [],
   "source": [
    "student1.study()"
   ]
  },
  {
   "cell_type": "code",
   "execution_count": null,
   "id": "850b5486",
   "metadata": {},
   "outputs": [],
   "source": [
    "student1.name"
   ]
  },
  {
   "cell_type": "code",
   "execution_count": null,
   "id": "d42c5900",
   "metadata": {},
   "outputs": [],
   "source": [
    "student2 = Student(\"Mary\")"
   ]
  },
  {
   "cell_type": "code",
   "execution_count": null,
   "id": "c58760df",
   "metadata": {},
   "outputs": [],
   "source": [
    "student2.study()"
   ]
  },
  {
   "cell_type": "code",
   "execution_count": null,
   "id": "70140dff",
   "metadata": {},
   "outputs": [],
   "source": [
    "student2.name"
   ]
  },
  {
   "cell_type": "markdown",
   "id": "b4b580cf",
   "metadata": {},
   "source": [
    "#### Class (Cont.)"
   ]
  },
  {
   "cell_type": "code",
   "execution_count": null,
   "id": "9e12c665",
   "metadata": {},
   "outputs": [],
   "source": [
    "class Dog:\n",
    "    \n",
    "    def __init__(self, name, age, weight):\n",
    "        self.name = name\n",
    "        self.age = age\n",
    "        self.weight = weight\n",
    "        print(\"Created a new dog object named\", name)\n",
    "    \n",
    "    def walk(self):\n",
    "        print(\"I am walking\", self.name)\n",
    "        \n",
    "    def weigh(self):\n",
    "        print(self.name + \"'s weight is \" + str(self.weight))\n",
    "        \n",
    "    def __repr__(self):\n",
    "        return \"(Name: \" + self.name + \", Age: \" + str(self.age) + \", Weight: \" + str(self.weight) + \")\""
   ]
  },
  {
   "cell_type": "code",
   "execution_count": null,
   "id": "6c58337c",
   "metadata": {},
   "outputs": [],
   "source": [
    "dog1 = Dog(\"Sky\", 6, 5)"
   ]
  },
  {
   "cell_type": "code",
   "execution_count": null,
   "id": "0994ba61",
   "metadata": {},
   "outputs": [],
   "source": [
    "dog1.walk()"
   ]
  },
  {
   "cell_type": "code",
   "execution_count": null,
   "id": "a3d2d87c",
   "metadata": {},
   "outputs": [],
   "source": [
    "dog1.weigh()"
   ]
  },
  {
   "cell_type": "code",
   "execution_count": null,
   "id": "5ce4810c",
   "metadata": {},
   "outputs": [],
   "source": [
    "print(dog1)"
   ]
  },
  {
   "cell_type": "code",
   "execution_count": null,
   "id": "47a06cdd",
   "metadata": {},
   "outputs": [],
   "source": [
    "dog2 = Dog(\"Sheru\", 12, 10)"
   ]
  },
  {
   "cell_type": "code",
   "execution_count": null,
   "id": "c041a139",
   "metadata": {},
   "outputs": [],
   "source": [
    "dog2.walk()\n",
    "dog2.weigh()"
   ]
  },
  {
   "cell_type": "code",
   "execution_count": null,
   "id": "daba5161",
   "metadata": {},
   "outputs": [],
   "source": [
    "my_list = []\n",
    "my_list.append(dog1)\n",
    "my_list.append(dog2)"
   ]
  },
  {
   "cell_type": "code",
   "execution_count": null,
   "id": "72ef4dc2",
   "metadata": {},
   "outputs": [],
   "source": [
    "my_list.append(\"DOGS\")"
   ]
  },
  {
   "cell_type": "code",
   "execution_count": null,
   "id": "0d318efe",
   "metadata": {},
   "outputs": [],
   "source": [
    "my_list"
   ]
  },
  {
   "cell_type": "markdown",
   "id": "39229cd1",
   "metadata": {},
   "source": [
    "For more on built-in methods:\n",
    "- https://medium.com/@moraneus/pythons-power-with-built-in-class-methods-classmethod-and-staticmethod-2c1d61255017\n",
    "- https://stackoverflow.com/questions/1418825/where-is-the-python-documentation-for-the-special-methods-init-new"
   ]
  },
  {
   "cell_type": "markdown",
   "id": "0299adce",
   "metadata": {},
   "source": [
    "#### Class Activity"
   ]
  },
  {
   "cell_type": "code",
   "execution_count": null,
   "id": "d9ec7018",
   "metadata": {},
   "outputs": [],
   "source": [
    "class Student:\n",
    "    \n",
    "    # Constructor\n",
    "    def __init__(self, ID, name, gpa):\n",
    "        self.ID = ID\n",
    "        self.name = name\n",
    "        self.gpa = gpa\n",
    "    \n",
    "    # Representation\n",
    "    def __repr__(self):\n",
    "        return \"Student = \" + self.name\n",
    "    \n",
    "\n",
    "class Course:\n",
    "    \n",
    "    # Constructor\n",
    "    def __init__(self, name):\n",
    "        self.name = name\n",
    "        self.list_of_students = []\n",
    "    \n",
    "    \n",
    "    # Write a method to enroll students\n",
    "    def add_a_student(self, student_obj):\n",
    "        self.list_of_students.append(student_obj)\n",
    "    \n",
    "    \n",
    "    # Write a method to find the top student (from their gpa) --> return top_student\n",
    "    def find_top(self):\n",
    "        max_gpa = 0\n",
    "        top_student = None\n",
    "        for student in self.list_of_students:\n",
    "            if student.gpa > max_gpa:\n",
    "                max_gpa = student.gpa\n",
    "                top_student = student\n",
    "        return top_student   \n",
    "        "
   ]
  },
  {
   "cell_type": "code",
   "execution_count": null,
   "id": "029dc882",
   "metadata": {
    "scrolled": true
   },
   "outputs": [],
   "source": [
    "student_A = Student(12, \"Mary\", 4)\n",
    "student_B = Student(213, \"Bob\", 3)\n",
    "student_C = Student(47, \"Jill\", 2.5)\n",
    "\n",
    "math_course = Course(\"Math\")"
   ]
  },
  {
   "cell_type": "code",
   "execution_count": null,
   "id": "5dfeee18",
   "metadata": {},
   "outputs": [],
   "source": [
    "math_course.add_a_student(student_A)\n",
    "math_course.add_a_student(student_B)\n",
    "math_course.add_a_student(student_C)"
   ]
  },
  {
   "cell_type": "code",
   "execution_count": null,
   "id": "36077b65",
   "metadata": {},
   "outputs": [],
   "source": [
    "print(math_course.list_of_students)"
   ]
  },
  {
   "cell_type": "code",
   "execution_count": null,
   "id": "57f9e6b9",
   "metadata": {},
   "outputs": [],
   "source": [
    "top_student = math_course.find_top()"
   ]
  },
  {
   "cell_type": "code",
   "execution_count": null,
   "id": "eb05b2cb",
   "metadata": {},
   "outputs": [],
   "source": [
    "print(top_student)"
   ]
  },
  {
   "cell_type": "code",
   "execution_count": null,
   "id": "b421ec63",
   "metadata": {},
   "outputs": [],
   "source": [
    "print(\"The top student is \" + top_student.name + \" with GPA = \" + str(top_student.gpa) + \" and student ID = \" + str(top_student.ID))"
   ]
  },
  {
   "cell_type": "markdown",
   "id": "2bd3ff94",
   "metadata": {},
   "source": [
    "#### Some Attributes Methods"
   ]
  },
  {
   "cell_type": "code",
   "execution_count": null,
   "id": "fdc8f3d1",
   "metadata": {},
   "outputs": [],
   "source": [
    "class Employee:\n",
    "    \n",
    "    # Constructor\n",
    "    def __init__(self, name, salary):\n",
    "        self.name = name\n",
    "        self.salary = salary\n",
    "        \n",
    "    # Representation\n",
    "    def __repr__(self):\n",
    "        return '{' + self.name + ', ' + str(self.salary) + '}'\n",
    "\n",
    "    \n",
    "employee1 = Employee(\"Matt\", 2000)"
   ]
  },
  {
   "cell_type": "code",
   "execution_count": null,
   "id": "c3594c7d",
   "metadata": {},
   "outputs": [],
   "source": [
    "# Check existence of an attribute\n",
    "hasattr(employee1, 'salary')"
   ]
  },
  {
   "cell_type": "code",
   "execution_count": null,
   "id": "65eac42a",
   "metadata": {},
   "outputs": [],
   "source": [
    "# Get the value of an attribute\n",
    "getattr(employee1, 'salary')"
   ]
  },
  {
   "cell_type": "code",
   "execution_count": null,
   "id": "ee3c528c",
   "metadata": {},
   "outputs": [],
   "source": [
    "# Set the value of an attribute\n",
    "setattr(employee1, 'salary', 7000)\n",
    "getattr(employee1, 'salary')"
   ]
  },
  {
   "cell_type": "code",
   "execution_count": null,
   "id": "acffe3a5",
   "metadata": {},
   "outputs": [],
   "source": [
    "# Delete an attribute\n",
    "delattr(employee1, 'salary')\n",
    "getattr(employee1, 'salary')"
   ]
  },
  {
   "cell_type": "markdown",
   "id": "999629b2",
   "metadata": {},
   "source": [
    "#### Inheritance"
   ]
  },
  {
   "cell_type": "code",
   "execution_count": null,
   "id": "4470fcd2",
   "metadata": {},
   "outputs": [],
   "source": [
    "class Book:\n",
    "    \n",
    "    def __init__(self, title, quantity, author, price):\n",
    "        self.title = title\n",
    "        self.quantity = quantity\n",
    "        self.author = author\n",
    "        self.price = price\n",
    "        self.discount = None\n",
    "        \n",
    "    def set_discount(self, discount):\n",
    "        self.discount = discount\n",
    "        \n",
    "    def get_price(self):\n",
    "        if self.discount:\n",
    "            return self.price * (1-self.discount)\n",
    "        return self.price\n",
    "\n",
    "    def __repr__(self):\n",
    "        return f\"Book: {self.title}, Quantity: {self.quantity}, Author: {self.author}, Price: {self.get_price()}\"\n",
    "\n",
    "    \n",
    "    \n",
    "# New class that inherits from Book\n",
    "class Novel(Book):\n",
    "    \n",
    "    def __init__(self, title, quantity, author, price, genre):\n",
    "        super().__init__(title, quantity, author, price)\n",
    "        self.genre = genre\n",
    "        \n",
    "        \n",
    "        \n",
    "# Another class that inherits from Book\n",
    "class Academic(Book):\n",
    "    \n",
    "    def __init__(self, title, quantity, author, price, branch):\n",
    "        super().__init__(title, quantity, author, price)\n",
    "        self.branch = branch"
   ]
  },
  {
   "cell_type": "code",
   "execution_count": null,
   "id": "14fcbb30",
   "metadata": {},
   "outputs": [],
   "source": [
    "novel1 = Novel('2 States', 20, 'Matt W', 80, 'Fiction')\n",
    "novel1.set_discount(0.20)\n",
    "print(novel1)"
   ]
  },
  {
   "cell_type": "code",
   "execution_count": null,
   "id": "48b5d685",
   "metadata": {},
   "outputs": [],
   "source": [
    "academic1 = Academic('Python Foundations', 12, 'P. Sulzberg', 60, 'Tech')\n",
    "print(academic1)"
   ]
  },
  {
   "cell_type": "markdown",
   "id": "eac5147d",
   "metadata": {},
   "source": [
    "#### Multiple Inheritance"
   ]
  },
  {
   "cell_type": "code",
   "execution_count": null,
   "id": "e286c445",
   "metadata": {},
   "outputs": [],
   "source": [
    "class A:\n",
    "    def method_a(self):\n",
    "        print(\"Method A from class A\")\n",
    "\n",
    "class B:\n",
    "    def method_b(self):\n",
    "        print(\"Method B from class B\")\n",
    "\n",
    "class C(A, B):\n",
    "    def method_c(self):\n",
    "        print(\"Method C from class C\")\n",
    "\n",
    "# Creating an object of class C\n",
    "obj = C()\n",
    "\n",
    "# Calling methods inherited from class A\n",
    "obj.method_a()  # Output: Method A from class A\n",
    "\n",
    "# Calling methods inherited from class B\n",
    "obj.method_b()  # Output: Method B from class B\n",
    "\n",
    "# Calling method defined in class C\n",
    "obj.method_c()  # Output: Method C from class C"
   ]
  },
  {
   "cell_type": "markdown",
   "id": "24a9c4a1",
   "metadata": {},
   "source": [
    "#### Encapsulation"
   ]
  },
  {
   "cell_type": "code",
   "execution_count": null,
   "id": "df15aacf",
   "metadata": {},
   "outputs": [],
   "source": [
    "# Public\n",
    "class MyClass:\n",
    "    def __init__(self):\n",
    "        self.public_attribute = 42\n",
    "\n",
    "    def public_method(self):\n",
    "        return \"This is a public method\"\n",
    "\n",
    "obj = MyClass()\n",
    "\n",
    "print(obj.public_attribute)  # Accessing a public attribute\n",
    "print(obj.public_method())   # Accessing a public method"
   ]
  },
  {
   "cell_type": "code",
   "execution_count": null,
   "id": "687b3c71",
   "metadata": {},
   "outputs": [],
   "source": [
    "# Protected\n",
    "class MyClass:\n",
    "    def __init__(self):\n",
    "        self._protected_attribute = 42\n",
    "\n",
    "    def _protected_method(self):\n",
    "        return \"This is a protected method\"\n",
    "\n",
    "obj = MyClass()\n",
    "\n",
    "print(obj._protected_attribute)  # Accessing a protected attribute (not recommended)\n",
    "print(obj._protected_method())   # Accessing a protected method (not recommended)"
   ]
  },
  {
   "cell_type": "code",
   "execution_count": null,
   "id": "3690770d",
   "metadata": {},
   "outputs": [],
   "source": [
    "# Private\n",
    "class MyClass:\n",
    "    def __init__(self):\n",
    "        self.__private_attribute = 42\n",
    "\n",
    "    def __private_method(self):\n",
    "        return \"This is a private method\"\n",
    "\n",
    "obj = MyClass()\n",
    "\n",
    "# Attempting to access a private attribute or method directly will result in an AttributeError.\n",
    "print(obj.__private_attribute)  # This will raise an AttributeError\n",
    "print(obj.__private_method())   # This will raise an AttributeError"
   ]
  },
  {
   "cell_type": "markdown",
   "id": "d220574a",
   "metadata": {},
   "source": [
    "#### Getters and Setters"
   ]
  },
  {
   "cell_type": "code",
   "execution_count": null,
   "id": "48e6c8ca",
   "metadata": {},
   "outputs": [],
   "source": [
    "# Getters and Setters (enforce rules and validation logic)\n",
    "class Person:\n",
    "\n",
    "    def __init__(self, name, age):\n",
    "        self.name = name # public attribute\n",
    "        self.__age = age  # private attribute\n",
    "        \n",
    "    # getter method\n",
    "    def get_age(self):\n",
    "        if (self.__age < 0):\n",
    "            print(\"This is not a valid age\")\n",
    "            return -1\n",
    "        return self.__age\n",
    "\n",
    "    # setter method\n",
    "    def set_age(self, x):\n",
    "        if x < 0:\n",
    "            self.__age = 0\n",
    "        self.__age = x"
   ]
  },
  {
   "cell_type": "code",
   "execution_count": null,
   "id": "e196470b",
   "metadata": {},
   "outputs": [],
   "source": [
    "p1 = Person(\"Matt\", 20)\n",
    "\n",
    "# retrieving age using getter\n",
    "print(p1.get_age())"
   ]
  },
  {
   "cell_type": "code",
   "execution_count": null,
   "id": "a08cbb90",
   "metadata": {},
   "outputs": [],
   "source": [
    "# setting the age using setter\n",
    "p1.set_age(-10)\n",
    "\n",
    "# retrieving age using getter\n",
    "print(p1.get_age())"
   ]
  },
  {
   "cell_type": "markdown",
   "id": "cdcca977",
   "metadata": {},
   "source": [
    "#### Polymorphism"
   ]
  },
  {
   "cell_type": "code",
   "execution_count": null,
   "id": "cd2dcb3e",
   "metadata": {},
   "outputs": [],
   "source": [
    "class Shape:\n",
    "    \n",
    "    def area(self):\n",
    "        pass\n",
    "    \n",
    "\n",
    "class Circle(Shape):\n",
    "    \n",
    "    def __init__(self, radius):\n",
    "        self.radius = radius\n",
    "\n",
    "    def area(self):\n",
    "        return 3.14159 * self.radius ** 2\n",
    "\n",
    "    \n",
    "class Rectangle(Shape):\n",
    "    def __init__(self, width, height):\n",
    "        self.width = width\n",
    "        self.height = height\n",
    "\n",
    "    def area(self):\n",
    "        return self.width * self.height\n",
    "\n",
    "    \n",
    "def calculate_area(shape):\n",
    "    return shape.area()"
   ]
  },
  {
   "cell_type": "code",
   "execution_count": null,
   "id": "826e8f98",
   "metadata": {},
   "outputs": [],
   "source": [
    "# Create instances of Circle and Rectangle\n",
    "my_circle = Circle(5)\n",
    "my_rectangle = Rectangle(4, 6)\n",
    "\n",
    "\n",
    "# Calculate and print areas using polymorphism\n",
    "print(f\"Circle Area: {calculate_area(my_circle)}\")\n",
    "print(f\"Rectangle Area: {calculate_area(my_rectangle)}\")"
   ]
  },
  {
   "cell_type": "markdown",
   "id": "c47b4a22",
   "metadata": {},
   "source": [
    "### Class Activity (Leetcode Problem)"
   ]
  },
  {
   "cell_type": "code",
   "execution_count": null,
   "id": "1312991d",
   "metadata": {},
   "outputs": [],
   "source": [
    "class MyHashMap:\n",
    "      \n",
    "    def __init__(self):\n",
    "        self.my_list = []\n",
    "        \n",
    "    \n",
    "    def put(self, key:int, value:int) -> None:\n",
    "        \n",
    "        for pair in self.my_list:\n",
    "            if key == pair[0]:\n",
    "                pair[1] = value\n",
    "                return\n",
    "        \n",
    "        pair = [key, value]\n",
    "        self.my_list.append(pair)\n",
    "        \n",
    "    \n",
    "    def get(self, key:int) -> int:\n",
    "        \n",
    "        for pair in self.my_list:\n",
    "            if key == pair[0]:\n",
    "                return pair[1]\n",
    "        \n",
    "        return -1\n",
    "    \n",
    "    \n",
    "    def remove(self, key:int) -> None:\n",
    "        \n",
    "        for pair in self.my_list:\n",
    "            if key == pair[0]:\n",
    "                self.my_list.remove(pair)\n",
    "                return"
   ]
  },
  {
   "cell_type": "code",
   "execution_count": null,
   "id": "dd091e41",
   "metadata": {},
   "outputs": [],
   "source": [
    "myHashMap = MyHashMap()\n",
    "\n",
    "print(myHashMap.my_list)"
   ]
  },
  {
   "cell_type": "code",
   "execution_count": null,
   "id": "f74b14a1",
   "metadata": {},
   "outputs": [],
   "source": [
    "myHashMap.put(1, 1)\n",
    "print(myHashMap.my_list)"
   ]
  },
  {
   "cell_type": "code",
   "execution_count": null,
   "id": "40e88901",
   "metadata": {},
   "outputs": [],
   "source": [
    "myHashMap.put(2, 2)\n",
    "print(myHashMap.my_list)"
   ]
  },
  {
   "cell_type": "code",
   "execution_count": null,
   "id": "df9cb043",
   "metadata": {},
   "outputs": [],
   "source": [
    "print(myHashMap.get(1))\n",
    "print(myHashMap.get(2))\n",
    "print(myHashMap.get(3))"
   ]
  },
  {
   "cell_type": "code",
   "execution_count": null,
   "id": "42de6032",
   "metadata": {},
   "outputs": [],
   "source": [
    "myHashMap.put(2, 1)\n",
    "print(myHashMap.my_list)"
   ]
  },
  {
   "cell_type": "code",
   "execution_count": null,
   "id": "8ea1e5f3",
   "metadata": {},
   "outputs": [],
   "source": [
    "print(myHashMap.get(2))"
   ]
  },
  {
   "cell_type": "code",
   "execution_count": null,
   "id": "840f914d",
   "metadata": {},
   "outputs": [],
   "source": [
    "myHashMap.remove(2)\n",
    "print(myHashMap.my_list)"
   ]
  },
  {
   "cell_type": "code",
   "execution_count": null,
   "id": "e348a1b2",
   "metadata": {
    "scrolled": true
   },
   "outputs": [],
   "source": [
    "print(myHashMap.get(2))"
   ]
  },
  {
   "cell_type": "markdown",
   "id": "0f4e5774",
   "metadata": {},
   "source": [
    "### Sort Functions"
   ]
  },
  {
   "cell_type": "markdown",
   "id": "9a0a09e9",
   "metadata": {},
   "source": [
    "#### sorted() vs .sort()"
   ]
  },
  {
   "cell_type": "code",
   "execution_count": null,
   "id": "bdde5e84",
   "metadata": {
    "scrolled": true
   },
   "outputs": [],
   "source": [
    "numbers = [4, 2, 9, 1, 5]\n",
    "\n",
    "sorted(numbers)\n",
    "\n",
    "print(numbers)"
   ]
  },
  {
   "cell_type": "code",
   "execution_count": null,
   "id": "d61daf21",
   "metadata": {},
   "outputs": [],
   "source": [
    "sorted_numbers = sorted(numbers)\n",
    "\n",
    "print(sorted_numbers)\n",
    "print(numbers)"
   ]
  },
  {
   "cell_type": "code",
   "execution_count": null,
   "id": "0cdd73a6",
   "metadata": {},
   "outputs": [],
   "source": [
    "print(numbers)\n",
    "\n",
    "numbers.sort()\n",
    "\n",
    "print(numbers)"
   ]
  },
  {
   "cell_type": "code",
   "execution_count": null,
   "id": "9212c8f3",
   "metadata": {},
   "outputs": [],
   "source": [
    "print(numbers.sort())"
   ]
  },
  {
   "cell_type": "markdown",
   "id": "3688eb1c",
   "metadata": {},
   "source": [
    "#### key / reverse"
   ]
  },
  {
   "cell_type": "code",
   "execution_count": null,
   "id": "9a93292b",
   "metadata": {},
   "outputs": [],
   "source": [
    "words = [\"apple\", \"banana\", \"cherry\", \"date\", \"fig\", \"bananas\"]"
   ]
  },
  {
   "cell_type": "code",
   "execution_count": null,
   "id": "e5faa00f",
   "metadata": {},
   "outputs": [],
   "source": [
    "# sort based on length\n",
    "sorted_words = sorted(words, key=len)\n",
    "print(sorted_words)"
   ]
  },
  {
   "cell_type": "code",
   "execution_count": null,
   "id": "18b32560",
   "metadata": {},
   "outputs": [],
   "source": [
    "# sort based on length in reverse order\n",
    "sorted_words = sorted(words, key=len, reverse=True)\n",
    "print(sorted_words)"
   ]
  },
  {
   "cell_type": "code",
   "execution_count": null,
   "id": "f2b080f7",
   "metadata": {},
   "outputs": [],
   "source": [
    "# sort based on the second letter\n",
    "sorted_words2 = sorted(words, key=lambda x: (x[1], x[0]))\n",
    "print(sorted_words2)"
   ]
  },
  {
   "cell_type": "markdown",
   "id": "cd8b5131",
   "metadata": {},
   "source": [
    "#### Exercise"
   ]
  },
  {
   "cell_type": "markdown",
   "id": "3ec623d1",
   "metadata": {},
   "source": [
    "What are the outputs to the following sorts:"
   ]
  },
  {
   "cell_type": "code",
   "execution_count": null,
   "id": "763f70ee",
   "metadata": {},
   "outputs": [],
   "source": [
    "points = [[1,2], [0,4], [6, 3, 2], [1, 3, 1]]\n",
    "\n",
    "sorted_points1 = sorted(points)\n",
    "print(sorted_points1)\n",
    "\n",
    "sorted_points2 = sorted(points, key=lambda x: (x[1]))\n",
    "print(sorted_points2)\n",
    "\n",
    "sorted_points3 = sorted(points, key=lambda x: (x[1], x[0]), reverse=True)\n",
    "print(sorted_points3)"
   ]
  },
  {
   "cell_type": "markdown",
   "id": "26be0e8e",
   "metadata": {},
   "source": [
    "#### Question in the Class: Trick to sort in different directions"
   ]
  },
  {
   "cell_type": "code",
   "execution_count": null,
   "id": "b3f795d4",
   "metadata": {},
   "outputs": [],
   "source": [
    "sorting_directions = [True, False]\n",
    "\n",
    "sorted_points4 = sorted(points, key=lambda x: tuple(-x[i] if reverse else x[i] for i, reverse in enumerate(sorting_directions)))\n",
    "\n",
    "print(sorted_points4)"
   ]
  },
  {
   "cell_type": "markdown",
   "id": "872ca3cc",
   "metadata": {},
   "source": [
    "#### Question in Class: Sorting for even numbers first and then odd numbers in the list"
   ]
  },
  {
   "cell_type": "code",
   "execution_count": null,
   "id": "faa3bd2d",
   "metadata": {},
   "outputs": [],
   "source": [
    "data = [5, 12, 7, 8, 3, 10]\n",
    "\n",
    "sorted_data = sorted(data, key=lambda x: (x % 2, x))\n",
    "\n",
    "print(sorted_data)"
   ]
  },
  {
   "cell_type": "markdown",
   "id": "f7cc4dee",
   "metadata": {},
   "source": [
    "#### Exercise"
   ]
  },
  {
   "cell_type": "markdown",
   "id": "51cf8b9f",
   "metadata": {},
   "source": [
    "Consider the following class:"
   ]
  },
  {
   "cell_type": "code",
   "execution_count": null,
   "id": "da40b864",
   "metadata": {},
   "outputs": [],
   "source": [
    "class Employee:\n",
    "\n",
    "    def __init__(self, name, dept, age):\n",
    "        self.name = name\n",
    "        self.dept = dept\n",
    "        self.age = age\n",
    "    \n",
    "    def __repr__(self):\n",
    "        return '{' + self.name + ', ' + self.dept + ', ' + str(self.age) + '}'\n",
    "\n",
    "employees = [\n",
    "        Employee('John', 'IT', 28),\n",
    "        Employee('Sam', 'Banking', 20),\n",
    "        Employee('Joe', 'Finance', 25)\n",
    "]"
   ]
  },
  {
   "cell_type": "code",
   "execution_count": null,
   "id": "e798f4be",
   "metadata": {
    "scrolled": true
   },
   "outputs": [],
   "source": [
    "employees"
   ]
  },
  {
   "cell_type": "markdown",
   "id": "f97bf38b",
   "metadata": {},
   "source": [
    "Sort the list based on employees names"
   ]
  },
  {
   "cell_type": "code",
   "execution_count": null,
   "id": "d73b247f",
   "metadata": {},
   "outputs": [],
   "source": [
    "employees.sort(key=lambda x: x.name)\n",
    "print(employees)"
   ]
  },
  {
   "cell_type": "markdown",
   "id": "3074bbc1",
   "metadata": {},
   "source": [
    "Sort the list based on employees ages (highest first)"
   ]
  },
  {
   "cell_type": "code",
   "execution_count": null,
   "id": "35e87b13",
   "metadata": {},
   "outputs": [],
   "source": [
    "employees.sort(key=lambda x: x.age, reverse=True)\n",
    "print(employees)"
   ]
  },
  {
   "cell_type": "markdown",
   "id": "688476b1",
   "metadata": {},
   "source": [
    "### Exception Handling"
   ]
  },
  {
   "cell_type": "markdown",
   "id": "0264ace5",
   "metadata": {},
   "source": [
    "#### Common Errors"
   ]
  },
  {
   "cell_type": "code",
   "execution_count": null,
   "id": "513db0dd",
   "metadata": {},
   "outputs": [],
   "source": [
    "# SyntaxError - Missing closing parenthesis\n",
    "print(\"Hello World\""
   ]
  },
  {
   "cell_type": "code",
   "execution_count": null,
   "id": "4edca494",
   "metadata": {},
   "outputs": [],
   "source": [
    "# TypeError - Trying to add a string and an integer\n",
    "result = \"5\" + 3"
   ]
  },
  {
   "cell_type": "code",
   "execution_count": null,
   "id": "0c9ef96d",
   "metadata": {},
   "outputs": [],
   "source": [
    "# ValueError - Converting a non-numeric string to an integer\n",
    "number_str = \"abc\"\n",
    "result = int(number_str)"
   ]
  },
  {
   "cell_type": "code",
   "execution_count": null,
   "id": "b756d772",
   "metadata": {},
   "outputs": [],
   "source": [
    "# FileNotFoundError - Trying to open a non-existent file\n",
    "file_path = \"non_existent_file.txt\"\n",
    "with open(file_path, \"r\") as file:\n",
    "    content = file.read()"
   ]
  },
  {
   "cell_type": "markdown",
   "id": "935eac4e",
   "metadata": {},
   "source": [
    "#### try / except"
   ]
  },
  {
   "cell_type": "code",
   "execution_count": null,
   "id": "576eedd4",
   "metadata": {},
   "outputs": [],
   "source": [
    "a = 5\n",
    "b = 0\n",
    "\n",
    "try:\n",
    "    print(a / b)\n",
    "except:\n",
    "    print(\"Cannot divide by zero!\")\n",
    "    \n",
    "print(\"Completed!\")"
   ]
  },
  {
   "cell_type": "code",
   "execution_count": null,
   "id": "01f34937",
   "metadata": {},
   "outputs": [],
   "source": [
    "x = 2\n",
    "\n",
    "try:\n",
    "    y += 3\n",
    "\n",
    "#     x += \"abc\"\n",
    "\n",
    "#     x += 2\n",
    "#     print(x)\n",
    "\n",
    "except Exception as e:\n",
    "    \n",
    "    print(\"Oops! something went wrong\")\n",
    "    print(type(e))\n",
    "    print(e)\n",
    "    \n",
    "print(\"\\nThis line is printed anyways\")"
   ]
  },
  {
   "cell_type": "markdown",
   "id": "06accc56",
   "metadata": {},
   "source": [
    "#### Raise an error"
   ]
  },
  {
   "cell_type": "code",
   "execution_count": null,
   "id": "3dbe46c3",
   "metadata": {},
   "outputs": [],
   "source": [
    "# Using raise\n",
    "def divide(a, b):\n",
    "    if b == 0:\n",
    "        raise Exception (\"Cannot divide by zero\")\n",
    "    return a / b"
   ]
  },
  {
   "cell_type": "code",
   "execution_count": null,
   "id": "193e30b2",
   "metadata": {},
   "outputs": [],
   "source": [
    "try:\n",
    "#     result = divide(10, 2)\n",
    "    result = divide(10, 0)\n",
    "    print(result)\n",
    "except Exception as e:\n",
    "    print(type(e))\n",
    "    print(e)"
   ]
  },
  {
   "cell_type": "markdown",
   "id": "d766eed0",
   "metadata": {},
   "source": [
    "#### Multiple Exceptions"
   ]
  },
  {
   "cell_type": "code",
   "execution_count": null,
   "id": "c0f79bc1",
   "metadata": {},
   "outputs": [],
   "source": [
    "# Catching Specific Exceptions in Python\n",
    "try:\n",
    "    # Case 1\n",
    "#     even_numbers = [2, 4, 6, 8]\n",
    "#     print(even_numbers[5])\n",
    "    \n",
    "    # Case 2\n",
    "    x = 5 / 0\n",
    "    \n",
    "except IndexError:\n",
    "    print(\"Index Out of Bound.\")\n",
    "\n",
    "except ZeroDivisionError:\n",
    "    print(\"Denominator cannot be 0.\")"
   ]
  },
  {
   "cell_type": "markdown",
   "id": "a0bfe0ac",
   "metadata": {},
   "source": [
    "#### try / except / else"
   ]
  },
  {
   "cell_type": "code",
   "execution_count": null,
   "id": "8ae684bf",
   "metadata": {},
   "outputs": [],
   "source": [
    "# Use else after except\n",
    "\n",
    "try:\n",
    "    num = int(input(\"Enter an even number: \"))\n",
    "    assert num % 2 == 0\n",
    "except:\n",
    "    print(\"\\nNot an even number!\")\n",
    "else:\n",
    "    reciprocal = 1/num\n",
    "    print()\n",
    "    print(reciprocal)\n",
    "finally:\n",
    "    print(\"\\nRun Completed!\")"
   ]
  },
  {
   "cell_type": "markdown",
   "id": "b42a1ebf",
   "metadata": {},
   "source": [
    "#### Custom Exception\n"
   ]
  },
  {
   "cell_type": "code",
   "execution_count": null,
   "id": "23fb1ede",
   "metadata": {
    "scrolled": true
   },
   "outputs": [],
   "source": [
    "# Create Custom Exception\n",
    "class CustomError(Exception):\n",
    "\n",
    "    def __init__(self, message):\n",
    "        self.message = message"
   ]
  },
  {
   "cell_type": "code",
   "execution_count": null,
   "id": "52eb860d",
   "metadata": {},
   "outputs": [],
   "source": [
    "try:\n",
    "    raise CustomError(\"This is a custom error!\")\n",
    "    \n",
    "except Exception as e:\n",
    "    print(type(e))\n",
    "    print(e.message)"
   ]
  },
  {
   "cell_type": "markdown",
   "id": "74222603",
   "metadata": {},
   "source": [
    "### File Handling"
   ]
  },
  {
   "cell_type": "markdown",
   "id": "f6736eee",
   "metadata": {},
   "source": [
    "#### Read file - 1"
   ]
  },
  {
   "cell_type": "code",
   "execution_count": null,
   "id": "693f9ea0",
   "metadata": {},
   "outputs": [],
   "source": [
    "file = open(\"test1.txt\", \"r\")"
   ]
  },
  {
   "cell_type": "code",
   "execution_count": null,
   "id": "4a5a9fc0",
   "metadata": {},
   "outputs": [],
   "source": [
    "content = file.read()"
   ]
  },
  {
   "cell_type": "code",
   "execution_count": null,
   "id": "ea7bd1a1",
   "metadata": {
    "scrolled": true
   },
   "outputs": [],
   "source": [
    "print(type(content))\n",
    "print()\n",
    "print(content)"
   ]
  },
  {
   "cell_type": "code",
   "execution_count": null,
   "id": "87ea6c16",
   "metadata": {},
   "outputs": [],
   "source": [
    "file.close()"
   ]
  },
  {
   "cell_type": "code",
   "execution_count": null,
   "id": "0279850f",
   "metadata": {},
   "outputs": [],
   "source": [
    "content = file.read()"
   ]
  },
  {
   "cell_type": "markdown",
   "id": "0344afc4",
   "metadata": {},
   "source": [
    "#### Read file - 2"
   ]
  },
  {
   "cell_type": "code",
   "execution_count": null,
   "id": "82a2903c",
   "metadata": {},
   "outputs": [],
   "source": [
    "with open(\"test1.txt\", \"r\") as file:\n",
    "    content = file.read()\n",
    "    print(content)"
   ]
  },
  {
   "cell_type": "markdown",
   "id": "90d3d905",
   "metadata": {},
   "source": [
    "#### readline()"
   ]
  },
  {
   "cell_type": "code",
   "execution_count": null,
   "id": "c413651e",
   "metadata": {},
   "outputs": [],
   "source": [
    "with open(\"test1.txt\", \"r\") as file:\n",
    "    \n",
    "    cur_line = file.readline()\n",
    "    print(cur_line)\n",
    "    \n",
    "    cur_line = file.readline()\n",
    "    print(cur_line)"
   ]
  },
  {
   "cell_type": "code",
   "execution_count": null,
   "id": "c7177ba3",
   "metadata": {},
   "outputs": [],
   "source": [
    "with open('test1.txt', 'r') as file:\n",
    "    while True:\n",
    "        cur_line = file.readline()\n",
    "        if cur_line:\n",
    "            # Some operations here\n",
    "            print(cur_line)\n",
    "        else:\n",
    "            break"
   ]
  },
  {
   "cell_type": "markdown",
   "id": "2bb5df4c",
   "metadata": {},
   "source": [
    "#### readlines()"
   ]
  },
  {
   "cell_type": "code",
   "execution_count": null,
   "id": "0b073b39",
   "metadata": {},
   "outputs": [],
   "source": [
    "with open('test1.txt', 'r') as file:\n",
    "    lines = file.readlines()\n",
    "    print(lines)"
   ]
  },
  {
   "cell_type": "code",
   "execution_count": null,
   "id": "659c59a5",
   "metadata": {},
   "outputs": [],
   "source": [
    "for line in lines:\n",
    "    print(line)"
   ]
  },
  {
   "cell_type": "markdown",
   "id": "a5e204ae",
   "metadata": {},
   "source": [
    "#### Explore the file"
   ]
  },
  {
   "cell_type": "code",
   "execution_count": null,
   "id": "ab5867a4",
   "metadata": {},
   "outputs": [],
   "source": [
    "with open('test1.txt', 'r') as file:\n",
    "    \n",
    "    file.seek(5)\n",
    "    print(file.read())\n",
    "    \n",
    "    print()\n",
    "    \n",
    "    position = file.tell()\n",
    "    print(position)"
   ]
  },
  {
   "cell_type": "markdown",
   "id": "4b6008cc",
   "metadata": {},
   "source": [
    "#### Write"
   ]
  },
  {
   "cell_type": "code",
   "execution_count": null,
   "id": "8fa7fafa",
   "metadata": {},
   "outputs": [],
   "source": [
    "# How to write a file\n",
    "file = open(\"test2.txt\", \"w\")\n",
    "file.write(\"Hello John!\\nHow are you?\")\n",
    "file.close()"
   ]
  },
  {
   "cell_type": "code",
   "execution_count": null,
   "id": "43b44418",
   "metadata": {},
   "outputs": [],
   "source": [
    "# Create a new file OR erase and overwrite\n",
    "with open('test2.txt', 'w') as file:\n",
    "\n",
    "    # write contents to the test2.txt file\n",
    "    file.write('Programming is Fun.\\n')\n",
    "    file.write('Python for beginners\\n')"
   ]
  },
  {
   "cell_type": "markdown",
   "id": "b310f531",
   "metadata": {},
   "source": [
    "#### writelines()"
   ]
  },
  {
   "cell_type": "code",
   "execution_count": null,
   "id": "4e0c95c3",
   "metadata": {},
   "outputs": [],
   "source": [
    "with open('test2.txt', 'a') as file:\n",
    "    file.write(\"This is the end of the document\")"
   ]
  },
  {
   "cell_type": "markdown",
   "id": "e20fffaa",
   "metadata": {},
   "source": [
    "#### Class Activity"
   ]
  },
  {
   "cell_type": "markdown",
   "id": "cb5434b6",
   "metadata": {},
   "source": [
    "1. Create a new text file named 'my_file.txt' and add the lines: \n",
    "[\"I love Python.\", \"Python is my favorite.\"] (in two separate lines)"
   ]
  },
  {
   "cell_type": "code",
   "execution_count": null,
   "id": "a921882c",
   "metadata": {},
   "outputs": [],
   "source": [
    "with open('my_file.txt', \"w\") as file:\n",
    "    L = [\"I love Python.\\n\", \"Python is my favorite.\"]\n",
    "    file.writelines(L)"
   ]
  },
  {
   "cell_type": "code",
   "execution_count": null,
   "id": "e8ff676f",
   "metadata": {},
   "outputs": [],
   "source": [
    "with open('my_file.txt', \"r\") as file:\n",
    "    print(file.read())"
   ]
  },
  {
   "cell_type": "markdown",
   "id": "f56cd89e",
   "metadata": {},
   "source": [
    "2. The append a new line: \"Yes! Python is great!\""
   ]
  },
  {
   "cell_type": "code",
   "execution_count": null,
   "id": "49d69919",
   "metadata": {},
   "outputs": [],
   "source": [
    "with open('my_file.txt', \"a\") as file:\n",
    "    file.write(\"\\nYes! Python is great!\")"
   ]
  },
  {
   "cell_type": "code",
   "execution_count": null,
   "id": "e4dc640f",
   "metadata": {},
   "outputs": [],
   "source": [
    "with open('my_file.txt', \"r\") as file:\n",
    "    print(file.read())"
   ]
  },
  {
   "cell_type": "markdown",
   "id": "73f45c0f",
   "metadata": {},
   "source": [
    "3. Iterate through lines and at each iteration find the location of \"Python\" \n",
    "(Hint: use str.index(...))\n"
   ]
  },
  {
   "cell_type": "code",
   "execution_count": null,
   "id": "a27d354f",
   "metadata": {},
   "outputs": [],
   "source": [
    "with open('my_file.txt', \"r\") as file:\n",
    "    lines = file.readlines()"
   ]
  },
  {
   "cell_type": "code",
   "execution_count": null,
   "id": "5a807d22",
   "metadata": {},
   "outputs": [],
   "source": [
    "lines"
   ]
  },
  {
   "cell_type": "code",
   "execution_count": null,
   "id": "73d14b1b",
   "metadata": {},
   "outputs": [],
   "source": [
    "idx = []\n",
    "for line in lines:\n",
    "    idx.append(line.index(\"Python\"))\n",
    "\n",
    "print(idx)"
   ]
  },
  {
   "cell_type": "markdown",
   "id": "3edfb1c7",
   "metadata": {},
   "source": [
    "#### Question in Class: Is there any way to only read a few lines of a file rather than the entire file?"
   ]
  },
  {
   "cell_type": "markdown",
   "id": "014a14cf",
   "metadata": {},
   "source": [
    "I have not been able to find such a method. You have to read the entire file and then take the first few lines using one of reading functions."
   ]
  },
  {
   "cell_type": "markdown",
   "id": "1216c7d7",
   "metadata": {},
   "source": [
    "### JSON Module"
   ]
  },
  {
   "cell_type": "code",
   "execution_count": null,
   "id": "3fe609ff",
   "metadata": {},
   "outputs": [],
   "source": [
    "import json"
   ]
  },
  {
   "cell_type": "markdown",
   "id": "e75bd665",
   "metadata": {},
   "source": [
    "#### Serialize to JSON string"
   ]
  },
  {
   "cell_type": "code",
   "execution_count": null,
   "id": "a3409be1",
   "metadata": {},
   "outputs": [],
   "source": [
    "# Define a Python dictionary\n",
    "person = {\n",
    "    \"name\": \"John\",\n",
    "    \"age\": 30,\n",
    "    \"city\": \"New York\",\n",
    "    \"hasChildren\": False,\n",
    "    \"titles\": [\"engineer\", \"programmer\"]\n",
    "}"
   ]
  },
  {
   "cell_type": "code",
   "execution_count": null,
   "id": "b83c8bac",
   "metadata": {},
   "outputs": [],
   "source": [
    "person_json = json.dumps(person)"
   ]
  },
  {
   "cell_type": "code",
   "execution_count": null,
   "id": "44966760",
   "metadata": {},
   "outputs": [],
   "source": [
    "print(type(person_json))\n",
    "print(person_json)"
   ]
  },
  {
   "cell_type": "code",
   "execution_count": null,
   "id": "580cd430",
   "metadata": {},
   "outputs": [],
   "source": [
    "person_json = json.dumps(person, indent=4, separators=(\"; \", \"= \"), sort_keys=True)\n",
    "\n",
    "print(person_json)"
   ]
  },
  {
   "cell_type": "markdown",
   "id": "10a0ff67",
   "metadata": {},
   "source": [
    "#### Serialize to a JSON file"
   ]
  },
  {
   "cell_type": "code",
   "execution_count": null,
   "id": "435c4b56",
   "metadata": {},
   "outputs": [],
   "source": [
    "# Define a Python dictionary\n",
    "person = {\n",
    "    \"name\": \"John\",\n",
    "    \"age\": 30,\n",
    "    \"city\": \"New York\",\n",
    "    \"hasChildren\": False,\n",
    "    \"titles\": [\"engineer\", \"programmer\"]\n",
    "}"
   ]
  },
  {
   "cell_type": "code",
   "execution_count": null,
   "id": "3a815774",
   "metadata": {},
   "outputs": [],
   "source": [
    "with open(\"person1.json\", \"w\") as file:\n",
    "    json.dump(person, file)"
   ]
  },
  {
   "cell_type": "markdown",
   "id": "860f2d50",
   "metadata": {},
   "source": [
    "#### Deserialize JSON File"
   ]
  },
  {
   "cell_type": "code",
   "execution_count": null,
   "id": "c0352bf8",
   "metadata": {},
   "outputs": [],
   "source": [
    "with open(\"person1.json\", \"r\") as file:\n",
    "    loaded_person = json.load(file)"
   ]
  },
  {
   "cell_type": "code",
   "execution_count": null,
   "id": "7f5e4c95",
   "metadata": {},
   "outputs": [],
   "source": [
    "print(type(loaded_person))"
   ]
  },
  {
   "cell_type": "code",
   "execution_count": null,
   "id": "c98a5d1e",
   "metadata": {
    "scrolled": true
   },
   "outputs": [],
   "source": [
    "print(loaded_person)"
   ]
  },
  {
   "cell_type": "code",
   "execution_count": null,
   "id": "bfe4576a",
   "metadata": {},
   "outputs": [],
   "source": [
    "loaded_person['name']"
   ]
  },
  {
   "cell_type": "markdown",
   "id": "5fd2f62b",
   "metadata": {},
   "source": [
    "#### Deserialized JSON"
   ]
  },
  {
   "cell_type": "code",
   "execution_count": null,
   "id": "f349d1d5",
   "metadata": {},
   "outputs": [],
   "source": [
    "person_json = \"\"\"\n",
    "    {\n",
    "        \"age\": 30,\n",
    "        \"city\": \"New York\",\n",
    "        \"hasChildren\": false, \n",
    "        \"name\": \"John\",\n",
    "        \"titles\": [\n",
    "            \"engineer\",\n",
    "            \"programmer\"\n",
    "        ]\n",
    "    }\n",
    "\"\"\""
   ]
  },
  {
   "cell_type": "code",
   "execution_count": null,
   "id": "af1f84f4",
   "metadata": {},
   "outputs": [],
   "source": [
    "person = json.loads(person_json)"
   ]
  },
  {
   "cell_type": "code",
   "execution_count": null,
   "id": "aa19357e",
   "metadata": {},
   "outputs": [],
   "source": [
    "print(type(person))"
   ]
  },
  {
   "cell_type": "code",
   "execution_count": null,
   "id": "b42bc97e",
   "metadata": {},
   "outputs": [],
   "source": [
    "print(person)"
   ]
  },
  {
   "cell_type": "code",
   "execution_count": null,
   "id": "301fc06e",
   "metadata": {},
   "outputs": [],
   "source": [
    "person['name']"
   ]
  },
  {
   "cell_type": "markdown",
   "id": "ddb6d86f",
   "metadata": {},
   "source": [
    "#### Mix with class"
   ]
  },
  {
   "cell_type": "code",
   "execution_count": null,
   "id": "8c3c0f16",
   "metadata": {},
   "outputs": [],
   "source": [
    "# Define a new class\n",
    "class Laptop:\n",
    "    \n",
    "    def __init__(self, name, processor, hdd, ram, cost):\n",
    "        self.name = name\n",
    "        self.processor = processor\n",
    "        self.hdd = hdd\n",
    "        self.ram = ram\n",
    "        self.cost = cost\n",
    "\n",
    "# Create an object of the class\n",
    "laptop1 = Laptop('Dell Alienware', 'Intel Core i7', 512, 8, 2500.00)\n",
    "\n",
    "# Convert to key-value pairs\n",
    "dict1 = laptop1.__dict__\n",
    "\n",
    "print(type(dict1))\n",
    "print()\n",
    "print(dict1)"
   ]
  },
  {
   "cell_type": "code",
   "execution_count": null,
   "id": "472b426d",
   "metadata": {},
   "outputs": [],
   "source": [
    "# convert to JSON string\n",
    "jsonStr = json.dumps(dict1)\n",
    "\n",
    "# print json string\n",
    "print(type(jsonStr))\n",
    "print()\n",
    "print(jsonStr)"
   ]
  }
 ],
 "metadata": {
  "kernelspec": {
   "display_name": "Python 3 (ipykernel)",
   "language": "python",
   "name": "python3"
  },
  "language_info": {
   "codemirror_mode": {
    "name": "ipython",
    "version": 3
   },
   "file_extension": ".py",
   "mimetype": "text/x-python",
   "name": "python",
   "nbconvert_exporter": "python",
   "pygments_lexer": "ipython3",
   "version": "3.11.5"
  }
 },
 "nbformat": 4,
 "nbformat_minor": 5
}
