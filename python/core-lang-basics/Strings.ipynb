{
 "cells": [
  {
   "cell_type": "markdown",
   "id": "59a773a2",
   "metadata": {},
   "source": [
    "## Python String - Overview and Basic Operations\n",
    "### Strings:\n",
    " - Ordered, immutable sequence of characters\n",
    " - Enclosed in single or double quotes (' ' or \" \")\n",
    " - Basic operations:\n",
    " - Accessing characters: string[index]\n",
    " - Concatenation: string1 + string2\n",
    " - Repetition: string * n\n",
    " - String length: len(string)\n",
    " - String methods: string.upper(), string.lower(), string.replace()\n"
   ]
  },
  {
   "cell_type": "code",
   "execution_count": 3,
   "id": "0efb6ddb",
   "metadata": {},
   "outputs": [
    {
     "name": "stdout",
     "output_type": "stream",
     "text": [
      "Hello World!!!\n",
      "H\n",
      "Hello World!!! First string concatenation\n",
      "HELLO WORLD!!! FIRST STRING CONCATENATION\n"
     ]
    }
   ],
   "source": [
    "# String creation\n",
    "greeting = \"Hello World!!!\"\n",
    "print(greeting)\n",
    "\n",
    "#Acccessing String\n",
    "print(greeting[0])\n",
    "\n",
    "#concat strings\n",
    "full_greet = greeting + \" First string concatenation\"\n",
    "print(full_greet)\n",
    "\n",
    "# String methods\n",
    "print(full_greet.upper())\n"
   ]
  },
  {
   "cell_type": "markdown",
   "id": "b30f5322",
   "metadata": {},
   "source": [
    "## Python Slicing - Usage and Syntax\n",
    "\n",
    "### Slicing:\n",
    " - Used to extract a portion of a sequence\n",
    " - Syntax: str_name[start:end:step]\n",
    "\n",
    "### Default values:\n",
    " - start: Defaults to 0 (first element)\n",
    " - end: Defaults to the length of the sequence\n",
    " - step: Defaults to 1 (all elements)\n"
   ]
  },
  {
   "cell_type": "code",
   "execution_count": null,
   "id": "584c6332",
   "metadata": {},
   "outputs": [],
   "source": []
  }
 ],
 "metadata": {
  "kernelspec": {
   "display_name": "Python 3 (ipykernel)",
   "language": "python",
   "name": "python3"
  },
  "language_info": {
   "codemirror_mode": {
    "name": "ipython",
    "version": 3
   },
   "file_extension": ".py",
   "mimetype": "text/x-python",
   "name": "python",
   "nbconvert_exporter": "python",
   "pygments_lexer": "ipython3",
   "version": "3.11.5"
  }
 },
 "nbformat": 4,
 "nbformat_minor": 5
}
