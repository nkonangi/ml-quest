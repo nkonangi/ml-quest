{
 "cells": [
  {
   "cell_type": "markdown",
   "id": "030266f2",
   "metadata": {},
   "source": [
    "### Sequence Datatypes\n",
    "#### List\n",
    "#### Strings"
   ]
  },
  {
   "cell_type": "markdown",
   "id": "b385b54b",
   "metadata": {},
   "source": [
    "## Strings"
   ]
  },
  {
   "cell_type": "code",
   "execution_count": 1,
   "id": "9b7d5ad1",
   "metadata": {},
   "outputs": [
    {
     "name": "stdout",
     "output_type": "stream",
     "text": [
      "Hello World\n"
     ]
    }
   ],
   "source": [
    "my_string = \"Hello World\"\n",
    "print(my_string)"
   ]
  },
  {
   "cell_type": "code",
   "execution_count": 2,
   "id": "acf564d0",
   "metadata": {},
   "outputs": [
    {
     "name": "stdout",
     "output_type": "stream",
     "text": [
      "Hello World\n"
     ]
    }
   ],
   "source": [
    "mystr = \"Hello World\"\n",
    "print(mystr)"
   ]
  },
  {
   "cell_type": "code",
   "execution_count": 4,
   "id": "f02990ef",
   "metadata": {},
   "outputs": [
    {
     "data": {
      "text/plain": [
       "('Hello World', 4460879280, '0x109e39db0')"
      ]
     },
     "execution_count": 4,
     "metadata": {},
     "output_type": "execute_result"
    }
   ],
   "source": [
    "mystr, id(mystr), hex(id(mystr))"
   ]
  },
  {
   "cell_type": "code",
   "execution_count": 5,
   "id": "37f2672f",
   "metadata": {},
   "outputs": [
    {
     "data": {
      "text/plain": [
       "('Hello World', 4458311344, '0x109bc6eb0')"
      ]
     },
     "execution_count": 5,
     "metadata": {},
     "output_type": "execute_result"
    }
   ],
   "source": [
    "my_string, id(my_string), hex(id(my_string))"
   ]
  },
  {
   "cell_type": "code",
   "execution_count": 6,
   "id": "2806f76f",
   "metadata": {},
   "outputs": [
    {
     "name": "stdout",
     "output_type": "stream",
     "text": [
      " Hello\n",
      "\n",
      "    This is triple quote string\n",
      "    \n",
      "    Testing purpose adding empty lines and spaces \n",
      "    \n",
      "        \n"
     ]
    }
   ],
   "source": [
    "# define string using triple quotes\n",
    "\n",
    "triple_quote_string = \"\"\" Hello\n",
    "\n",
    "    This is triple quote string\n",
    "    \n",
    "    Testing purpose adding empty lines and spaces \n",
    "    \n",
    "        \"\"\"\n",
    "\n",
    "print(triple_quote_string)\n"
   ]
  },
  {
   "cell_type": "code",
   "execution_count": 7,
   "id": "998d6268",
   "metadata": {},
   "outputs": [
    {
     "data": {
      "text/plain": [
       "(' Hello\\n\\n    This is triple quote string\\n    \\n    Testing purpose adding empty lines and spaces \\n    \\n        ',\n",
       " 4460809552,\n",
       " '0x109e28d50')"
      ]
     },
     "execution_count": 7,
     "metadata": {},
     "output_type": "execute_result"
    }
   ],
   "source": [
    "triple_quote_string, id(triple_quote_string), hex(id(triple_quote_string))"
   ]
  },
  {
   "cell_type": "code",
   "execution_count": 2,
   "id": "797d579b",
   "metadata": {},
   "outputs": [
    {
     "data": {
      "text/plain": [
       "'testing---testing---testing---testing---testing---'"
      ]
     },
     "execution_count": 2,
     "metadata": {},
     "output_type": "execute_result"
    }
   ],
   "source": [
    "my_str = \"testing---\"\n",
    "my_str *= 5\n",
    "my_str"
   ]
  },
  {
   "cell_type": "code",
   "execution_count": 3,
   "id": "5e07a876",
   "metadata": {},
   "outputs": [
    {
     "data": {
      "text/plain": [
       "50"
      ]
     },
     "execution_count": 3,
     "metadata": {},
     "output_type": "execute_result"
    }
   ],
   "source": [
    "len(my_str)"
   ]
  },
  {
   "cell_type": "code",
   "execution_count": 4,
   "id": "ccdc753b",
   "metadata": {},
   "outputs": [
    {
     "data": {
      "text/plain": [
       "('t', '-')"
      ]
     },
     "execution_count": 4,
     "metadata": {},
     "output_type": "execute_result"
    }
   ],
   "source": [
    "my_str[0],my_str[49]"
   ]
  },
  {
   "cell_type": "code",
   "execution_count": 5,
   "id": "49c57875",
   "metadata": {},
   "outputs": [
    {
     "data": {
      "text/plain": [
       "19"
      ]
     },
     "execution_count": 5,
     "metadata": {},
     "output_type": "execute_result"
    }
   ],
   "source": [
    "mystr = \"NarasimhaRaoKonangi\"\n",
    "len(mystr)"
   ]
  },
  {
   "cell_type": "code",
   "execution_count": 6,
   "id": "bef47288",
   "metadata": {},
   "outputs": [
    {
     "data": {
      "text/plain": [
       "('N', 'i', 'i', 'N')"
      ]
     },
     "execution_count": 6,
     "metadata": {},
     "output_type": "execute_result"
    }
   ],
   "source": [
    "mystr[0], mystr[18], mystr[-1], mystr[-19]"
   ]
  },
  {
   "cell_type": "markdown",
   "id": "77ae9998",
   "metadata": {},
   "source": [
    "### String Slicing"
   ]
  },
  {
   "cell_type": "code",
   "execution_count": 7,
   "id": "63121d22",
   "metadata": {},
   "outputs": [
    {
     "data": {
      "text/plain": [
       "'Naras'"
      ]
     },
     "execution_count": 7,
     "metadata": {},
     "output_type": "execute_result"
    }
   ],
   "source": [
    "mystr[0:5]"
   ]
  },
  {
   "cell_type": "code",
   "execution_count": 8,
   "id": "9acbbe6e",
   "metadata": {},
   "outputs": [
    {
     "data": {
      "text/plain": [
       "'NarasimhaRaoKonangi'"
      ]
     },
     "execution_count": 8,
     "metadata": {},
     "output_type": "execute_result"
    }
   ],
   "source": [
    "mystr[:]"
   ]
  },
  {
   "cell_type": "code",
   "execution_count": 9,
   "id": "81cbc96c",
   "metadata": {},
   "outputs": [
    {
     "data": {
      "text/plain": [
       "'NarasimhaR'"
      ]
     },
     "execution_count": 9,
     "metadata": {},
     "output_type": "execute_result"
    }
   ],
   "source": [
    "mystr[:10]"
   ]
  },
  {
   "cell_type": "code",
   "execution_count": 10,
   "id": "ff22cd05",
   "metadata": {},
   "outputs": [
    {
     "data": {
      "text/plain": [
       "''"
      ]
     },
     "execution_count": 10,
     "metadata": {},
     "output_type": "execute_result"
    }
   ],
   "source": [
    "mystr[-4:-8]"
   ]
  },
  {
   "cell_type": "code",
   "execution_count": 11,
   "id": "68a51c1f",
   "metadata": {},
   "outputs": [
    {
     "data": {
      "text/plain": [
       "'angi'"
      ]
     },
     "execution_count": 11,
     "metadata": {},
     "output_type": "execute_result"
    }
   ],
   "source": [
    "mystr[-4:]"
   ]
  },
  {
   "cell_type": "code",
   "execution_count": 12,
   "id": "49d5657d",
   "metadata": {},
   "outputs": [
    {
     "data": {
      "text/plain": [
       "'oKon'"
      ]
     },
     "execution_count": 12,
     "metadata": {},
     "output_type": "execute_result"
    }
   ],
   "source": [
    "mystr[-8:-4]"
   ]
  },
  {
   "cell_type": "code",
   "execution_count": 13,
   "id": "09ae82c1",
   "metadata": {},
   "outputs": [
    {
     "ename": "NameError",
     "evalue": "name 'mystr' is not defined",
     "output_type": "error",
     "traceback": [
      "\u001b[0;31m---------------------------------------------------------------------------\u001b[0m",
      "\u001b[0;31mNameError\u001b[0m                                 Traceback (most recent call last)",
      "Cell \u001b[0;32mIn[13], line 2\u001b[0m\n\u001b[1;32m      1\u001b[0m \u001b[38;5;28;01mdel\u001b[39;00m mystr\n\u001b[0;32m----> 2\u001b[0m mystr\n",
      "\u001b[0;31mNameError\u001b[0m: name 'mystr' is not defined"
     ]
    }
   ],
   "source": [
    "del mystr\n",
    "mystr"
   ]
  },
  {
   "cell_type": "code",
   "execution_count": 14,
   "id": "0ae9f8cb",
   "metadata": {},
   "outputs": [
    {
     "data": {
      "text/plain": [
       "'hellonarasimha'"
      ]
     },
     "execution_count": 14,
     "metadata": {},
     "output_type": "execute_result"
    }
   ],
   "source": [
    "str1 = \"hello\"\n",
    "str2 = \"narasimha\"\n",
    "str1+str2"
   ]
  },
  {
   "cell_type": "code",
   "execution_count": 15,
   "id": "1df695cb",
   "metadata": {},
   "outputs": [
    {
     "name": "stdout",
     "output_type": "stream",
     "text": [
      "h\n",
      "e\n",
      "l\n",
      "l\n",
      "o\n"
     ]
    }
   ],
   "source": [
    "for i in str1:\n",
    "    print(i)"
   ]
  },
  {
   "cell_type": "code",
   "execution_count": 16,
   "id": "8c6466ac",
   "metadata": {},
   "outputs": [
    {
     "name": "stdout",
     "output_type": "stream",
     "text": [
      "(0, 'h')\n",
      "(1, 'e')\n",
      "(2, 'l')\n",
      "(3, 'l')\n",
      "(4, 'o')\n"
     ]
    }
   ],
   "source": [
    "for i in enumerate(str1):\n",
    "    print(i)"
   ]
  },
  {
   "cell_type": "code",
   "execution_count": 17,
   "id": "5ce75b1b",
   "metadata": {},
   "outputs": [
    {
     "name": "stdout",
     "output_type": "stream",
     "text": [
      "True\n"
     ]
    }
   ],
   "source": [
    "mystr1 = \"sri is a good boy or bad boy?\"\n",
    "print(\"sri\" in mystr1)"
   ]
  },
  {
   "cell_type": "code",
   "execution_count": 18,
   "id": "203e280e",
   "metadata": {},
   "outputs": [
    {
     "name": "stdout",
     "output_type": "stream",
     "text": [
      "True\n"
     ]
    }
   ],
   "source": [
    "print(\"?\" in mystr1)"
   ]
  },
  {
   "cell_type": "code",
   "execution_count": 20,
   "id": "732ad325",
   "metadata": {},
   "outputs": [
    {
     "name": "stdout",
     "output_type": "stream",
     "text": [
      "('Natural language processing with Python ', 'and', ' R and Java')\n"
     ]
    }
   ],
   "source": [
    "\"\"\"\n",
    "The partition() method searches for a specified string and splits the string into\n",
    "- The first element contains the part before the argument string.\n",
    "- The second element contains the argument string.\n",
    "- The third element contains the part after the argument string.\n",
    "\"\"\"\n",
    "str5 = \"Natural language processing with Python and R and Java\"\n",
    "L = str5.partition(\"and\")\n",
    "print(L)"
   ]
  },
  {
   "cell_type": "markdown",
   "id": "faa15ec2",
   "metadata": {},
   "source": [
    "### String Functions"
   ]
  },
  {
   "cell_type": "code",
   "execution_count": 22,
   "id": "20d39705",
   "metadata": {},
   "outputs": [
    {
     "data": {
      "text/plain": [
       "'Narasimha Rao Konangi'"
      ]
     },
     "execution_count": 22,
     "metadata": {},
     "output_type": "execute_result"
    }
   ],
   "source": [
    "mystr = \"     Narasimha Rao Konangi      \"\n",
    "mystr.strip()"
   ]
  },
  {
   "cell_type": "code",
   "execution_count": null,
   "id": "f33923df",
   "metadata": {},
   "outputs": [],
   "source": []
  }
 ],
 "metadata": {
  "kernelspec": {
   "display_name": "Python 3 (ipykernel)",
   "language": "python",
   "name": "python3"
  },
  "language_info": {
   "codemirror_mode": {
    "name": "ipython",
    "version": 3
   },
   "file_extension": ".py",
   "mimetype": "text/x-python",
   "name": "python",
   "nbconvert_exporter": "python",
   "pygments_lexer": "ipython3",
   "version": "3.11.5"
  }
 },
 "nbformat": 4,
 "nbformat_minor": 5
}
