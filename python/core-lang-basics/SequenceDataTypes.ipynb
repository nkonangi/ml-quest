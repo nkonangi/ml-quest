{
 "cells": [
  {
   "cell_type": "markdown",
   "id": "030266f2",
   "metadata": {},
   "source": [
    "### Sequence Datatypes\n",
    "#### List\n",
    "#### Strings"
   ]
  },
  {
   "cell_type": "code",
   "execution_count": 1,
   "id": "9b7d5ad1",
   "metadata": {},
   "outputs": [
    {
     "name": "stdout",
     "output_type": "stream",
     "text": [
      "Hello World\n"
     ]
    }
   ],
   "source": [
    "my_string = \"Hello World\"\n",
    "print(my_string)"
   ]
  },
  {
   "cell_type": "code",
   "execution_count": 2,
   "id": "acf564d0",
   "metadata": {},
   "outputs": [
    {
     "name": "stdout",
     "output_type": "stream",
     "text": [
      "Hello World\n"
     ]
    }
   ],
   "source": [
    "mystr = \"Hello World\"\n",
    "print(mystr)"
   ]
  },
  {
   "cell_type": "code",
   "execution_count": 4,
   "id": "f02990ef",
   "metadata": {},
   "outputs": [
    {
     "data": {
      "text/plain": [
       "('Hello World', 4460879280, '0x109e39db0')"
      ]
     },
     "execution_count": 4,
     "metadata": {},
     "output_type": "execute_result"
    }
   ],
   "source": [
    "mystr, id(mystr), hex(id(mystr))"
   ]
  },
  {
   "cell_type": "code",
   "execution_count": 5,
   "id": "37f2672f",
   "metadata": {},
   "outputs": [
    {
     "data": {
      "text/plain": [
       "('Hello World', 4458311344, '0x109bc6eb0')"
      ]
     },
     "execution_count": 5,
     "metadata": {},
     "output_type": "execute_result"
    }
   ],
   "source": [
    "my_string, id(my_string), hex(id(my_string))"
   ]
  },
  {
   "cell_type": "code",
   "execution_count": 6,
   "id": "2806f76f",
   "metadata": {},
   "outputs": [
    {
     "name": "stdout",
     "output_type": "stream",
     "text": [
      " Hello\n",
      "\n",
      "    This is triple quote string\n",
      "    \n",
      "    Testing purpose adding empty lines and spaces \n",
      "    \n",
      "        \n"
     ]
    }
   ],
   "source": [
    "# define string using triple quotes\n",
    "\n",
    "triple_quote_string = \"\"\" Hello\n",
    "\n",
    "    This is triple quote string\n",
    "    \n",
    "    Testing purpose adding empty lines and spaces \n",
    "    \n",
    "        \"\"\"\n",
    "\n",
    "print(triple_quote_string)\n"
   ]
  },
  {
   "cell_type": "code",
   "execution_count": 7,
   "id": "998d6268",
   "metadata": {},
   "outputs": [
    {
     "data": {
      "text/plain": [
       "(' Hello\\n\\n    This is triple quote string\\n    \\n    Testing purpose adding empty lines and spaces \\n    \\n        ',\n",
       " 4460809552,\n",
       " '0x109e28d50')"
      ]
     },
     "execution_count": 7,
     "metadata": {},
     "output_type": "execute_result"
    }
   ],
   "source": [
    "triple_quote_string, id(triple_quote_string), hex(id(triple_quote_string))"
   ]
  },
  {
   "cell_type": "code",
   "execution_count": 8,
   "id": "797d579b",
   "metadata": {},
   "outputs": [
    {
     "data": {
      "text/plain": [
       "'testing---testing---testing---testing---testing---'"
      ]
     },
     "execution_count": 8,
     "metadata": {},
     "output_type": "execute_result"
    }
   ],
   "source": [
    "my_str = \"testing---\"\n",
    "my_str *= 5\n",
    "my_str"
   ]
  },
  {
   "cell_type": "code",
   "execution_count": null,
   "id": "5e07a876",
   "metadata": {},
   "outputs": [],
   "source": []
  }
 ],
 "metadata": {
  "kernelspec": {
   "display_name": "Python 3 (ipykernel)",
   "language": "python",
   "name": "python3"
  },
  "language_info": {
   "codemirror_mode": {
    "name": "ipython",
    "version": 3
   },
   "file_extension": ".py",
   "mimetype": "text/x-python",
   "name": "python",
   "nbconvert_exporter": "python",
   "pygments_lexer": "ipython3",
   "version": "3.11.5"
  }
 },
 "nbformat": 4,
 "nbformat_minor": 5
}
