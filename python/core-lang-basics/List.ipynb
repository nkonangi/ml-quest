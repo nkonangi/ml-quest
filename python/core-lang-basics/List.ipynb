{
 "cells": [
  {
   "cell_type": "markdown",
   "id": "62d369c7",
   "metadata": {},
   "source": [
    "## List\n",
    "1. List is an ordered sequence of items.\n",
    "2. We can have different data types under a list. E.g we can have integer, float and string items ina same list.\n",
    "3. Lists are created using square brackets"
   ]
  },
  {
   "cell_type": "markdown",
   "id": "6b6e55f3",
   "metadata": {},
   "source": [
    "In Python, a list is a built-in data type that allows you to store an ordered collection of items, which can be of different types. Lists are mutable, meaning you can change, add, or remove elements after the list has been created. Lists are very versatile and are one of the most commonly used data structures in Python.\n",
    "\n",
    "### Key Characteristics of Lists:\n",
    " - Ordered: The order in which elements are added to the list is maintained.\n",
    " - Mutable: You can modify lists (add, remove, or change elements).\n",
    " - Allow Duplicates: Lists can contain multiple identical values.\n",
    " - Can Store Different Data Types: A list can store integers, strings, floats, or even other lists.\n",
    "#### Syntax: A list is created by enclosing a comma-separated sequence of values within square brackets []"
   ]
  },
  {
   "cell_type": "code",
   "execution_count": 1,
   "id": "ea4c8e23",
   "metadata": {},
   "outputs": [],
   "source": [
    "list1 = [] # Empty List"
   ]
  },
  {
   "cell_type": "code",
   "execution_count": 2,
   "id": "53207a6f",
   "metadata": {},
   "outputs": [
    {
     "name": "stdout",
     "output_type": "stream",
     "text": [
      "['apple', 'banana', 'cherry']\n"
     ]
    }
   ],
   "source": [
    "thislist = [\"apple\", \"banana\", \"cherry\"]\n",
    "print(thislist)"
   ]
  },
  {
   "cell_type": "markdown",
   "id": "0f125d77",
   "metadata": {},
   "source": [
    "### List items are ordered, changeable, and allow duplicate values.\n",
    "### List items are indexed, the first item has index [0], the second item has index [1] etc."
   ]
  },
  {
   "cell_type": "code",
   "execution_count": 3,
   "id": "3bf2ebff",
   "metadata": {},
   "outputs": [
    {
     "data": {
      "text/plain": [
       "['one', 'two', 'three']"
      ]
     },
     "execution_count": 3,
     "metadata": {},
     "output_type": "execute_result"
    }
   ],
   "source": [
    "list4=['one','two',\"three\"]# List of strings\n",
    "list4"
   ]
  },
  {
   "cell_type": "code",
   "execution_count": 4,
   "id": "3408284a",
   "metadata": {},
   "outputs": [
    {
     "name": "stdout",
     "output_type": "stream",
     "text": [
      "['apple', 'banana', 'cherry', 'apple', 'cherry']\n"
     ]
    }
   ],
   "source": [
    "thislist = [\"apple\", \"banana\", \"cherry\", \"apple\", \"cherry\"]# with duplicate items\n",
    "print(thislist)"
   ]
  },
  {
   "cell_type": "code",
   "execution_count": 5,
   "id": "fc0de79e",
   "metadata": {},
   "outputs": [
    {
     "name": "stdout",
     "output_type": "stream",
     "text": [
      "3\n"
     ]
    }
   ],
   "source": [
    "# finding length of the list\n",
    "thislist = [\"apple\", \"banana\", \"cherry\"]\n",
    "print(len(thislist))"
   ]
  },
  {
   "cell_type": "code",
   "execution_count": 6,
   "id": "b30c6fb6",
   "metadata": {},
   "outputs": [
    {
     "data": {
      "text/plain": [
       "['abc', 34, True, 40, 'male']"
      ]
     },
     "execution_count": 6,
     "metadata": {},
     "output_type": "execute_result"
    }
   ],
   "source": [
    "list1 = [\"abc\", 34, True, 40, \"male\"]\n",
    "list1"
   ]
  },
  {
   "cell_type": "code",
   "execution_count": 7,
   "id": "8cfa1945",
   "metadata": {},
   "outputs": [
    {
     "name": "stdout",
     "output_type": "stream",
     "text": [
      "banana\n"
     ]
    }
   ],
   "source": [
    "#accessing items from list\n",
    "thislist = [\"apple\", \"banana\", \"cherry\"]\n",
    "print(thislist[1])"
   ]
  },
  {
   "cell_type": "markdown",
   "id": "0cd9ed5a",
   "metadata": {},
   "source": [
    "## Negative Indexing\n",
    "### Negative indexing means start from the end\n",
    "\n",
    "  -1 refers to the last item, \n",
    "  -2 refers to the second last item etc.\n",
    "\n"
   ]
  },
  {
   "cell_type": "code",
   "execution_count": 9,
   "id": "96861fb7",
   "metadata": {},
   "outputs": [
    {
     "name": "stdout",
     "output_type": "stream",
     "text": [
      "cherry\n"
     ]
    }
   ],
   "source": [
    "thislist = [\"apple\", \"banana\", \"cherry\"]\n",
    "print(thislist[-1])"
   ]
  },
  {
   "cell_type": "markdown",
   "id": "d028a21b",
   "metadata": {},
   "source": [
    "### Slicing Lists\n",
    "#### You can extract a sublist using slicing. The syntax is list[start:end], where start is the index of the first element, and end is the index up to (but not including) the element."
   ]
  },
  {
   "cell_type": "code",
   "execution_count": 10,
   "id": "61dd3d94",
   "metadata": {},
   "outputs": [
    {
     "name": "stdout",
     "output_type": "stream",
     "text": [
      "[2, 3, 4]\n"
     ]
    }
   ],
   "source": [
    "numbers = [1, 2, 3, 4, 5]\n",
    "print(numbers[1:4])  # Output: [2, 3, 4]"
   ]
  },
  {
   "cell_type": "markdown",
   "id": "449a277e",
   "metadata": {},
   "source": [
    "### Modifying a List\n",
    "#### You can change the values of elements in a list by accessing their index.\n",
    " \n"
   ]
  },
  {
   "cell_type": "code",
   "execution_count": 11,
   "id": "042bcb7e",
   "metadata": {},
   "outputs": [
    {
     "name": "stdout",
     "output_type": "stream",
     "text": [
      "[1, 2, 99, 4, 5]\n"
     ]
    }
   ],
   "source": [
    "numbers = [1, 2, 3, 4, 5]\n",
    "numbers[2] = 99  # Change the third element to 99\n",
    "print(numbers)  # Output: [1, 2, 99, 4, 5]"
   ]
  },
  {
   "cell_type": "markdown",
   "id": "bf8ab7ac",
   "metadata": {},
   "source": [
    "## Adding Elements to a List\n",
    " - Use append() to add an element to the end of the list.\n",
    " - Use insert() to add an element at a specific index.\n"
   ]
  },
  {
   "cell_type": "code",
   "execution_count": 12,
   "id": "44c245dd",
   "metadata": {},
   "outputs": [
    {
     "name": "stdout",
     "output_type": "stream",
     "text": [
      "[1, 2, 3, 4]\n",
      "[1, 5, 2, 3, 4]\n"
     ]
    }
   ],
   "source": [
    "numbers = [1, 2, 3]\n",
    "numbers.append(4)  # Add 4 to the end of the list\n",
    "print(numbers)  # Output: [1, 2, 3, 4]\n",
    "\n",
    "numbers.insert(1, 5)  # Insert 5 at index 1\n",
    "print(numbers)  # Output: [1, 5, 2, 3, 4]"
   ]
  },
  {
   "cell_type": "code",
   "execution_count": null,
   "id": "3d4a31b6",
   "metadata": {},
   "outputs": [],
   "source": []
  }
 ],
 "metadata": {
  "kernelspec": {
   "display_name": "Python 3 (ipykernel)",
   "language": "python",
   "name": "python3"
  },
  "language_info": {
   "codemirror_mode": {
    "name": "ipython",
    "version": 3
   },
   "file_extension": ".py",
   "mimetype": "text/x-python",
   "name": "python",
   "nbconvert_exporter": "python",
   "pygments_lexer": "ipython3",
   "version": "3.11.5"
  }
 },
 "nbformat": 4,
 "nbformat_minor": 5
}
