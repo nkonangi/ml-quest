{
 "cells": [
  {
   "cell_type": "markdown",
   "id": "648926c8",
   "metadata": {},
   "source": [
    "### Sets:\n",
    " - Unordered, mutable collection of unique elements\n",
    " - Created using braces {} or the set() constructor\n",
    " - Cannot contain duplicate elements\n",
    " \n",
    "### Basic operations:\n",
    " - Accessing elements: not supported (no indexing)\n",
    " - Adding elements: set.add(item)\n",
    " - Removing elements: set.remove(item)\n",
    " - Set operations: union, intersection, difference\n",
    " \n",
    "### Sets vs. other data collections:\n",
    " - Sets are faster for membership testing (e.g., checking if an element is in a set)\n",
    " - Sets eliminate duplicates automatically\n",
    " \n",
    "### Common use cases:\n",
    " - Finding unique elements in a list\n",
    " - Removing duplicates from a list\n",
    " - Performing set operations (union, intersection, difference)\n",
    "\n",
    "\n",
    "\n",
    "\n"
   ]
  },
  {
   "cell_type": "markdown",
   "id": "1620f5a6",
   "metadata": {},
   "source": [
    "# Leet Code 217 - Contains Duplicate\n",
    "\n",
    "### For a given interger array, return True if there is atleast one element has duplicates in this arry, else False.\n",
    "\n"
   ]
  },
  {
   "cell_type": "code",
   "execution_count": 19,
   "id": "7ffc165b",
   "metadata": {},
   "outputs": [
    {
     "name": "stdout",
     "output_type": "stream",
     "text": [
      "{1, 2, 3, 4}\n",
      "No Duplicates\n"
     ]
    }
   ],
   "source": [
    "l1 = [1,2,3,4]\n",
    "\n",
    "s1 = set(l1)\n",
    "print(s1)\n",
    "\n",
    "if len(s1) < len(l1):\n",
    "    print(\"Duplicates exist\")\n",
    "else:\n",
    "    print(\"No Duplicates\")"
   ]
  },
  {
   "cell_type": "code",
   "execution_count": 20,
   "id": "49946240",
   "metadata": {},
   "outputs": [
    {
     "name": "stdout",
     "output_type": "stream",
     "text": [
      "{'cherry', 'apple', 'banana'}\n"
     ]
    }
   ],
   "source": [
    "thisset = {\"apple\", \"banana\", \"cherry\"}\n",
    "print(thisset)"
   ]
  },
  {
   "cell_type": "code",
   "execution_count": 21,
   "id": "4b1e607a",
   "metadata": {},
   "outputs": [
    {
     "name": "stdout",
     "output_type": "stream",
     "text": [
      "{'cherry', 'apple', 'banana'}\n"
     ]
    }
   ],
   "source": [
    "# Duplicate values will be ignored:\n",
    "\n",
    "thisset = {\"apple\", \"banana\", \"cherry\", \"apple\"}\n",
    "\n",
    "print(thisset)"
   ]
  },
  {
   "cell_type": "code",
   "execution_count": 22,
   "id": "59d3c921",
   "metadata": {},
   "outputs": [
    {
     "name": "stdout",
     "output_type": "stream",
     "text": [
      "{True, 2, 'cherry', 'apple', 'banana'}\n"
     ]
    }
   ],
   "source": [
    "# True and 1 is considered the same value:\n",
    "\n",
    "thisset = {\"apple\", \"banana\", \"cherry\", True, 1, 2}\n",
    "print(thisset)"
   ]
  },
  {
   "cell_type": "code",
   "execution_count": 23,
   "id": "b436599f",
   "metadata": {},
   "outputs": [
    {
     "name": "stdout",
     "output_type": "stream",
     "text": [
      "{1, 2, 'cherry', 'apple', 'banana'}\n"
     ]
    }
   ],
   "source": [
    "# True and 1 is considered the same value: But Sequence matters\n",
    "\n",
    "thisset = {\"apple\", \"banana\", \"cherry\", 1, True, 2}\n",
    "print(thisset)"
   ]
  },
  {
   "cell_type": "code",
   "execution_count": 24,
   "id": "4823875e",
   "metadata": {},
   "outputs": [
    {
     "name": "stdout",
     "output_type": "stream",
     "text": [
      "{False, True, 'cherry', 'apple', 'banana'}\n"
     ]
    }
   ],
   "source": [
    "# False and 0 is considered the same value:\n",
    "\n",
    "thisset = {\"apple\", \"banana\", \"cherry\", False, True, 0}\n",
    "\n",
    "print(thisset)"
   ]
  },
  {
   "cell_type": "code",
   "execution_count": 25,
   "id": "1079463a",
   "metadata": {},
   "outputs": [
    {
     "name": "stdout",
     "output_type": "stream",
     "text": [
      "{'abc', 34, True, 'male', 40}\n"
     ]
    }
   ],
   "source": [
    "# A set can contain different data types:\n",
    "# Example\n",
    "# A set with strings, integers and boolean values:\n",
    "\n",
    "set1 = {\"abc\", 34, True, 40, \"male\"}\n",
    "print(set1)"
   ]
  },
  {
   "cell_type": "code",
   "execution_count": 26,
   "id": "2a8f7582",
   "metadata": {},
   "outputs": [
    {
     "name": "stdout",
     "output_type": "stream",
     "text": [
      "cherry\n",
      "apple\n",
      "banana\n"
     ]
    }
   ],
   "source": [
    "# Accessing elements from set\n",
    "# Loop through the set, and print the values:\n",
    "\n",
    "thisset = {\"apple\", \"banana\", \"cherry\"}\n",
    "\n",
    "for x in thisset:\n",
    "  print(x)"
   ]
  },
  {
   "cell_type": "code",
   "execution_count": 27,
   "id": "cfdacd8a",
   "metadata": {},
   "outputs": [
    {
     "name": "stdout",
     "output_type": "stream",
     "text": [
      "True\n"
     ]
    }
   ],
   "source": [
    "# Check if \"banana\" is present in the set:\n",
    "\n",
    "thisset = {\"apple\", \"banana\", \"cherry\"}\n",
    "print(\"banana\" in thisset)"
   ]
  },
  {
   "cell_type": "code",
   "execution_count": 28,
   "id": "f1270f8b",
   "metadata": {},
   "outputs": [
    {
     "name": "stdout",
     "output_type": "stream",
     "text": [
      "False\n"
     ]
    }
   ],
   "source": [
    "# Check if \"banana\" is NOT present in the set:\n",
    "\n",
    "thisset = {\"apple\", \"banana\", \"cherry\"}\n",
    "print(\"banana\" not in thisset)"
   ]
  },
  {
   "cell_type": "code",
   "execution_count": 29,
   "id": "64aa97be",
   "metadata": {},
   "outputs": [
    {
     "name": "stdout",
     "output_type": "stream",
     "text": [
      "{'orange', 'cherry', 'apple', 'banana'}\n",
      "{2, 'cherry', 6, 'Mango', 'apple', 'banana', 'orange', 'Test'}\n"
     ]
    }
   ],
   "source": [
    "# Add an item to a set, using the add() method:\n",
    "\n",
    "set1 = {\"apple\", \"banana\", \"cherry\"}\n",
    "\n",
    "set1.add(\"orange\")\n",
    "\n",
    "print(set1)\n",
    "\n",
    "# To add items from another set into the current set, use the update() method.\n",
    "\n",
    "set2 = {\"Mango\",2, 6, \"Test\"}\n",
    "\n",
    "set1.update(set2)\n",
    "\n",
    "print(set1)"
   ]
  },
  {
   "cell_type": "code",
   "execution_count": 30,
   "id": "ad648e58",
   "metadata": {},
   "outputs": [
    {
     "name": "stdout",
     "output_type": "stream",
     "text": [
      "{1, 2, 3, 'c', 'b', 'a'}\n"
     ]
    }
   ],
   "source": [
    "# Join set1 and set2 into a new set:\n",
    "\n",
    "set1 = {\"a\", \"b\", \"c\"}\n",
    "set2 = {1, 2, 3}\n",
    "\n",
    "set3 = set1.union(set2)\n",
    "print(set3)"
   ]
  }
 ],
 "metadata": {
  "kernelspec": {
   "display_name": "Python 3 (ipykernel)",
   "language": "python",
   "name": "python3"
  },
  "language_info": {
   "codemirror_mode": {
    "name": "ipython",
    "version": 3
   },
   "file_extension": ".py",
   "mimetype": "text/x-python",
   "name": "python",
   "nbconvert_exporter": "python",
   "pygments_lexer": "ipython3",
   "version": "3.11.5"
  }
 },
 "nbformat": 4,
 "nbformat_minor": 5
}
