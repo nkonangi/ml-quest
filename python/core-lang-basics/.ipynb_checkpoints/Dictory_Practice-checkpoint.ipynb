{
 "cells": [
  {
   "cell_type": "markdown",
   "id": "89f27dd7",
   "metadata": {},
   "source": [
    "## Dictionaries:\n",
    " - Ordered*, mutable collection of key-value pairs\n",
    " - Created using braces {} or the dict() constructor\n",
    " - Keys must be unique and immutable, values can be of any type\n",
    " \n",
    "## Basic operations:\n",
    " - Accessing values: dictionary[key]\n",
    " - Adding or modifying values: dictionary[key] = value\n",
    " - Removing keys: dictionary.pop(key)\n",
    " - Dictionary methods: keys(), values(), items()\n",
    " \n",
    "## Dictionaries vs. other collections:\n",
    " - Dictionaries provide fast access to values based on keys (similar to sets)\n",
    " - Dictionaries allow for easy and efficient mapping of keys to values\n",
    "\n",
    "## Common use cases:\n",
    " - Mapping values to keys for efficient lookup\n",
    " - Storing and retrieving configuration settings\n",
    " - Counting occurrences of elements in a list\n"
   ]
  },
  {
   "cell_type": "code",
   "execution_count": 1,
   "id": "b299a859",
   "metadata": {},
   "outputs": [
    {
     "name": "stdout",
     "output_type": "stream",
     "text": [
      "{'brand': 'Ford', 'model': 'Mustang', 'year': 1964}\n"
     ]
    }
   ],
   "source": [
    "# Create and print a dictionary:\n",
    "\n",
    "thisdict = {\n",
    "  \"brand\": \"Ford\",\n",
    "  \"model\": \"Mustang\",\n",
    "  \"year\": 1964\n",
    "}\n",
    "\n",
    "print(thisdict)"
   ]
  },
  {
   "cell_type": "code",
   "execution_count": 2,
   "id": "17c566aa",
   "metadata": {},
   "outputs": [
    {
     "name": "stdout",
     "output_type": "stream",
     "text": [
      "Ford\n"
     ]
    },
    {
     "ename": "KeyError",
     "evalue": "1",
     "output_type": "error",
     "traceback": [
      "\u001b[0;31m---------------------------------------------------------------------------\u001b[0m",
      "\u001b[0;31mKeyError\u001b[0m                                  Traceback (most recent call last)",
      "Cell \u001b[0;32mIn[2], line 14\u001b[0m\n\u001b[1;32m      8\u001b[0m thisdict \u001b[38;5;241m=\u001b[39m {\n\u001b[1;32m      9\u001b[0m   \u001b[38;5;124m\"\u001b[39m\u001b[38;5;124mbrand\u001b[39m\u001b[38;5;124m\"\u001b[39m: \u001b[38;5;124m\"\u001b[39m\u001b[38;5;124mFord\u001b[39m\u001b[38;5;124m\"\u001b[39m,\n\u001b[1;32m     10\u001b[0m   \u001b[38;5;124m\"\u001b[39m\u001b[38;5;124mmodel\u001b[39m\u001b[38;5;124m\"\u001b[39m: \u001b[38;5;124m\"\u001b[39m\u001b[38;5;124mMustang\u001b[39m\u001b[38;5;124m\"\u001b[39m,\n\u001b[1;32m     11\u001b[0m   \u001b[38;5;124m\"\u001b[39m\u001b[38;5;124myear\u001b[39m\u001b[38;5;124m\"\u001b[39m: \u001b[38;5;241m1964\u001b[39m\n\u001b[1;32m     12\u001b[0m }\n\u001b[1;32m     13\u001b[0m \u001b[38;5;28mprint\u001b[39m(thisdict[\u001b[38;5;124m\"\u001b[39m\u001b[38;5;124mbrand\u001b[39m\u001b[38;5;124m\"\u001b[39m])\n\u001b[0;32m---> 14\u001b[0m \u001b[38;5;28mprint\u001b[39m(thisdict[\u001b[38;5;241m1\u001b[39m])\n",
      "\u001b[0;31mKeyError\u001b[0m: 1"
     ]
    }
   ],
   "source": [
    "# Dictionary items are ordered, changeable, and do not allow duplicates.\n",
    "\n",
    "# Dictionary items are presented in key:value pairs, and can be referred to by using the key name.\n",
    "\n",
    "#Example\n",
    "# Print the \"brand\" value of the dictionary:\n",
    "\n",
    "thisdict = {\n",
    "  \"brand\": \"Ford\",\n",
    "  \"model\": \"Mustang\",\n",
    "  \"year\": 1964\n",
    "}\n",
    "print(thisdict[\"brand\"])\n",
    "print(thisdict[1]) # error : can't access using index\n"
   ]
  },
  {
   "cell_type": "markdown",
   "id": "711f7501",
   "metadata": {},
   "source": [
    "## As of Python version 3.7, dictionaries are ordered. In Python 3.6 and earlier, dictionaries are unordered."
   ]
  },
  {
   "cell_type": "code",
   "execution_count": null,
   "id": "09cbe419",
   "metadata": {},
   "outputs": [],
   "source": []
  }
 ],
 "metadata": {
  "kernelspec": {
   "display_name": "Python 3 (ipykernel)",
   "language": "python",
   "name": "python3"
  },
  "language_info": {
   "codemirror_mode": {
    "name": "ipython",
    "version": 3
   },
   "file_extension": ".py",
   "mimetype": "text/x-python",
   "name": "python",
   "nbconvert_exporter": "python",
   "pygments_lexer": "ipython3",
   "version": "3.11.5"
  }
 },
 "nbformat": 4,
 "nbformat_minor": 5
}
