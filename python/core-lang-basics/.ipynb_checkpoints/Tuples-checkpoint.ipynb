{
 "cells": [
  {
   "cell_type": "markdown",
   "id": "09b7d3e3",
   "metadata": {},
   "source": [
    "## Tuples:\n",
    " - Ordered, immutable collection of elements\n",
    " - Defined with parentheses () instead of square brackets []\n",
    "\n",
    "### Basic operations:\n",
    " - Accessing elements: tuple[index]\n",
    " - Slicing: tuple[start : end : step]\n",
    " - Tuple unpacking: values in a tuple assigned to multiple variables\n",
    " \n",
    "### Common use cases:\n",
    " - Returning multiple values from a function\n",
    " - Storing related static data as a single unit\n",
    "\n"
   ]
  },
  {
   "cell_type": "code",
   "execution_count": 2,
   "id": "bdbff278",
   "metadata": {},
   "outputs": [
    {
     "name": "stdout",
     "output_type": "stream",
     "text": [
      "(12, 'Narasimha', 4.0)\n",
      "4.0\n",
      "4.0\n"
     ]
    }
   ],
   "source": [
    "t1 = (12,'Narasimha', 4.0)\n",
    "print(t1)\n",
    "\n",
    "print(t1[2])\n",
    "\n",
    "\n",
    "print(t1[-1])"
   ]
  },
  {
   "cell_type": "code",
   "execution_count": 3,
   "id": "4bf20527",
   "metadata": {},
   "outputs": [
    {
     "name": "stdout",
     "output_type": "stream",
     "text": [
      "(12, 'Narasimha', 4.0)\n",
      "(13, 'knr', 4.1)\n",
      "(12, 'Narasimha', 4.0, 13, 'knr', 4.1)\n"
     ]
    }
   ],
   "source": [
    "t2 = (13,'knr', 4.1)\n",
    "print(t1)\n",
    "print(t2)\n",
    "\n",
    "t3 = t1+t2\n",
    "print(t3)"
   ]
  },
  {
   "cell_type": "code",
   "execution_count": 4,
   "id": "29cf7af3",
   "metadata": {},
   "outputs": [
    {
     "name": "stdout",
     "output_type": "stream",
     "text": [
      "(12, 'Narasimha', 4.0, 13, 'knr', 4.1)\n"
     ]
    }
   ],
   "source": [
    "print(t3[:])"
   ]
  },
  {
   "cell_type": "code",
   "execution_count": 5,
   "id": "c6a3028c",
   "metadata": {},
   "outputs": [
    {
     "name": "stdout",
     "output_type": "stream",
     "text": [
      "('Narasimha', 4.0, 13)\n"
     ]
    }
   ],
   "source": [
    "print(t3[1:4])"
   ]
  },
  {
   "cell_type": "code",
   "execution_count": 7,
   "id": "605fe294",
   "metadata": {},
   "outputs": [
    {
     "name": "stdout",
     "output_type": "stream",
     "text": [
      "('Narasimha', 13)\n"
     ]
    }
   ],
   "source": [
    "print(t3[1:4:2])"
   ]
  },
  {
   "cell_type": "code",
   "execution_count": 8,
   "id": "58c3e585",
   "metadata": {},
   "outputs": [
    {
     "ename": "AttributeError",
     "evalue": "'tuple' object has no attribute 'append'",
     "output_type": "error",
     "traceback": [
      "\u001b[0;31m---------------------------------------------------------------------------\u001b[0m",
      "\u001b[0;31mAttributeError\u001b[0m                            Traceback (most recent call last)",
      "Cell \u001b[0;32mIn[8], line 1\u001b[0m\n\u001b[0;32m----> 1\u001b[0m t4 \u001b[38;5;241m=\u001b[39m t1\u001b[38;5;241m.\u001b[39mappend(t2)\n\u001b[1;32m      2\u001b[0m \u001b[38;5;28mprint\u001b[39m(t4)\n",
      "\u001b[0;31mAttributeError\u001b[0m: 'tuple' object has no attribute 'append'"
     ]
    }
   ],
   "source": [
    "t4 = t1.append(t2) # invalid method\n",
    "print(t4)"
   ]
  },
  {
   "cell_type": "code",
   "execution_count": 9,
   "id": "1bcdaad8",
   "metadata": {},
   "outputs": [
    {
     "ename": "AttributeError",
     "evalue": "'tuple' object has no attribute 'extend'",
     "output_type": "error",
     "traceback": [
      "\u001b[0;31m---------------------------------------------------------------------------\u001b[0m",
      "\u001b[0;31mAttributeError\u001b[0m                            Traceback (most recent call last)",
      "Cell \u001b[0;32mIn[9], line 1\u001b[0m\n\u001b[0;32m----> 1\u001b[0m t4 \u001b[38;5;241m=\u001b[39m t1\u001b[38;5;241m.\u001b[39mextend(t2) \u001b[38;5;66;03m# invalid method\u001b[39;00m\n\u001b[1;32m      2\u001b[0m \u001b[38;5;28mprint\u001b[39m(t4)\n",
      "\u001b[0;31mAttributeError\u001b[0m: 'tuple' object has no attribute 'extend'"
     ]
    }
   ],
   "source": [
    "t4 = t1.extend(t2) # invalid method\n",
    "print(t4)"
   ]
  },
  {
   "cell_type": "code",
   "execution_count": 10,
   "id": "63682da7",
   "metadata": {},
   "outputs": [
    {
     "name": "stdout",
     "output_type": "stream",
     "text": [
      "88\n",
      "72\n"
     ]
    }
   ],
   "source": [
    "import sys\n",
    "\n",
    "l1 = [1,2,3,4]\n",
    "t1 =(1,2,3,4)\n",
    "\n",
    "print(sys.getsizeof(l1))\n",
    "print(sys.getsizeof(t1))"
   ]
  },
  {
   "cell_type": "code",
   "execution_count": 11,
   "id": "d39844c2",
   "metadata": {},
   "outputs": [
    {
     "name": "stdout",
     "output_type": "stream",
     "text": [
      "List time is : 819000\n",
      "Tuple time is : 812000\n"
     ]
    }
   ],
   "source": [
    "import sys, time\n",
    "l1 = list(range(10000))\n",
    "t1 = tuple(range(10000))\n",
    "\n",
    "start = time.time_ns()\n",
    "\n",
    "for i in range(len(l1)):\n",
    "    a = l1[i]\n",
    "\n",
    "end = time.time_ns()\n",
    "print(\"List time is :\", end - start)\n",
    "\n",
    "\n",
    "start = time.time_ns()\n",
    "\n",
    "for i in range(len(t1)):\n",
    "    a = t1[i]\n",
    "\n",
    "end = time.time_ns()\n",
    "print(\"Tuple time is :\", end - start)\n",
    "    "
   ]
  },
  {
   "cell_type": "code",
   "execution_count": 13,
   "id": "4928b6c4",
   "metadata": {},
   "outputs": [
    {
     "name": "stdout",
     "output_type": "stream",
     "text": [
      "(12, 'Narasimha', 4.0)\n",
      "12\n",
      "Narasimha\n",
      "4.0\n"
     ]
    }
   ],
   "source": [
    "# Tuple Unpacking\n",
    "t1 = (12,'Narasimha', 4.0)\n",
    "print(t1)\n",
    "\n",
    "num, name, score = t1\n",
    "\n",
    "print(num)\n",
    "print(name)\n",
    "print(score)\n"
   ]
  },
  {
   "cell_type": "code",
   "execution_count": 1,
   "id": "e938f44c",
   "metadata": {},
   "outputs": [
    {
     "name": "stdout",
     "output_type": "stream",
     "text": [
      "(1, 2, 3)\n",
      "(1, 2, 3, 1, 2, 3, 1, 2, 3)\n"
     ]
    }
   ],
   "source": [
    "#tuple repetition\n",
    "\n",
    "t1 = (1,2,3)\n",
    "print(t1)\n",
    "\n",
    "print(t1*3)\n"
   ]
  },
  {
   "cell_type": "code",
   "execution_count": null,
   "id": "682f85e6",
   "metadata": {},
   "outputs": [],
   "source": []
  }
 ],
 "metadata": {
  "kernelspec": {
   "display_name": "Python 3 (ipykernel)",
   "language": "python",
   "name": "python3"
  },
  "language_info": {
   "codemirror_mode": {
    "name": "ipython",
    "version": 3
   },
   "file_extension": ".py",
   "mimetype": "text/x-python",
   "name": "python",
   "nbconvert_exporter": "python",
   "pygments_lexer": "ipython3",
   "version": "3.11.5"
  }
 },
 "nbformat": 4,
 "nbformat_minor": 5
}
