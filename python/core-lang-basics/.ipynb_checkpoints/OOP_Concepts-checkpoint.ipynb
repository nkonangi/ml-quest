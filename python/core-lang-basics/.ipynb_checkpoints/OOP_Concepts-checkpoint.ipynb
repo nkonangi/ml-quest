{
 "cells": [
  {
   "cell_type": "markdown",
   "id": "ef4d01c9",
   "metadata": {},
   "source": [
    "#### Create a new class"
   ]
  },
  {
   "cell_type": "code",
   "execution_count": 1,
   "id": "6b97692d",
   "metadata": {},
   "outputs": [],
   "source": [
    "# create a class\n",
    "class Student:\n",
    "    \n",
    "    # create constructor\n",
    "    def __init__(self, name):\n",
    "        self.name = name #define an attribute\n",
    "        \n",
    "    # Define a method\n",
    "    def study(self):\n",
    "        print(self.name, \"is studying\")"
   ]
  },
  {
   "cell_type": "code",
   "execution_count": 5,
   "id": "29585549",
   "metadata": {},
   "outputs": [
    {
     "name": "stdout",
     "output_type": "stream",
     "text": [
      "John is studying\n",
      "Marry is studying\n"
     ]
    }
   ],
   "source": [
    "student1 = Student(\"John\")\n",
    "student1.study()\n",
    "\n",
    "student2 = Student(\"Marry\")\n",
    "student2.study()"
   ]
  },
  {
   "cell_type": "code",
   "execution_count": 3,
   "id": "55eb483c",
   "metadata": {},
   "outputs": [
    {
     "data": {
      "text/plain": [
       "'John'"
      ]
     },
     "execution_count": 3,
     "metadata": {},
     "output_type": "execute_result"
    }
   ],
   "source": [
    "student1.name"
   ]
  },
  {
   "cell_type": "code",
   "execution_count": 6,
   "id": "efb95622",
   "metadata": {},
   "outputs": [
    {
     "data": {
      "text/plain": [
       "'Marry'"
      ]
     },
     "execution_count": 6,
     "metadata": {},
     "output_type": "execute_result"
    }
   ],
   "source": [
    "student2.name"
   ]
  },
  {
   "cell_type": "code",
   "execution_count": 7,
   "id": "21b3011b",
   "metadata": {},
   "outputs": [],
   "source": [
    "class Employee:\n",
    "    \n",
    "    def __init__(self, number,name, age,dept):\n",
    "        self.number = number\n",
    "        self.name = name\n",
    "        self.age = age\n",
    "        self.dept = dept\n",
    "        \n",
    "    def call_me(self):\n",
    "        print(\"My Name is \", self.name)\n",
    "        \n",
    "    def dept_name(self):\n",
    "        print(\"My Dept Name is \",self.dept)\n",
    "    def __repr__(self):\n",
    "        return \" Name: \"+self.name + \", Age: \" + str(self.age)"
   ]
  },
  {
   "cell_type": "code",
   "execution_count": 8,
   "id": "02c94f1b",
   "metadata": {},
   "outputs": [],
   "source": [
    "emp1 = Employee(12,\"Narasimha\", 43,\"Customer\")"
   ]
  },
  {
   "cell_type": "code",
   "execution_count": 9,
   "id": "ceea26b8",
   "metadata": {},
   "outputs": [
    {
     "name": "stdout",
     "output_type": "stream",
     "text": [
      "My Name is  Narasimha\n"
     ]
    }
   ],
   "source": [
    "emp1.call_me()"
   ]
  },
  {
   "cell_type": "code",
   "execution_count": 10,
   "id": "666ca13b",
   "metadata": {},
   "outputs": [
    {
     "name": "stdout",
     "output_type": "stream",
     "text": [
      "My Dept Name is  Customer\n"
     ]
    }
   ],
   "source": [
    "emp1.dept_name()"
   ]
  },
  {
   "cell_type": "code",
   "execution_count": 11,
   "id": "edc0ac2a",
   "metadata": {},
   "outputs": [
    {
     "name": "stdout",
     "output_type": "stream",
     "text": [
      " Name: Narasimha, Age: 43\n"
     ]
    }
   ],
   "source": [
    "print(emp1)"
   ]
  },
  {
   "cell_type": "code",
   "execution_count": null,
   "id": "fc7edf1b",
   "metadata": {},
   "outputs": [],
   "source": []
  }
 ],
 "metadata": {
  "kernelspec": {
   "display_name": "Python 3 (ipykernel)",
   "language": "python",
   "name": "python3"
  },
  "language_info": {
   "codemirror_mode": {
    "name": "ipython",
    "version": 3
   },
   "file_extension": ".py",
   "mimetype": "text/x-python",
   "name": "python",
   "nbconvert_exporter": "python",
   "pygments_lexer": "ipython3",
   "version": "3.11.5"
  }
 },
 "nbformat": 4,
 "nbformat_minor": 5
}
