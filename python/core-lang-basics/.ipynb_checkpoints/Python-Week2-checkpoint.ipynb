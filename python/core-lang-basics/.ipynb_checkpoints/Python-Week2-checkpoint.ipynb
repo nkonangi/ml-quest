{
 "cells": [
  {
   "cell_type": "markdown",
   "id": "b47fba79",
   "metadata": {
    "id": "b47fba79"
   },
   "source": [
    "# Python Fundamentals - Week 2"
   ]
  },
  {
   "cell_type": "markdown",
   "id": "cfccc0a5",
   "metadata": {
    "id": "cfccc0a5"
   },
   "source": [
    "### Tuples"
   ]
  },
  {
   "cell_type": "code",
   "execution_count": null,
   "id": "f150976a",
   "metadata": {
    "id": "f150976a",
    "outputId": "938e32b9-3e13-4377-c92b-70e2dd9dca7c"
   },
   "outputs": [
    {
     "name": "stdout",
     "output_type": "stream",
     "text": [
      "('Max', 28, 'New York')\n",
      "<class 'tuple'>\n"
     ]
    }
   ],
   "source": [
    "# Define a new tuple\n",
    "tuple_1 = (\"Max\", 28, \"New York\")\n",
    "\n",
    "print(tuple_1)\n",
    "print(type(tuple_1))"
   ]
  },
  {
   "cell_type": "code",
   "execution_count": null,
   "id": "c64721dc",
   "metadata": {
    "id": "c64721dc",
    "outputId": "2d23b88e-c319-4e44-fd51-ea868a367d7c"
   },
   "outputs": [
    {
     "name": "stdout",
     "output_type": "stream",
     "text": [
      "('Linda', 25, 'Miami')\n"
     ]
    }
   ],
   "source": [
    "# Parentheses are optional\n",
    "tuple_2 = \"Linda\", 25, \"Miami\"\n",
    "print(tuple_2)"
   ]
  },
  {
   "cell_type": "code",
   "execution_count": null,
   "id": "be04b55d",
   "metadata": {
    "id": "be04b55d",
    "outputId": "b218c491-8b45-448d-b0ac-487d7c7e0abb",
    "scrolled": false
   },
   "outputs": [
    {
     "ename": "TypeError",
     "evalue": "'tuple' object does not support item assignment",
     "output_type": "error",
     "traceback": [
      "\u001b[0;31m---------------------------------------------------------------------------\u001b[0m",
      "\u001b[0;31mTypeError\u001b[0m                                 Traceback (most recent call last)",
      "Cell \u001b[0;32mIn[3], line 2\u001b[0m\n\u001b[1;32m      1\u001b[0m \u001b[38;5;66;03m# Tuples are immutable (ERROR)\u001b[39;00m\n\u001b[0;32m----> 2\u001b[0m tuple_1[\u001b[38;5;241m2\u001b[39m] \u001b[38;5;241m=\u001b[39m \u001b[38;5;124m\"\u001b[39m\u001b[38;5;124mBoston\u001b[39m\u001b[38;5;124m\"\u001b[39m\n",
      "\u001b[0;31mTypeError\u001b[0m: 'tuple' object does not support item assignment"
     ]
    }
   ],
   "source": [
    "# Tuples are immutable (ERROR)\n",
    "tuple_1[2] = \"Boston\""
   ]
  },
  {
   "cell_type": "code",
   "execution_count": null,
   "id": "22b4d3da",
   "metadata": {
    "id": "22b4d3da",
    "outputId": "1c8dd401-70a5-44e4-fbf3-033669cd0045"
   },
   "outputs": [
    {
     "name": "stdout",
     "output_type": "stream",
     "text": [
      "['Max', 28, 'Boston']\n"
     ]
    }
   ],
   "source": [
    "# Lists are mutable (unlike tuples)\n",
    "list_1 = [\"Max\", 28, \"New York\"]\n",
    "\n",
    "list_1[2] = \"Boston\"\n",
    "\n",
    "print(list_1)"
   ]
  },
  {
   "cell_type": "code",
   "execution_count": null,
   "id": "3d2abf36",
   "metadata": {
    "id": "3d2abf36",
    "outputId": "7b3f07c8-613f-4072-c6fe-9f337aed47fe"
   },
   "outputs": [
    {
     "name": "stdout",
     "output_type": "stream",
     "text": [
      "['Alice', 'Max']\n",
      "[25, 28]\n",
      "['New York', 'Boston']\n"
     ]
    }
   ],
   "source": [
    "# Tuples are iterable (combine tuples and lists)\n",
    "new_tuple = ([\"Alice\", 25, \"New York\"], [\"Max\", 28, \"Boston\"])\n",
    "\n",
    "names = [item[0] for item in new_tuple]\n",
    "ages = [item[1] for item in new_tuple]\n",
    "cities = [item[-1] for item in new_tuple]\n",
    "\n",
    "print(names)\n",
    "print(ages)\n",
    "print(cities)"
   ]
  },
  {
   "cell_type": "code",
   "execution_count": null,
   "id": "98ea3401",
   "metadata": {
    "id": "98ea3401",
    "outputId": "9d5d9ac5-8a92-4ee3-b093-88705c4dd2d6"
   },
   "outputs": [
    {
     "name": "stdout",
     "output_type": "stream",
     "text": [
      "Alice\n",
      "25\n",
      "New York\n"
     ]
    }
   ],
   "source": [
    "# Tuple unpacking\n",
    "person = (\"Alice\", 25, \"New York\")\n",
    "\n",
    "name, age, city = person\n",
    "\n",
    "print(name)\n",
    "print(age)\n",
    "print(city)"
   ]
  },
  {
   "cell_type": "code",
   "execution_count": null,
   "id": "eab5caf9",
   "metadata": {
    "id": "eab5caf9",
    "outputId": "337232be-21d7-4291-a40a-c40248788b22",
    "scrolled": true
   },
   "outputs": [
    {
     "name": "stdout",
     "output_type": "stream",
     "text": [
      "5\n",
      "<class 'int'>\n",
      "\n",
      "(5,)\n",
      "<class 'tuple'>\n",
      "\n",
      "('a',)\n",
      "<class 'tuple'>\n"
     ]
    }
   ],
   "source": [
    "# Integers: One element Tuple definition\n",
    "\n",
    "tuple_1 = (5) # Not a tuple\n",
    "\n",
    "print(tuple_1)\n",
    "print(type(tuple_1))\n",
    "print()\n",
    "\n",
    "tuple_2 = (5,) # tuple\n",
    "\n",
    "print(tuple_2)\n",
    "print(type(tuple_2))\n",
    "print()\n",
    "\n",
    "# Also true for strings\n",
    "new_tuple = ('a',)\n",
    "\n",
    "print(new_tuple)\n",
    "print(type(new_tuple))"
   ]
  },
  {
   "cell_type": "markdown",
   "id": "0afff9f1",
   "metadata": {
    "id": "0afff9f1"
   },
   "source": [
    "#### Iteration through Tuples"
   ]
  },
  {
   "cell_type": "code",
   "execution_count": null,
   "id": "3565606d",
   "metadata": {
    "id": "3565606d",
    "outputId": "3a68063d-e180-4d33-b22c-152f16a5618f"
   },
   "outputs": [
    {
     "name": "stdout",
     "output_type": "stream",
     "text": [
      "Max\n",
      "28\n",
      "New York\n",
      "\n",
      "0 Max\n",
      "1 28\n",
      "2 New York\n",
      "\n",
      "0 Max\n",
      "1 28\n",
      "2 New York\n"
     ]
    }
   ],
   "source": [
    "# Iterate through a tuple\n",
    "tuple_1 = (\"Max\", 28, \"New York\")\n",
    "\n",
    "\n",
    "# Iterate by item\n",
    "for item in tuple_1:\n",
    "    print(item)\n",
    "\n",
    "print()\n",
    "\n",
    "n = len(tuple_1)\n",
    "\n",
    "# Iterate by index\n",
    "for i in range(n):\n",
    "    print(i, tuple_1[i])\n",
    "\n",
    "print()\n",
    "\n",
    "# Iterate by index and item (enumerate)\n",
    "for idx, val in enumerate(tuple_1):\n",
    "    print(idx, val)"
   ]
  },
  {
   "cell_type": "code",
   "execution_count": null,
   "id": "f9326cc0",
   "metadata": {
    "id": "f9326cc0",
    "outputId": "81257d12-e83c-4251-c15a-404242afbe1c"
   },
   "outputs": [
    {
     "name": "stdout",
     "output_type": "stream",
     "text": [
      "True False True\n"
     ]
    }
   ],
   "source": [
    "# Search a tuple\n",
    "tuple_1 = ([\"Max\", 28, \"New York\"])\n",
    "\n",
    "result1 = \"New York\" in tuple_1\n",
    "result2 = \"Chicago\" in tuple_1\n",
    "result3 = \"Boston\" not in tuple_1\n",
    "\n",
    "print(result1, result2, result3)"
   ]
  },
  {
   "cell_type": "code",
   "execution_count": null,
   "id": "0643272b",
   "metadata": {
    "id": "0643272b",
    "outputId": "85cfe9f7-63d8-446a-aed9-57a0092ef982",
    "scrolled": true
   },
   "outputs": [
    {
     "name": "stdout",
     "output_type": "stream",
     "text": [
      "5\n",
      "2\n",
      "3\n"
     ]
    }
   ],
   "source": [
    "# Some tuples properties\n",
    "my_tuple = ('a','p','p','l','e')\n",
    "\n",
    "# len() : get the number of elements in a tuple\n",
    "print(len(my_tuple))\n",
    "\n",
    "# count(x) : Return the number of items that is equal to x\n",
    "print(my_tuple.count('p'))\n",
    "\n",
    "# index(x) : Return index of first item that is equal to x\n",
    "print(my_tuple.index('l'))"
   ]
  },
  {
   "cell_type": "code",
   "execution_count": null,
   "id": "39703784",
   "metadata": {
    "id": "39703784",
    "outputId": "f821e79a-d8be-4a77-b758-03b03946dbd0"
   },
   "outputs": [
    {
     "name": "stdout",
     "output_type": "stream",
     "text": [
      "('a', 'p', 'p', 'l', 'e', 'a', 'p', 'p', 'l', 'e')\n"
     ]
    }
   ],
   "source": [
    "# repetition (such as lists and strings)\n",
    "print(('a','p','p','l','e') * 2)"
   ]
  },
  {
   "cell_type": "markdown",
   "id": "28f3167c",
   "metadata": {
    "id": "28f3167c"
   },
   "source": [
    "#### Type Conversions"
   ]
  },
  {
   "cell_type": "code",
   "execution_count": null,
   "id": "91e3b88f",
   "metadata": {
    "id": "91e3b88f",
    "outputId": "406ab09e-f8b8-428f-b55f-344f2a8770b6"
   },
   "outputs": [
    {
     "name": "stdout",
     "output_type": "stream",
     "text": [
      "(1, 2, 3)\n",
      "\n",
      "('a', 'b', 'c', 'd')\n",
      "\n",
      "['a', 'b', 'c', 'd']\n",
      "\n",
      "('H', 'e', 'l', 'l', 'o')\n"
     ]
    }
   ],
   "source": [
    "# Convert itearable to tuple\n",
    "my_list = [1, 2, 3]\n",
    "tuple_4 = tuple(my_list)\n",
    "print(tuple_4)\n",
    "\n",
    "print()\n",
    "\n",
    "# Convert list to tuple\n",
    "my_list = ['a', 'b', 'c', 'd']\n",
    "list_to_tuple = tuple(my_list)\n",
    "print(list_to_tuple)\n",
    "\n",
    "print()\n",
    "\n",
    "# Convert tuple to list\n",
    "my_tuple = ('a', 'b', 'c', 'd')\n",
    "tuple_to_list = list(my_tuple)\n",
    "print(tuple_to_list)\n",
    "\n",
    "print()\n",
    "\n",
    "# convert string to tuple\n",
    "my_str = 'Hello'\n",
    "str_to_tuple = tuple(my_str)\n",
    "print(str_to_tuple)"
   ]
  },
  {
   "cell_type": "markdown",
   "id": "4bfc009c",
   "metadata": {
    "id": "4bfc009c"
   },
   "source": [
    "#### Memory Usage"
   ]
  },
  {
   "cell_type": "code",
   "execution_count": null,
   "id": "8f3462da",
   "metadata": {
    "id": "8f3462da"
   },
   "outputs": [],
   "source": [
    "my_list = [0, 1, 2, 5, 10]\n",
    "my_tuple = (0, 1, 2, 5, 10)"
   ]
  },
  {
   "cell_type": "code",
   "execution_count": null,
   "id": "8587c6d8",
   "metadata": {
    "id": "8587c6d8",
    "outputId": "59935d19-f63e-428a-ae25-e7e853d2eb89"
   },
   "outputs": [
    {
     "name": "stdout",
     "output_type": "stream",
     "text": [
      "104 bytes\n",
      "80 bytes\n"
     ]
    }
   ],
   "source": [
    "# compare the size\n",
    "import sys\n",
    "\n",
    "print(sys.getsizeof(my_list), \"bytes\")\n",
    "print(sys.getsizeof(my_tuple), \"bytes\")"
   ]
  },
  {
   "cell_type": "markdown",
   "id": "f0ab431a",
   "metadata": {
    "id": "f0ab431a"
   },
   "source": [
    "#### Function Output"
   ]
  },
  {
   "cell_type": "code",
   "execution_count": null,
   "id": "852cb6f2",
   "metadata": {
    "id": "852cb6f2"
   },
   "outputs": [],
   "source": [
    "# a = (a // b) * b + (a % b)\n",
    "\n",
    "# Using a tuple to return multiple values\n",
    "def divide(a, b):\n",
    "    quotient = a // b\n",
    "    remainder = a % b\n",
    "    return quotient, remainder"
   ]
  },
  {
   "cell_type": "code",
   "execution_count": null,
   "id": "28033711",
   "metadata": {
    "id": "28033711",
    "outputId": "be5a2a98-dbac-4dca-80c8-43ed0e569014"
   },
   "outputs": [
    {
     "name": "stdout",
     "output_type": "stream",
     "text": [
      "3 1\n"
     ]
    }
   ],
   "source": [
    "# result = divide(10, 3) # 10 = 3 x 3 + 1\n",
    "\n",
    "# result = divide(10, 3)\n",
    "# print(result)\n",
    "\n",
    "quotient, remainder = divide(10, 3)\n",
    "print(quotient, remainder)"
   ]
  },
  {
   "cell_type": "markdown",
   "id": "f11b8688",
   "metadata": {
    "id": "f11b8688"
   },
   "source": [
    "### Sets"
   ]
  },
  {
   "cell_type": "code",
   "execution_count": null,
   "id": "d86b5344",
   "metadata": {
    "id": "d86b5344",
    "outputId": "1213b1c3-5a5a-4331-a821-6d88dee2aeef"
   },
   "outputs": [
    {
     "name": "stdout",
     "output_type": "stream",
     "text": [
      "Here is our set: {1, 19, 4, 5, 6, 9, 10}\n",
      "\n",
      "The length of the set is: 7\n",
      "\n",
      "The maximum element of the set 19\n"
     ]
    }
   ],
   "source": [
    "# Define a new set\n",
    "set1 = {1, 5, 10, 4, 6, 9, 19}\n",
    "\n",
    "print(\"Here is our set:\", set1)\n",
    "print(\"\\nThe length of the set is:\", len(set1))\n",
    "print(\"\\nThe maximum element of the set\", max(set1))"
   ]
  },
  {
   "cell_type": "code",
   "execution_count": null,
   "id": "0ee5290a",
   "metadata": {
    "id": "0ee5290a",
    "outputId": "3006d1fc-308e-4543-ac76-44cf45d47833"
   },
   "outputs": [
    {
     "name": "stdout",
     "output_type": "stream",
     "text": [
      "{0, 1, 2, 3, 4, 6, 7, 8, 1000, 10, 'a', 'b', -4}\n"
     ]
    }
   ],
   "source": [
    "# The sorted behavior is due to small values of integers which is not necessarily the case\n",
    "\n",
    "# Check this out:\n",
    "new_set = {1, 3, 4, 2, 0, -4, 6, 10, 7, 8, \"a\", \"b\", 1000}\n",
    "print(new_set)"
   ]
  },
  {
   "cell_type": "code",
   "execution_count": null,
   "id": "b1b1c738",
   "metadata": {
    "id": "b1b1c738",
    "outputId": "45d04c39-cd60-40af-9da9-8c67242fdfed"
   },
   "outputs": [
    {
     "name": "stdout",
     "output_type": "stream",
     "text": [
      "set()\n",
      "<class 'set'>\n",
      "\n",
      "{}\n",
      "<class 'dict'>\n"
     ]
    }
   ],
   "source": [
    "# Define an empty set\n",
    "empty_set = set()\n",
    "print(empty_set)\n",
    "print(type(empty_set))\n",
    "\n",
    "print()\n",
    "\n",
    "# Don't confuse it with dictionary\n",
    "empty_dict = {}\n",
    "# empty_dict = dict()\n",
    "print(empty_dict)\n",
    "print(type(empty_dict))"
   ]
  },
  {
   "cell_type": "code",
   "execution_count": null,
   "id": "91520d3a",
   "metadata": {
    "id": "91520d3a",
    "outputId": "707bc8e5-9a72-4378-87dc-ead9d37b6407"
   },
   "outputs": [
    {
     "ename": "TypeError",
     "evalue": "'set' object is not subscriptable",
     "output_type": "error",
     "traceback": [
      "\u001b[0;31m---------------------------------------------------------------------------\u001b[0m",
      "\u001b[0;31mTypeError\u001b[0m                                 Traceback (most recent call last)",
      "Cell \u001b[0;32mIn[33], line 4\u001b[0m\n\u001b[1;32m      1\u001b[0m \u001b[38;5;66;03m# Set is not iterable\u001b[39;00m\n\u001b[1;32m      2\u001b[0m set1 \u001b[38;5;241m=\u001b[39m {\u001b[38;5;241m1\u001b[39m, \u001b[38;5;241m5\u001b[39m, \u001b[38;5;241m10\u001b[39m, \u001b[38;5;241m4\u001b[39m, \u001b[38;5;241m6\u001b[39m, \u001b[38;5;241m9\u001b[39m, \u001b[38;5;241m19\u001b[39m}\n\u001b[0;32m----> 4\u001b[0m \u001b[43mset1\u001b[49m\u001b[43m[\u001b[49m\u001b[38;5;241;43m2\u001b[39;49m\u001b[43m]\u001b[49m\n",
      "\u001b[0;31mTypeError\u001b[0m: 'set' object is not subscriptable"
     ]
    }
   ],
   "source": [
    "# Set is not iterable\n",
    "set1 = {1, 5, 10, 4, 6, 9, 19}\n",
    "\n",
    "set1[2]"
   ]
  },
  {
   "cell_type": "code",
   "execution_count": null,
   "id": "fd207339",
   "metadata": {
    "id": "fd207339",
    "outputId": "cdac52c9-0b03-42a9-f03e-e3c61d775dc9"
   },
   "outputs": [
    {
     "name": "stdout",
     "output_type": "stream",
     "text": [
      "{8, 2, 4, 6}\n"
     ]
    }
   ],
   "source": [
    "# Sets remove duplicate elements\n",
    "numbers = {2, 4, 6, 6, 2, 8, 6, 6, 6, 6}\n",
    "print(numbers)"
   ]
  },
  {
   "cell_type": "markdown",
   "id": "30f114df",
   "metadata": {
    "id": "30f114df"
   },
   "source": [
    "#### Sets Built-in Functions"
   ]
  },
  {
   "cell_type": "code",
   "execution_count": null,
   "id": "135cea0c",
   "metadata": {
    "id": "135cea0c",
    "outputId": "69f37868-8dc5-4074-cd73-4c43de1ace1e"
   },
   "outputs": [
    {
     "name": "stdout",
     "output_type": "stream",
     "text": [
      "{'apple', 'cherry', 'banana'}\n",
      "\n",
      "{'apple', 'cherry', 'orange', 'banana'}\n",
      "\n",
      "{'apple', 'orange', 'banana'}\n"
     ]
    }
   ],
   "source": [
    "# Set built-in functions\n",
    "\n",
    "fruits = {\"apple\", \"banana\", \"cherry\"}\n",
    "print(fruits)\n",
    "\n",
    "print()\n",
    "\n",
    "# Adding an element\n",
    "fruits.add(\"orange\")\n",
    "print(fruits)\n",
    "\n",
    "print()\n",
    "\n",
    "# Removing an element\n",
    "fruits.remove(\"cherry\")\n",
    "print(fruits)"
   ]
  },
  {
   "cell_type": "code",
   "execution_count": null,
   "id": "7bdca4e9",
   "metadata": {
    "id": "7bdca4e9",
    "outputId": "139b8b41-b084-43dd-9637-536bf1573533"
   },
   "outputs": [
    {
     "name": "stdout",
     "output_type": "stream",
     "text": [
      "{'kiwi', 'banana', 'strawberry', 'apple', 'orange'}\n",
      "\n",
      "{'orange'}\n",
      "\n",
      "{'strawberry', 'kiwi', 'apple', 'banana'}\n",
      "\n",
      "{'kiwi', 'banana', 'strawberry', 'apple', 'orange'}\n"
     ]
    }
   ],
   "source": [
    "more_fruits = {\"orange\", \"strawberry\", \"kiwi\"}\n",
    "\n",
    "# Union\n",
    "all_fruits = fruits.union(more_fruits)\n",
    "print(all_fruits)\n",
    "\n",
    "print()\n",
    "\n",
    "# Intersection\n",
    "common_fruits = fruits.intersection(more_fruits)\n",
    "print(common_fruits)\n",
    "\n",
    "print()\n",
    "\n",
    "# Difference\n",
    "different_fruits = all_fruits.difference(common_fruits)\n",
    "print(different_fruits)\n",
    "\n",
    "print()\n",
    "\n",
    "# Update\n",
    "fruits = {\"apple\", \"banana\", \"orange\"}\n",
    "more_fruits = {\"orange\", \"strawberry\", \"kiwi\"}\n",
    "fruits.update(more_fruits)\n",
    "print(fruits)"
   ]
  },
  {
   "cell_type": "code",
   "execution_count": null,
   "id": "68c4f172",
   "metadata": {
    "id": "68c4f172",
    "outputId": "d406b305-b7f7-4bc4-ef6a-d7dd735299af"
   },
   "outputs": [
    {
     "ename": "KeyError",
     "evalue": "'watermelon'",
     "output_type": "error",
     "traceback": [
      "\u001b[0;31m---------------------------------------------------------------------------\u001b[0m",
      "\u001b[0;31mKeyError\u001b[0m                                  Traceback (most recent call last)",
      "Cell \u001b[0;32mIn[39], line 2\u001b[0m\n\u001b[1;32m      1\u001b[0m \u001b[38;5;66;03m# Removed element has to be in the set (ERROR)\u001b[39;00m\n\u001b[0;32m----> 2\u001b[0m \u001b[43mfruits\u001b[49m\u001b[38;5;241;43m.\u001b[39;49m\u001b[43mremove\u001b[49m\u001b[43m(\u001b[49m\u001b[38;5;124;43m\"\u001b[39;49m\u001b[38;5;124;43mwatermelon\u001b[39;49m\u001b[38;5;124;43m\"\u001b[39;49m\u001b[43m)\u001b[49m\n",
      "\u001b[0;31mKeyError\u001b[0m: 'watermelon'"
     ]
    }
   ],
   "source": [
    "# Removed element has to be in the set (ERROR)\n",
    "fruits.remove(\"watermelon\")"
   ]
  },
  {
   "cell_type": "code",
   "execution_count": null,
   "id": "35539f42",
   "metadata": {
    "id": "35539f42",
    "outputId": "261c58e7-1427-4a03-8912-4601b6d69a20"
   },
   "outputs": [
    {
     "name": "stdout",
     "output_type": "stream",
     "text": [
      "{'kiwi', 'strawberry', 'apple', 'orange'}\n"
     ]
    }
   ],
   "source": [
    "# discard(x): removes x, nothing if element is not present\n",
    "fruits.discard(\"banana\")\n",
    "print(fruits)"
   ]
  },
  {
   "cell_type": "code",
   "execution_count": null,
   "id": "1317b3c2",
   "metadata": {
    "id": "1317b3c2",
    "outputId": "5efe80b7-5135-4b36-c42c-f826c2ce39f6"
   },
   "outputs": [
    {
     "name": "stdout",
     "output_type": "stream",
     "text": [
      "{'kiwi', 'strawberry', 'apple', 'orange'}\n"
     ]
    }
   ],
   "source": [
    "fruits.discard(\"blueberry\")\n",
    "print(fruits)"
   ]
  },
  {
   "cell_type": "code",
   "execution_count": null,
   "id": "73b118f8",
   "metadata": {
    "id": "73b118f8",
    "outputId": "e2c32789-ca84-4bf2-ce5c-6f7f8978e2ed"
   },
   "outputs": [
    {
     "name": "stdout",
     "output_type": "stream",
     "text": [
      "set()\n"
     ]
    }
   ],
   "source": [
    "# clear() : remove all elements\n",
    "fruits.clear()\n",
    "print(fruits)"
   ]
  },
  {
   "cell_type": "markdown",
   "id": "cb202746",
   "metadata": {
    "id": "cb202746"
   },
   "source": [
    "#### subset/superset/disjoint"
   ]
  },
  {
   "cell_type": "code",
   "execution_count": null,
   "id": "64517cd6",
   "metadata": {
    "id": "64517cd6"
   },
   "outputs": [],
   "source": [
    "setA = {1, 2, 3, 4, 5, 6}\n",
    "setB = {1, 2, 3}\n",
    "setC = {7, 8, 9}"
   ]
  },
  {
   "cell_type": "code",
   "execution_count": null,
   "id": "a27f9a21",
   "metadata": {
    "id": "a27f9a21",
    "outputId": "dceb2fee-d1a5-45ce-c59a-82b19eb9506b"
   },
   "outputs": [
    {
     "name": "stdout",
     "output_type": "stream",
     "text": [
      "False\n",
      "True\n"
     ]
    }
   ],
   "source": [
    "# issubset(setX): Returns True if setX contains the set\n",
    "print(setA.issubset(setB))\n",
    "print(setB.issubset(setA))"
   ]
  },
  {
   "cell_type": "code",
   "execution_count": null,
   "id": "a5e86320",
   "metadata": {
    "id": "a5e86320",
    "outputId": "109de284-4caa-4221-e1de-8a937f2f46ff"
   },
   "outputs": [
    {
     "name": "stdout",
     "output_type": "stream",
     "text": [
      "True\n",
      "False\n"
     ]
    }
   ],
   "source": [
    "# issuperset(setX): Returns True if the set contains setX\n",
    "print(setA.issuperset(setB))\n",
    "print(setB.issuperset(setA))"
   ]
  },
  {
   "cell_type": "code",
   "execution_count": null,
   "id": "fc881a59",
   "metadata": {
    "id": "fc881a59",
    "outputId": "581a00fe-92a9-460e-c8ff-45b318be5f1a"
   },
   "outputs": [
    {
     "name": "stdout",
     "output_type": "stream",
     "text": [
      "False\n",
      "True\n"
     ]
    }
   ],
   "source": [
    "# isdisjoint(setX) : Return True if both sets have a null intersection, i.e. no same elements\n",
    "print(setA.isdisjoint(setB))\n",
    "print(setA.isdisjoint(setC))"
   ]
  },
  {
   "cell_type": "markdown",
   "id": "2828c8e2",
   "metadata": {
    "id": "2828c8e2"
   },
   "source": [
    "### LeetCode 217"
   ]
  },
  {
   "cell_type": "markdown",
   "id": "6be7c981",
   "metadata": {
    "id": "6be7c981"
   },
   "source": [
    "Given an integer array nums, return true if any value appears at least twice in the array, and return false if every element is distinct."
   ]
  },
  {
   "cell_type": "code",
   "execution_count": null,
   "id": "770d3ef2",
   "metadata": {
    "id": "770d3ef2"
   },
   "outputs": [],
   "source": [
    "# Solution 1\n",
    "def containsDuplicate(nums):\n",
    "    checker = set()\n",
    "    for num in nums:\n",
    "        if num in checker:\n",
    "            return True\n",
    "        checker.add(num)\n",
    "    return False"
   ]
  },
  {
   "cell_type": "code",
   "execution_count": null,
   "id": "4d6d05fe",
   "metadata": {
    "id": "4d6d05fe"
   },
   "outputs": [],
   "source": [
    "# Solution 2\n",
    "def containsDuplicate(nums):\n",
    "    return len(nums) != len(set(nums))"
   ]
  },
  {
   "cell_type": "code",
   "execution_count": null,
   "id": "79bbc76e",
   "metadata": {
    "id": "79bbc76e",
    "outputId": "7a0637b9-bd79-49b5-adf6-8411f026e2dd"
   },
   "outputs": [
    {
     "name": "stdout",
     "output_type": "stream",
     "text": [
      "True\n",
      "False\n",
      "True\n"
     ]
    }
   ],
   "source": [
    "# Test Case 1\n",
    "nums = [1, 2, 3, 1]\n",
    "print(containsDuplicate(nums))\n",
    "\n",
    "# Test Case 2\n",
    "nums = [1, 2, 3, 4]\n",
    "print(containsDuplicate(nums))\n",
    "\n",
    "# Test Case 3\n",
    "nums = [1, 1, 1, 3, 3, 4, 3, 2, 4, 2]\n",
    "print(containsDuplicate(nums))"
   ]
  },
  {
   "cell_type": "markdown",
   "id": "6ac95b8f",
   "metadata": {
    "id": "6ac95b8f"
   },
   "source": [
    "### LeetCode 349"
   ]
  },
  {
   "cell_type": "markdown",
   "id": "37e94c7f",
   "metadata": {
    "id": "37e94c7f"
   },
   "source": [
    "Given two integer arrays nums1 and nums2, return an array of their intersection. Each element in the result must be unique and you may return the result in any order."
   ]
  },
  {
   "cell_type": "code",
   "execution_count": null,
   "id": "24c3b225",
   "metadata": {
    "id": "24c3b225"
   },
   "outputs": [],
   "source": [
    "# Solution 1\n",
    "def intersection(nums1, nums2):\n",
    "    set1 = set(nums1)\n",
    "    set2 = set(nums2)\n",
    "    set3 = set1.intersection(set2)\n",
    "    return list(set3)"
   ]
  },
  {
   "cell_type": "code",
   "execution_count": null,
   "id": "f5e28305",
   "metadata": {
    "id": "f5e28305"
   },
   "outputs": [],
   "source": [
    "# Solution 2\n",
    "def intersection(nums1, nums2):\n",
    "    return list(set(nums1).intersection(set(nums2)))"
   ]
  },
  {
   "cell_type": "code",
   "execution_count": null,
   "id": "4f25325b",
   "metadata": {
    "id": "4f25325b",
    "outputId": "16808af7-4370-4211-c487-fa50b651ab82",
    "scrolled": true
   },
   "outputs": [
    {
     "name": "stdout",
     "output_type": "stream",
     "text": [
      "[2]\n",
      "[9, 4]\n"
     ]
    }
   ],
   "source": [
    "# Test Case 1\n",
    "nums1 = [1, 2, 2, 1] # {1, 2}\n",
    "nums2 = [2, 2] # {2}\n",
    "print(intersection(nums1, nums2))\n",
    "\n",
    "# Test Case 2\n",
    "nums1 = [4, 9, 5] # {4, 9, 5}\n",
    "nums2 = [9, 4, 9, 8, 4] # {9, 4, 8}\n",
    "print(intersection(nums1, nums2))"
   ]
  },
  {
   "cell_type": "markdown",
   "id": "7f47bd92",
   "metadata": {
    "id": "7f47bd92"
   },
   "source": [
    "### Dictionaries"
   ]
  },
  {
   "cell_type": "code",
   "execution_count": null,
   "id": "9c3742ca",
   "metadata": {
    "id": "9c3742ca",
    "outputId": "3491679a-e70f-421b-f689-4ceed8a9ad06"
   },
   "outputs": [
    {
     "name": "stdout",
     "output_type": "stream",
     "text": [
      "{'Nepal': 'Kathmandu', 'Italy': 'Rome', 'England': 'London'}\n",
      "\n",
      "Capital of Italy: Rome\n",
      "\n",
      "Updated Dictionary:  {'Nepal': 'Kathmandu', 'Italy': 'Rome', 'England': 'London', 'Japan': 'Tokyo'}\n"
     ]
    }
   ],
   "source": [
    "# Define a new dictionary\n",
    "capital_city = {\"Nepal\": \"Kathmandu\", \"Italy\": \"Rome\", \"England\": \"London\"}\n",
    "print(capital_city)\n",
    "\n",
    "print()\n",
    "\n",
    "# Retrieve value for a given key\n",
    "print(\"Capital of Italy:\", capital_city[\"Italy\"])\n",
    "\n",
    "print()\n",
    "\n",
    "# Store a new key-value pair\n",
    "capital_city[\"Japan\"] = \"Tokyo\"\n",
    "print(\"Updated Dictionary: \", capital_city)"
   ]
  },
  {
   "cell_type": "markdown",
   "id": "591cbbc8",
   "metadata": {
    "id": "591cbbc8"
   },
   "source": [
    "#### Dictionary Methods"
   ]
  },
  {
   "cell_type": "code",
   "execution_count": null,
   "id": "f821cf06",
   "metadata": {
    "id": "f821cf06",
    "outputId": "6926e0eb-deb0-463f-e39e-8d46d5cfd468"
   },
   "outputs": [
    {
     "name": "stdout",
     "output_type": "stream",
     "text": [
      "{'name': 'Alice', 'age': 25, 'city': 'New York'}\n",
      "\n",
      "dict_keys(['name', 'age', 'city'])\n",
      "\n",
      "dict_values(['Alice', 25, 'New York'])\n",
      "\n",
      "dict_items([('name', 'Alice'), ('age', 25), ('city', 'New York')])\n",
      "\n",
      "['name', 'age', 'city']\n"
     ]
    }
   ],
   "source": [
    "# Another example\n",
    "person = {\n",
    "    \"name\": \"Alice\",\n",
    "    \"age\": 25,\n",
    "    \"city\": \"New York\"\n",
    "}\n",
    "print(person)\n",
    "\n",
    "print()\n",
    "\n",
    "# Get dict keys\n",
    "keys = person.keys()\n",
    "print(keys)\n",
    "\n",
    "print()\n",
    "\n",
    "# Get dict vals\n",
    "values = person.values()\n",
    "print(values)\n",
    "\n",
    "print()\n",
    "\n",
    "# Get dict key-val pairs\n",
    "items = person.items()\n",
    "print(items)\n",
    "\n",
    "print()\n",
    "\n",
    "# Converted to list\n",
    "print(list(keys))"
   ]
  },
  {
   "cell_type": "code",
   "execution_count": null,
   "id": "893800cf",
   "metadata": {
    "id": "893800cf",
    "outputId": "ada542c8-0650-4a44-cdfa-7eaa45dbe325"
   },
   "outputs": [
    {
     "name": "stdout",
     "output_type": "stream",
     "text": [
      "25\n",
      "\n",
      "{'name': 'Alice', 'city': 'New York'}\n",
      "\n"
     ]
    }
   ],
   "source": [
    "# Removing values\n",
    "\n",
    "# pop - returns the value\n",
    "val = person.pop('age')\n",
    "\n",
    "print(val)\n",
    "print()\n",
    "\n",
    "print(person)\n",
    "print()"
   ]
  },
  {
   "cell_type": "code",
   "execution_count": null,
   "id": "aaecd808",
   "metadata": {
    "id": "aaecd808",
    "outputId": "a7d5c1f6-e08c-452d-b110-174a8ecac531"
   },
   "outputs": [
    {
     "name": "stdout",
     "output_type": "stream",
     "text": [
      "{'name': 'Alice'}\n"
     ]
    }
   ],
   "source": [
    "# Del - does not return the value\n",
    "del person['city']\n",
    "print(person)"
   ]
  },
  {
   "cell_type": "markdown",
   "id": "d71ce109",
   "metadata": {
    "id": "d71ce109"
   },
   "source": [
    "#### Iteration and Existence"
   ]
  },
  {
   "cell_type": "code",
   "execution_count": null,
   "id": "7f50dbd9",
   "metadata": {
    "id": "7f50dbd9",
    "outputId": "af6b4fa5-f205-425d-8c60-16fd33ff15d1"
   },
   "outputs": [
    {
     "name": "stdout",
     "output_type": "stream",
     "text": [
      "{1: 1, 3: 9, 5: 25, 7: 49, 9: 81}\n",
      "\n",
      "Iteration through dict:\n",
      "1 1\n",
      "3 9\n",
      "5 25\n",
      "7 49\n",
      "9 81\n",
      "\n",
      "Iteration through dict keys:\n",
      "1\n",
      "3\n",
      "5\n",
      "7\n",
      "9\n",
      "\n",
      "Iteration through dict vals:\n",
      "1\n",
      "9\n",
      "25\n",
      "49\n",
      "81\n",
      "\n",
      "Iteration through dict key-val pairs:\n",
      "(1, 1)\n",
      "(3, 9)\n",
      "(5, 25)\n",
      "(7, 49)\n",
      "(9, 81)\n"
     ]
    }
   ],
   "source": [
    "# Membership Test for Dictionary Keys\n",
    "squares = {\n",
    "    1: 1,\n",
    "    3: 9,\n",
    "    5: 25,\n",
    "    7: 49,\n",
    "    9: 81\n",
    "}\n",
    "print(squares)\n",
    "\n",
    "print()\n",
    "\n",
    "# Iterate through a dict\n",
    "print(\"Iteration through dict:\")\n",
    "\n",
    "for key in squares:\n",
    "    print(key, squares[key])\n",
    "\n",
    "print()\n",
    "\n",
    "\n",
    "# Iterate through keys\n",
    "\n",
    "print(\"Iteration through dict keys:\")\n",
    "\n",
    "for key in squares.keys():\n",
    "    print(key)\n",
    "\n",
    "print()\n",
    "\n",
    "\n",
    "# # Iterate through vals\n",
    "\n",
    "print(\"Iteration through dict vals:\")\n",
    "\n",
    "for value in squares.values():\n",
    "    print(value)\n",
    "\n",
    "print()\n",
    "\n",
    "\n",
    "# Iterate through key-val pairs\n",
    "\n",
    "print(\"Iteration through dict key-val pairs:\")\n",
    "\n",
    "for item in squares.items():\n",
    "    print(item)"
   ]
  },
  {
   "cell_type": "markdown",
   "id": "a357ceea",
   "metadata": {
    "id": "a357ceea"
   },
   "source": [
    "#### Exercise"
   ]
  },
  {
   "cell_type": "code",
   "execution_count": null,
   "id": "a2fd1baf",
   "metadata": {
    "id": "a2fd1baf",
    "outputId": "8320b9c9-157f-4018-9d2a-c6297d1fdc9e"
   },
   "outputs": [
    {
     "name": "stdout",
     "output_type": "stream",
     "text": [
      "The original dictionary: {1: 1, 3: 9, 5: 25, 7: 49, 9: 81}\n",
      "\n",
      "Outcome 1 is True\n",
      "Outcome 2 is True\n",
      "Outcome 3 is False\n",
      "Outcome 4 is False\n",
      "Outcome 5 is True\n"
     ]
    }
   ],
   "source": [
    "print(\"The original dictionary:\", squares)\n",
    "\n",
    "print()\n",
    "\n",
    "# Check existence\n",
    "outcome1 = 1 in squares\n",
    "outcome2 = 2 not in squares\n",
    "outcome3 = 49 in squares\n",
    "outcome4 = 49 in squares.keys()\n",
    "outcome5 = 49 in squares.values()\n",
    "\n",
    "print(\"Outcome 1 is\", outcome1)\n",
    "print(\"Outcome 2 is\", outcome2)\n",
    "print(\"Outcome 3 is\", outcome3)\n",
    "print(\"Outcome 4 is\", outcome4)\n",
    "print(\"Outcome 5 is\", outcome5)"
   ]
  },
  {
   "cell_type": "markdown",
   "id": "597dc0c2",
   "metadata": {
    "id": "597dc0c2"
   },
   "source": [
    "#### Caveats"
   ]
  },
  {
   "cell_type": "code",
   "execution_count": null,
   "id": "f2ba300f",
   "metadata": {
    "id": "f2ba300f",
    "outputId": "7443beac-e6bb-47a8-c4b8-61ac0a073915"
   },
   "outputs": [
    {
     "name": "stdout",
     "output_type": "stream",
     "text": [
      "9\n"
     ]
    }
   ],
   "source": [
    "# Use numbers as key, but be careful\n",
    "my_dict = {3: 9, 6: 36, 9: 81}\n",
    "\n",
    "# Retrieve key\n",
    "print(my_dict[3])"
   ]
  },
  {
   "cell_type": "code",
   "execution_count": null,
   "id": "5100cb33",
   "metadata": {
    "id": "5100cb33",
    "outputId": "c32d8337-c914-4def-f1e6-e0df2dd24292"
   },
   "outputs": [
    {
     "ename": "KeyError",
     "evalue": "2",
     "output_type": "error",
     "traceback": [
      "\u001b[0;31m---------------------------------------------------------------------------\u001b[0m",
      "\u001b[0;31mKeyError\u001b[0m                                  Traceback (most recent call last)",
      "Cell \u001b[0;32mIn[73], line 2\u001b[0m\n\u001b[1;32m      1\u001b[0m \u001b[38;5;66;03m# Retrive index (ERROR)\u001b[39;00m\n\u001b[0;32m----> 2\u001b[0m \u001b[38;5;28mprint\u001b[39m(\u001b[43mmy_dict\u001b[49m\u001b[43m[\u001b[49m\u001b[38;5;241;43m2\u001b[39;49m\u001b[43m]\u001b[49m)\n",
      "\u001b[0;31mKeyError\u001b[0m: 2"
     ]
    }
   ],
   "source": [
    "# Retrive index (ERROR)\n",
    "print(my_dict[2])"
   ]
  },
  {
   "cell_type": "code",
   "execution_count": null,
   "id": "f572bff7",
   "metadata": {
    "id": "f572bff7",
    "outputId": "01d3cc6e-b021-4188-fe44-be58ed066a45",
    "scrolled": true
   },
   "outputs": [
    {
     "name": "stdout",
     "output_type": "stream",
     "text": [
      "{3: 9, 6: 36, 9: 81, (8, 7): 15}\n"
     ]
    }
   ],
   "source": [
    "# use a tuple with immutable elements (e.g. numbers, strings, tuples)\n",
    "my_tuple = (8, 7)\n",
    "my_dict[my_tuple] = 15\n",
    "print(my_dict)"
   ]
  },
  {
   "cell_type": "code",
   "execution_count": null,
   "id": "75b786f1",
   "metadata": {
    "id": "75b786f1",
    "outputId": "77c4ad77-b9a8-4680-e4ba-ec9caee604c0"
   },
   "outputs": [
    {
     "ename": "TypeError",
     "evalue": "unhashable type: 'list'",
     "output_type": "error",
     "traceback": [
      "\u001b[0;31m---------------------------------------------------------------------------\u001b[0m",
      "\u001b[0;31mTypeError\u001b[0m                                 Traceback (most recent call last)",
      "Cell \u001b[0;32mIn[75], line 3\u001b[0m\n\u001b[1;32m      1\u001b[0m \u001b[38;5;66;03m# list is NOT immutable (ERROR)\u001b[39;00m\n\u001b[1;32m      2\u001b[0m my_list \u001b[38;5;241m=\u001b[39m [\u001b[38;5;241m8\u001b[39m, \u001b[38;5;241m7\u001b[39m]\n\u001b[0;32m----> 3\u001b[0m my_dict[my_list] \u001b[38;5;241m=\u001b[39m \u001b[38;5;241m15\u001b[39m\n",
      "\u001b[0;31mTypeError\u001b[0m: unhashable type: 'list'"
     ]
    }
   ],
   "source": [
    "# list is NOT immutable (ERROR)\n",
    "my_list = [8, 7]\n",
    "my_dict[my_list] = 15"
   ]
  },
  {
   "cell_type": "markdown",
   "id": "e3c7c87e",
   "metadata": {
    "id": "e3c7c87e"
   },
   "source": [
    "### LeetCode 1"
   ]
  },
  {
   "cell_type": "code",
   "execution_count": null,
   "id": "9a96d7ef",
   "metadata": {
    "id": "9a96d7ef"
   },
   "outputs": [],
   "source": [
    "# Solution 1\n",
    "def twoSum(nums, target):\n",
    "\n",
    "    dict1 = {}\n",
    "    n = len(nums)\n",
    "\n",
    "    for i in range(n):\n",
    "        dict1[nums[i]] = i\n",
    "\n",
    "    for i in range(n):\n",
    "        complement = target - nums[i]\n",
    "        if (complement in dict1) and (dict1[complement] != i):\n",
    "            return [i, dict1[complement]]"
   ]
  },
  {
   "cell_type": "code",
   "execution_count": null,
   "id": "a0fc916d",
   "metadata": {
    "id": "a0fc916d"
   },
   "outputs": [],
   "source": [
    "# Solution 2\n",
    "def twoSum(nums, target):\n",
    "    dict1 = {}\n",
    "    for i in range(len(nums)):\n",
    "        complement = target - nums[i]\n",
    "        if complement in dict1:\n",
    "            return [i, dict1[complement]]\n",
    "        dict1[nums[i]] = i"
   ]
  },
  {
   "cell_type": "code",
   "execution_count": null,
   "id": "844f6230",
   "metadata": {
    "id": "844f6230",
    "outputId": "91c46b40-6284-44a6-b89a-dba250d33188"
   },
   "outputs": [
    {
     "name": "stdout",
     "output_type": "stream",
     "text": [
      "[0, 1]\n",
      "[1, 2]\n",
      "[0, 1]\n"
     ]
    }
   ],
   "source": [
    "# Test Case 1\n",
    "nums = [2, 7, 11, 15]\n",
    "target = 9\n",
    "print(twoSum(nums, target))\n",
    "\n",
    "# Test Case 2\n",
    "nums = [3, 2, 4]\n",
    "target = 6\n",
    "print(twoSum(nums, target))\n",
    "\n",
    "# Test Case 3\n",
    "nums = [3, 3]\n",
    "target = 6\n",
    "print(twoSum(nums, target))"
   ]
  },
  {
   "cell_type": "markdown",
   "id": "27bb190a",
   "metadata": {
    "id": "27bb190a"
   },
   "source": [
    "### LeetCode 169"
   ]
  },
  {
   "cell_type": "code",
   "execution_count": null,
   "id": "e3acd94c",
   "metadata": {
    "id": "e3acd94c"
   },
   "outputs": [],
   "source": [
    "def majorityElement(nums):\n",
    "\n",
    "    freq = dict()\n",
    "\n",
    "    for num in nums:\n",
    "        if num in freq:\n",
    "            freq[num] += 1\n",
    "        else:\n",
    "            freq[num] = 1\n",
    "\n",
    "    for key in freq.keys():\n",
    "        if freq[key] > len(nums) / 2:\n",
    "            return key\n",
    "\n",
    "    return -1"
   ]
  },
  {
   "cell_type": "code",
   "execution_count": null,
   "id": "f8f0c8de",
   "metadata": {
    "id": "f8f0c8de",
    "outputId": "5b6951d9-fd28-4b61-84b2-c7c78dbaf8e9"
   },
   "outputs": [
    {
     "name": "stdout",
     "output_type": "stream",
     "text": [
      "3\n",
      "2\n"
     ]
    }
   ],
   "source": [
    "# Test Case 1\n",
    "nums = [3, 2, 3]\n",
    "print(majorityElement(nums))\n",
    "\n",
    "# Test Case 2\n",
    "nums = [2, 2, 1, 1, 1, 2, 2]\n",
    "print(majorityElement(nums))"
   ]
  },
  {
   "cell_type": "markdown",
   "id": "12bfd6ff",
   "metadata": {
    "id": "12bfd6ff"
   },
   "source": [
    "### Modules"
   ]
  },
  {
   "cell_type": "markdown",
   "id": "25002ec1",
   "metadata": {
    "id": "25002ec1"
   },
   "source": [
    "#### Built-in Modules"
   ]
  },
  {
   "cell_type": "code",
   "execution_count": null,
   "id": "e48bd0a0",
   "metadata": {
    "id": "e48bd0a0",
    "outputId": "1724e823-7eb1-4372-ee05-01ccd6067440"
   },
   "outputs": [
    {
     "name": "stdout",
     "output_type": "stream",
     "text": [
      "Square-root of 16 is 4.0\n",
      "Square-root of 16 is 4.0\n",
      "\n",
      "Factorial of 4 is 24\n",
      "\n",
      "Sine of 3.14 is 0.0\n",
      "\n",
      "Ceiling of 2.3 is 3\n"
     ]
    }
   ],
   "source": [
    "import math\n",
    "\n",
    "# square root of a number\n",
    "num = 16\n",
    "print(f\"Square-root of {num} is {math.sqrt(num)}\")\n",
    "print(\"Square-root of {} is {}\".format(num, math.sqrt(num)))\n",
    "\n",
    "print()\n",
    "\n",
    "# Factorial of a number\n",
    "num = 4\n",
    "print(f\"Factorial of {num} is {math.factorial(num)}\")\n",
    "\n",
    "print()\n",
    "\n",
    "# Trigonometric operators\n",
    "val = math.pi\n",
    "print(f\"Sine of {round(val, 2)} is {round(math.sin(val), 2)}\")\n",
    "\n",
    "print()\n",
    "\n",
    "# Ceiling of a number\n",
    "num = 2.3\n",
    "print(f\"Ceiling of {num} is {math.ceil(num)}\")"
   ]
  },
  {
   "cell_type": "code",
   "execution_count": null,
   "id": "de55beb6",
   "metadata": {
    "id": "de55beb6",
    "outputId": "75c9bb24-bacb-45ea-ffb6-ffdf40207cc5"
   },
   "outputs": [
    {
     "name": "stdout",
     "output_type": "stream",
     "text": [
      "10\n",
      "\n",
      "0.26\n",
      "\n",
      "4\n"
     ]
    }
   ],
   "source": [
    "import random\n",
    "\n",
    "# Draw random integer in a range\n",
    "print(random.randint(1, 10))\n",
    "\n",
    "print()\n",
    "\n",
    "# Draw random float between between 0 and 1\n",
    "print(round(random.random(), 2))\n",
    "\n",
    "print()\n",
    "\n",
    "# Draw randomly from a set\n",
    "print(random.choice([3, 4, 6, 10]))"
   ]
  },
  {
   "cell_type": "markdown",
   "id": "5b1d71a9",
   "metadata": {
    "id": "5b1d71a9"
   },
   "source": [
    "#### from ... import ..."
   ]
  },
  {
   "cell_type": "code",
   "execution_count": null,
   "id": "1f28602e",
   "metadata": {
    "id": "1f28602e",
    "outputId": "3db99648-52d7-471a-81e0-d9b4eb39918f"
   },
   "outputs": [
    {
     "name": "stdout",
     "output_type": "stream",
     "text": [
      "Square-root of 16 is 4.0\n"
     ]
    }
   ],
   "source": [
    "from math import sqrt\n",
    "\n",
    "# square root of a number\n",
    "num = 16\n",
    "print(f\"Square-root of {num} is {sqrt(num)}\")"
   ]
  },
  {
   "cell_type": "code",
   "execution_count": null,
   "id": "8fa0c03b",
   "metadata": {
    "id": "8fa0c03b",
    "outputId": "f6a14d2c-ae7e-4923-baa9-15ce6f47c18e"
   },
   "outputs": [
    {
     "name": "stdout",
     "output_type": "stream",
     "text": [
      "4\n"
     ]
    }
   ],
   "source": [
    "from random import randint\n",
    "\n",
    "# Draw random integer in a range\n",
    "print(randint(1, 10))"
   ]
  },
  {
   "cell_type": "markdown",
   "id": "3d4b88c2",
   "metadata": {
    "id": "3d4b88c2"
   },
   "source": [
    "#### User-Defined Modules"
   ]
  },
  {
   "cell_type": "code",
   "execution_count": null,
   "id": "a6d087a5",
   "metadata": {
    "id": "a6d087a5",
    "outputId": "2bf3215e-c25d-4090-ca72-308e2e1beb78"
   },
   "outputs": [
    {
     "name": "stdout",
     "output_type": "stream",
     "text": [
      "3.14 John\n",
      "\n",
      "100\n"
     ]
    }
   ],
   "source": [
    "import math_calculator as mc\n",
    "\n",
    "print(mc.pi, mc.person1['name'])\n",
    "\n",
    "print()\n",
    "\n",
    "print(mc.find_sqaure(10))"
   ]
  },
  {
   "cell_type": "code",
   "execution_count": null,
   "id": "af18cb91",
   "metadata": {
    "id": "af18cb91",
    "outputId": "6e262680-d5d4-4eca-a282-7b0b23bede7b"
   },
   "outputs": [
    {
     "name": "stdout",
     "output_type": "stream",
     "text": [
      "7.0\n"
     ]
    }
   ],
   "source": [
    "from math_calculator import find_square_root\n",
    "\n",
    "print(find_square_root(49))"
   ]
  },
  {
   "cell_type": "markdown",
   "id": "4b20d162",
   "metadata": {
    "id": "4b20d162"
   },
   "source": [
    "### Lambda Function, map(), filter()"
   ]
  },
  {
   "cell_type": "markdown",
   "id": "0c1afaa6",
   "metadata": {
    "id": "0c1afaa6"
   },
   "source": [
    "#### Lambda Function"
   ]
  },
  {
   "cell_type": "code",
   "execution_count": null,
   "id": "abb0ef96",
   "metadata": {
    "id": "abb0ef96",
    "outputId": "5520c990-c7ca-41e7-aaff-58e1a5971948"
   },
   "outputs": [
    {
     "name": "stdout",
     "output_type": "stream",
     "text": [
      "15\n"
     ]
    }
   ],
   "source": [
    "# Normal functions\n",
    "def add_1(a, b):\n",
    "    return a + b\n",
    "\n",
    "added_val_1 = add_1(5, 10)\n",
    "print(added_val_1)"
   ]
  },
  {
   "cell_type": "code",
   "execution_count": null,
   "id": "e7b09ddb",
   "metadata": {
    "id": "e7b09ddb",
    "outputId": "06361994-c7c2-49a4-9950-5f7ed8aa9ace"
   },
   "outputs": [
    {
     "name": "stdout",
     "output_type": "stream",
     "text": [
      "15\n"
     ]
    }
   ],
   "source": [
    "# Lambda function\n",
    "add_2 = lambda a, b: a + b\n",
    "\n",
    "added_val_2 = add_2(5, 10)\n",
    "print(added_val_2)"
   ]
  },
  {
   "cell_type": "code",
   "execution_count": null,
   "id": "46cb1d27",
   "metadata": {
    "id": "46cb1d27",
    "outputId": "080b115b-6f1a-44f9-e55e-fb4001252128"
   },
   "outputs": [
    {
     "name": "stdout",
     "output_type": "stream",
     "text": [
      "Hello World\n",
      "Hello World\n",
      "Hello New World\n"
     ]
    }
   ],
   "source": [
    "# Another example\n",
    "def greet1():\n",
    "    print(\"Hello World\")\n",
    "\n",
    "greet2 = lambda : print(\"Hello World\")\n",
    "\n",
    "greet3 = lambda name: print(\"Hello \" + name)\n",
    "\n",
    "greet1()\n",
    "greet2()\n",
    "greet3(\"New World\")"
   ]
  },
  {
   "cell_type": "markdown",
   "id": "13777f0f",
   "metadata": {
    "id": "13777f0f"
   },
   "source": [
    "#### Exercise"
   ]
  },
  {
   "cell_type": "code",
   "execution_count": null,
   "id": "e26c7cca",
   "metadata": {
    "id": "e26c7cca",
    "outputId": "70e18eaf-3a44-4201-ffba-bc90ed882edb"
   },
   "outputs": [
    {
     "name": "stdout",
     "output_type": "stream",
     "text": [
      "4\n",
      "20\n",
      "8\n"
     ]
    }
   ],
   "source": [
    "# What is the output?\n",
    "\n",
    "print((lambda x: 2 * x)(2))\n",
    "\n",
    "# lambda function with trenary operator\n",
    "func = lambda a, b: b - a if a <= b else a * b\n",
    "\n",
    "print(func(10, 2))\n",
    "print(func(2, 10))"
   ]
  },
  {
   "cell_type": "markdown",
   "id": "dc2b3925",
   "metadata": {
    "id": "dc2b3925"
   },
   "source": [
    "#### map()"
   ]
  },
  {
   "cell_type": "markdown",
   "id": "711dc2f5",
   "metadata": {
    "id": "711dc2f5"
   },
   "source": [
    "The map() function in Python does not modify the original iterable in-place. Instead, it applies a specified function to each element of the iterable and returns an iterable containing the results. The original iterable remains unchanged."
   ]
  },
  {
   "cell_type": "code",
   "execution_count": null,
   "id": "d47342b3",
   "metadata": {
    "id": "d47342b3",
    "outputId": "1592192c-479a-4d03-92b1-766d66305245"
   },
   "outputs": [
    {
     "name": "stdout",
     "output_type": "stream",
     "text": [
      "[4, 16, 64, 36, 64, 100]\n"
     ]
    }
   ],
   "source": [
    "# Example - with normal Python function\n",
    "numbers = [2, 4, 8, 6, 8, 10]\n",
    "\n",
    "def square(number):\n",
    "    return number * number\n",
    "\n",
    "numbersSquare_list = list(map(square, numbers))\n",
    "# numbersSquare_set = set(map(square, numbers))\n",
    "\n",
    "print(numbersSquare_list)\n",
    "# print(numbersSquare_set)"
   ]
  },
  {
   "cell_type": "code",
   "execution_count": null,
   "id": "0f3aa864",
   "metadata": {
    "id": "0f3aa864",
    "outputId": "bea8c925-8c3f-4b59-af70-e6e3b991bef2"
   },
   "outputs": [
    {
     "name": "stdout",
     "output_type": "stream",
     "text": [
      "[1, 4, 9, 16]\n"
     ]
    }
   ],
   "source": [
    "# Combined with Lambda function\n",
    "numbers = (1, 2, 3, 4)\n",
    "numbersSquare = list(map(lambda x: x * x, numbers))\n",
    "print(numbersSquare)"
   ]
  },
  {
   "cell_type": "code",
   "execution_count": null,
   "id": "3c9419da",
   "metadata": {
    "id": "3c9419da",
    "outputId": "4419b85d-8fd5-426f-c1ba-06acf2ebc612"
   },
   "outputs": [
    {
     "name": "stdout",
     "output_type": "stream",
     "text": [
      "[100, 20]\n"
     ]
    }
   ],
   "source": [
    "# Iterating through functions\n",
    "def square(x):\n",
    "    return (x * x)\n",
    "\n",
    "def double(x):\n",
    "    return (x + x)\n",
    "\n",
    "# list of functions\n",
    "funcs = [square, double]\n",
    "\n",
    "value = list(map(lambda x: x(10), funcs))\n",
    "\n",
    "print(value)"
   ]
  },
  {
   "cell_type": "code",
   "execution_count": null,
   "id": "0b4355f3",
   "metadata": {
    "id": "0b4355f3",
    "outputId": "62605b5a-e47f-4ac1-927c-0302d2844d8f",
    "scrolled": true
   },
   "outputs": [
    {
     "name": "stdout",
     "output_type": "stream",
     "text": [
      "[2, 4, 6, 8, 10]\n"
     ]
    }
   ],
   "source": [
    "# Write a code to double all numbers (with lambda function)\n",
    "# numbers = [1, 2, 3, 4, 5]\n",
    "\n",
    "numbers = [1, 2, 3, 4, 5]\n",
    "\n",
    "doubled = map(lambda x: x * 2, numbers)\n",
    "\n",
    "print(list(doubled))"
   ]
  },
  {
   "cell_type": "code",
   "execution_count": null,
   "id": "347a3a29",
   "metadata": {
    "id": "347a3a29",
    "outputId": "1fac8c10-3fb1-43a1-87c1-948dfb3089a2"
   },
   "outputs": [
    {
     "name": "stdout",
     "output_type": "stream",
     "text": [
      "[5, 3, 6]\n"
     ]
    }
   ],
   "source": [
    "# Write a code to find the length of each string\n",
    "# strings = [\"apple\", \"fig\", \"orange\"]\n",
    "\n",
    "strings = [\"apple\", \"fig\", \"orange\"]\n",
    "\n",
    "lengths = map(lambda x: len(x), strings)\n",
    "\n",
    "print(list(lengths))"
   ]
  },
  {
   "cell_type": "markdown",
   "id": "6f391693",
   "metadata": {
    "id": "6f391693"
   },
   "source": [
    "#### filter()"
   ]
  },
  {
   "cell_type": "code",
   "execution_count": null,
   "id": "27ecc85a",
   "metadata": {
    "id": "27ecc85a",
    "outputId": "d3a84ac3-b715-4f7b-e50e-7b9c42415a37"
   },
   "outputs": [
    {
     "name": "stdout",
     "output_type": "stream",
     "text": [
      "<filter object at 0x106de2c50>\n",
      "\n",
      "Filtered list: [90, 76, 88, 81]\n"
     ]
    }
   ],
   "source": [
    "scores = [66, 90, 68, 59, 76, 60, 88, 74, 81, 65]\n",
    "\n",
    "def is_A_student(score):\n",
    "    return score > 75\n",
    "\n",
    "filtered_scores = filter(is_A_student, scores)\n",
    "# filtered_scores = filter(lambda x: x > 75, scores)\n",
    "print(filtered_scores)\n",
    "\n",
    "print()\n",
    "\n",
    "over_75 = list(filtered_scores)\n",
    "print(\"Filtered list:\", over_75)"
   ]
  },
  {
   "cell_type": "markdown",
   "id": "bf470c30",
   "metadata": {
    "id": "bf470c30"
   },
   "source": [
    "#### Exercises"
   ]
  },
  {
   "cell_type": "code",
   "execution_count": null,
   "id": "ba1b3524",
   "metadata": {
    "id": "ba1b3524",
    "outputId": "91729888-8ef7-4226-8688-17b8d4c62117",
    "scrolled": true
   },
   "outputs": [
    {
     "name": "stdout",
     "output_type": "stream",
     "text": [
      "[-3, -9]\n"
     ]
    }
   ],
   "source": [
    "# Write a code to keep negative numbers\n",
    "# numbers = [1, 0, -3, 6, 5, -9, 24]\n",
    "\n",
    "numbers = [1, 0, -3, 6, 5, -9, 24]\n",
    "\n",
    "result = list(filter(lambda x: x < 0, numbers))\n",
    "\n",
    "print(result)"
   ]
  },
  {
   "cell_type": "code",
   "execution_count": null,
   "id": "b560ae09",
   "metadata": {
    "id": "b560ae09",
    "outputId": "a3615fac-c861-434f-d826-d705e7bf95ca"
   },
   "outputs": [
    {
     "name": "stdout",
     "output_type": "stream",
     "text": [
      "[2, 4, 6, 8]\n",
      "[1, 3, 5, 7]\n"
     ]
    }
   ],
   "source": [
    "# Write a code to keep even numbers\n",
    "# Write a code to keep odd numbers\n",
    "# numbers = [1, 2, 3, 4, 5, 6, 7, 8]\n",
    "\n",
    "numbers = [1, 2, 3, 4, 5, 6, 7, 8]\n",
    "\n",
    "even_numbers = list(filter(lambda x: x % 2 == 0, numbers))\n",
    "odd_numbers = list(filter(lambda x: x % 2 == 1, numbers))\n",
    "\n",
    "print(even_numbers)\n",
    "print(odd_numbers)"
   ]
  },
  {
   "cell_type": "code",
   "execution_count": null,
   "id": "65cc81d0",
   "metadata": {
    "id": "65cc81d0",
    "outputId": "a3f4ad20-c4cf-49a5-f614-4537d496d49c"
   },
   "outputs": [
    {
     "name": "stdout",
     "output_type": "stream",
     "text": [
      "['b', 'd', 'j']\n"
     ]
    }
   ],
   "source": [
    "# Write a code to keep vowels\n",
    "# letters = ['a', 'b', 'd', 'e', 'i', 'j', 'o']\n",
    "# vowels = ['a', 'e', 'i', 'o', 'u']\n",
    "\n",
    "letters = ['a', 'b', 'd', 'e', 'i', 'j', 'o']\n",
    "vowels = ['a', 'e', 'i', 'o', 'u']\n",
    "\n",
    "filtered_vowels = list(filter(lambda x: x not in vowels, letters))\n",
    "\n",
    "print(filtered_vowels)"
   ]
  },
  {
   "cell_type": "markdown",
   "id": "730c6084",
   "metadata": {
    "id": "730c6084"
   },
   "source": [
    "### Scope of Variables"
   ]
  },
  {
   "cell_type": "code",
   "execution_count": null,
   "id": "562528f0",
   "metadata": {
    "id": "562528f0",
    "outputId": "e7d3c8d9-e9e2-4c2d-e74a-48d54fb5d4fd"
   },
   "outputs": [
    {
     "name": "stdout",
     "output_type": "stream",
     "text": [
      "4\n",
      "5\n",
      "4\n"
     ]
    }
   ],
   "source": [
    "def my_function():\n",
    "    x = 5 # local variable\n",
    "    print(x)\n",
    "\n",
    "x = 4 # global variable\n",
    "print(x)\n",
    "my_function()\n",
    "print(x)"
   ]
  },
  {
   "cell_type": "code",
   "execution_count": null,
   "id": "8b87437b",
   "metadata": {
    "id": "8b87437b",
    "outputId": "ab0aa6b0-3016-41c8-dfb8-ce0b8f9106ef"
   },
   "outputs": [
    {
     "name": "stdout",
     "output_type": "stream",
     "text": [
      "9\n"
     ]
    },
    {
     "ename": "NameError",
     "evalue": "name 'z' is not defined",
     "output_type": "error",
     "traceback": [
      "\u001b[0;31m---------------------------------------------------------------------------\u001b[0m",
      "\u001b[0;31mNameError\u001b[0m                                 Traceback (most recent call last)",
      "Cell \u001b[0;32mIn[115], line 7\u001b[0m\n\u001b[1;32m      5\u001b[0m y \u001b[38;5;241m=\u001b[39m \u001b[38;5;241m4\u001b[39m \u001b[38;5;66;03m# global variable\u001b[39;00m\n\u001b[1;32m      6\u001b[0m my_function()\n\u001b[0;32m----> 7\u001b[0m \u001b[38;5;28mprint\u001b[39m(\u001b[43mz\u001b[49m)\n",
      "\u001b[0;31mNameError\u001b[0m: name 'z' is not defined"
     ]
    }
   ],
   "source": [
    "def my_function():\n",
    "    z = 5 # local variable\n",
    "    print(z + y)\n",
    "\n",
    "y = 4 # global variable\n",
    "my_function()\n",
    "print(z)"
   ]
  },
  {
   "cell_type": "code",
   "execution_count": 1,
   "id": "aef5a730",
   "metadata": {
    "colab": {
     "base_uri": "https://localhost:8080/"
    },
    "executionInfo": {
     "elapsed": 6,
     "status": "ok",
     "timestamp": 1712011490894,
     "user": {
      "displayName": "Anjani Kumar",
      "userId": "12260356999671487469"
     },
     "user_tz": 420
    },
    "id": "aef5a730",
    "outputId": "41ae9b36-36ad-4ac8-f634-e11bc07dd74b"
   },
   "outputs": [
    {
     "name": "stdout",
     "output_type": "stream",
     "text": [
      "Python is great!\n",
      "Python is great!\n",
      "Python is awesome!\n",
      "Python is awesome!\n"
     ]
    }
   ],
   "source": [
    "# This function modifies global variable 's'\n",
    "def f():\n",
    "    global s\n",
    "    print(s)\n",
    "    s = \"Python is awesome!\"\n",
    "    print(s)\n",
    "\n",
    "s = \"Python is great!\"\n",
    "print(s)\n",
    "f()\n",
    "print(s)"
   ]
  },
  {
   "cell_type": "code",
   "execution_count": null,
   "id": "3020f423",
   "metadata": {
    "id": "3020f423",
    "outputId": "49b33be4-7818-466e-ff89-a631bb346c6f"
   },
   "outputs": [
    {
     "name": "stdout",
     "output_type": "stream",
     "text": [
      "abc\n",
      "xyz\n",
      "pqr\n"
     ]
    }
   ],
   "source": [
    "# Example\n",
    "s1 = \"abc\" # global variable\n",
    "\n",
    "def f():\n",
    "    s3 = \"pqr\" # local variable\n",
    "    print(s1)\n",
    "    print(s2)\n",
    "    print(s3)\n",
    "\n",
    "s2 = \"xyz\" # global variable\n",
    "f()"
   ]
  },
  {
   "cell_type": "code",
   "execution_count": null,
   "id": "ad56077c",
   "metadata": {
    "id": "ad56077c",
    "outputId": "daf42a8b-040e-4670-fe70-b99e8926dff7"
   },
   "outputs": [
    {
     "name": "stdout",
     "output_type": "stream",
     "text": [
      "1\n",
      "1\n",
      "1\n",
      "2\n",
      "1\n",
      "3\n",
      "3\n"
     ]
    }
   ],
   "source": [
    "# What is the output?\n",
    "\n",
    "a = 1 # global variable\n",
    "\n",
    "def f():\n",
    "    print(a)\n",
    "\n",
    "def g():\n",
    "    a = 2 # local to g()\n",
    "    print(a)\n",
    "\n",
    "def h():\n",
    "    global a\n",
    "    a = 3 # local to h()\n",
    "    print(a)\n",
    "\n",
    "print(a)\n",
    "f()\n",
    "print(a)\n",
    "g()\n",
    "print(a)\n",
    "h()\n",
    "print(a)"
   ]
  },
  {
   "cell_type": "markdown",
   "id": "69b642f4",
   "metadata": {
    "id": "69b642f4"
   },
   "source": [
    "### Call by Value"
   ]
  },
  {
   "cell_type": "code",
   "execution_count": 2,
   "id": "478d227e",
   "metadata": {
    "colab": {
     "base_uri": "https://localhost:8080/"
    },
    "executionInfo": {
     "elapsed": 221,
     "status": "ok",
     "timestamp": 1712011754375,
     "user": {
      "displayName": "Anjani Kumar",
      "userId": "12260356999671487469"
     },
     "user_tz": 420
    },
    "id": "478d227e",
    "outputId": "849c36bd-c9a8-4c99-bcea-4793f9c2857f"
   },
   "outputs": [
    {
     "name": "stdout",
     "output_type": "stream",
     "text": [
      "Original value: 10\n",
      "\n",
      "Original value after modification: 10\n",
      "\n",
      "Modified value: 11\n"
     ]
    }
   ],
   "source": [
    "# Integer\n",
    "def modify_value(x):\n",
    "    x += 1\n",
    "    return x\n",
    "\n",
    "original_variable = 10\n",
    "\n",
    "print(\"Original value:\", original_variable)\n",
    "\n",
    "result = modify_value(original_variable)\n",
    "\n",
    "print(\"\\nOriginal value after modification:\", original_variable)\n",
    "\n",
    "print(\"\\nModified value:\", result)"
   ]
  },
  {
   "cell_type": "code",
   "execution_count": 3,
   "id": "74d1bf24",
   "metadata": {
    "colab": {
     "base_uri": "https://localhost:8080/"
    },
    "executionInfo": {
     "elapsed": 227,
     "status": "ok",
     "timestamp": 1712011764239,
     "user": {
      "displayName": "Anjani Kumar",
      "userId": "12260356999671487469"
     },
     "user_tz": 420
    },
    "id": "74d1bf24",
    "outputId": "ad673a68-36dc-49e1-e1ea-70cc71bc1567"
   },
   "outputs": [
    {
     "name": "stdout",
     "output_type": "stream",
     "text": [
      "Original string: Hello\n",
      "\n",
      "Original string after update: Hello\n",
      "\n",
      "Modified string: Hello World!\n"
     ]
    }
   ],
   "source": [
    "# Strings\n",
    "def modify_string(input_string):\n",
    "    input_string += \" World!\"\n",
    "    return input_string\n",
    "\n",
    "original_string = \"Hello\"\n",
    "\n",
    "print(\"Original string:\", original_string)\n",
    "\n",
    "modified_string = modify_string(original_string)\n",
    "\n",
    "print(\"\\nOriginal string after update:\", original_string)\n",
    "\n",
    "print(\"\\nModified string:\", modified_string)"
   ]
  },
  {
   "cell_type": "code",
   "execution_count": 4,
   "id": "eed28022",
   "metadata": {
    "colab": {
     "base_uri": "https://localhost:8080/"
    },
    "executionInfo": {
     "elapsed": 308,
     "status": "ok",
     "timestamp": 1712011781067,
     "user": {
      "displayName": "Anjani Kumar",
      "userId": "12260356999671487469"
     },
     "user_tz": 420
    },
    "id": "eed28022",
    "outputId": "869c5599-e93f-415c-a88c-7aaf038ac22c"
   },
   "outputs": [
    {
     "name": "stdout",
     "output_type": "stream",
     "text": [
      "Original tuple: (1, 2, 3)\n",
      "\n",
      "Original tuple after update: (1, 2, 3)\n",
      "\n",
      "Modified tuple: (4, 5, 6)\n"
     ]
    }
   ],
   "source": [
    "# Tuples\n",
    "def modify_tuple(input_tuple):\n",
    "    input_tuple = (4, 5, 6)\n",
    "    return input_tuple\n",
    "\n",
    "original_tuple = (1, 2, 3)\n",
    "\n",
    "print(\"Original tuple:\", original_tuple)\n",
    "\n",
    "modified_tuple = modify_tuple(original_tuple)\n",
    "\n",
    "print(\"\\nOriginal tuple after update:\", original_tuple)\n",
    "\n",
    "print(\"\\nModified tuple:\", modified_tuple)"
   ]
  },
  {
   "cell_type": "markdown",
   "id": "ea828780",
   "metadata": {
    "id": "ea828780"
   },
   "source": [
    "### Call by Reference"
   ]
  },
  {
   "cell_type": "code",
   "execution_count": 5,
   "id": "40a6f5ae",
   "metadata": {
    "colab": {
     "base_uri": "https://localhost:8080/"
    },
    "executionInfo": {
     "elapsed": 243,
     "status": "ok",
     "timestamp": 1712011850300,
     "user": {
      "displayName": "Anjani Kumar",
      "userId": "12260356999671487469"
     },
     "user_tz": 420
    },
    "id": "40a6f5ae",
    "outputId": "a0e5b97b-d004-4ab4-c0d5-f24b894f4511"
   },
   "outputs": [
    {
     "name": "stdout",
     "output_type": "stream",
     "text": [
      "Original list: [1, 2, 3]\n",
      "Modified list: [1, 2, 3, 4]\n"
     ]
    }
   ],
   "source": [
    "# Lists\n",
    "def modify_list(lst):\n",
    "    lst.append(4)\n",
    "\n",
    "original_list = [1, 2, 3]\n",
    "\n",
    "print(\"Original list:\", original_list)\n",
    "\n",
    "modify_list(original_list)\n",
    "\n",
    "print(\"Modified list:\", original_list)"
   ]
  },
  {
   "cell_type": "code",
   "execution_count": 6,
   "id": "fa55c413",
   "metadata": {
    "colab": {
     "base_uri": "https://localhost:8080/"
    },
    "executionInfo": {
     "elapsed": 268,
     "status": "ok",
     "timestamp": 1712011855096,
     "user": {
      "displayName": "Anjani Kumar",
      "userId": "12260356999671487469"
     },
     "user_tz": 420
    },
    "id": "fa55c413",
    "outputId": "8bf93cdc-0a8d-4af8-83e9-1e0f5d57429e"
   },
   "outputs": [
    {
     "name": "stdout",
     "output_type": "stream",
     "text": [
      "Original Dictionary: {'key1': 'value1', 'key2': 'value2'}\n",
      "Modified Dictionary: {'key1': 'value1', 'key2': 'new_value'}\n"
     ]
    }
   ],
   "source": [
    "# Dictionaries\n",
    "def modify_dict(input_dict):\n",
    "    input_dict['key2'] = 'new_value'\n",
    "\n",
    "original_dict = {'key1': 'value1', 'key2': 'value2'}\n",
    "\n",
    "print(\"Original Dictionary:\", original_dict)\n",
    "\n",
    "modify_dict(original_dict)\n",
    "\n",
    "print(\"Modified Dictionary:\", original_dict)"
   ]
  },
  {
   "cell_type": "code",
   "execution_count": 7,
   "id": "f9dd4895",
   "metadata": {
    "colab": {
     "base_uri": "https://localhost:8080/"
    },
    "executionInfo": {
     "elapsed": 324,
     "status": "ok",
     "timestamp": 1712011868054,
     "user": {
      "displayName": "Anjani Kumar",
      "userId": "12260356999671487469"
     },
     "user_tz": 420
    },
    "id": "f9dd4895",
    "outputId": "cbe04b44-1c7f-4369-c305-237e5b732474"
   },
   "outputs": [
    {
     "name": "stdout",
     "output_type": "stream",
     "text": [
      "Original Set: {1, 2, 3, 4}\n",
      "Modified Set: {1, 2, 3, 4, 5}\n"
     ]
    }
   ],
   "source": [
    "# Sets\n",
    "def modify_set(input_set):\n",
    "    input_set.add(5)\n",
    "\n",
    "original_set = {1, 2, 3, 4}\n",
    "\n",
    "print(\"Original Set:\", original_set)\n",
    "\n",
    "modify_set(original_set)\n",
    "\n",
    "print(\"Modified Set:\", original_set)"
   ]
  }
 ],
 "metadata": {
  "colab": {
   "provenance": []
  },
  "kernelspec": {
   "display_name": "Python 3 (ipykernel)",
   "language": "python",
   "name": "python3"
  },
  "language_info": {
   "codemirror_mode": {
    "name": "ipython",
    "version": 3
   },
   "file_extension": ".py",
   "mimetype": "text/x-python",
   "name": "python",
   "nbconvert_exporter": "python",
   "pygments_lexer": "ipython3",
   "version": "3.11.5"
  }
 },
 "nbformat": 4,
 "nbformat_minor": 5
}
