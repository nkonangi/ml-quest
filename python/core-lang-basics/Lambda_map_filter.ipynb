{
 "cells": [
  {
   "cell_type": "markdown",
   "id": "8f31cbfc",
   "metadata": {},
   "source": [
    "# Lambda"
   ]
  },
  {
   "cell_type": "markdown",
   "id": "dde3332e",
   "metadata": {},
   "source": [
    "A lambda function is a small anonymous function.\n",
    "\n",
    "A lambda function can take any number of arguments, but can only have one expression."
   ]
  },
  {
   "cell_type": "markdown",
   "id": "bba1c804",
   "metadata": {},
   "source": [
    "## Syntax"
   ]
  },
  {
   "cell_type": "markdown",
   "id": "5b89dd5f",
   "metadata": {},
   "source": [
    "lambda arguments : expression"
   ]
  },
  {
   "cell_type": "code",
   "execution_count": 1,
   "id": "b6abbc6b",
   "metadata": {},
   "outputs": [
    {
     "name": "stdout",
     "output_type": "stream",
     "text": [
      "25\n"
     ]
    }
   ],
   "source": [
    "x = lambda a : a+10\n",
    "print(x(15))"
   ]
  },
  {
   "cell_type": "code",
   "execution_count": 2,
   "id": "14786456",
   "metadata": {},
   "outputs": [
    {
     "name": "stdout",
     "output_type": "stream",
     "text": [
      "12\n"
     ]
    }
   ],
   "source": [
    "add1 = lambda a,b : a+b\n",
    "print(add1(5,7))"
   ]
  },
  {
   "cell_type": "code",
   "execution_count": 5,
   "id": "72271f94",
   "metadata": {},
   "outputs": [
    {
     "name": "stdout",
     "output_type": "stream",
     "text": [
      "27\n"
     ]
    }
   ],
   "source": [
    "print((lambda x: x**3 if x <= 4 else x*3 )(3))"
   ]
  },
  {
   "cell_type": "code",
   "execution_count": 2,
   "id": "b97d28e4",
   "metadata": {},
   "outputs": [
    {
     "name": "stdout",
     "output_type": "stream",
     "text": [
      "hello world\n",
      "hello Narasimha\n"
     ]
    }
   ],
   "source": [
    "greeting1 = lambda : print(\"hello world\")\n",
    "\n",
    "greeting2 = lambda name : print(\"hello\", name)\n",
    "\n",
    "greeting1()\n",
    "greeting2(\"Narasimha\")\n"
   ]
  },
  {
   "cell_type": "code",
   "execution_count": null,
   "id": "eefcac5a",
   "metadata": {},
   "outputs": [],
   "source": []
  },
  {
   "cell_type": "markdown",
   "id": "599fa874",
   "metadata": {},
   "source": [
    "## map()"
   ]
  },
  {
   "cell_type": "markdown",
   "id": "f2526a83",
   "metadata": {},
   "source": [
    "The map() function in Python does not modify the original iterable in-place. Instead, it applies a specified function to each element of the iterable and returns an iterable containing the results. The original iterable remains unchanged."
   ]
  },
  {
   "cell_type": "markdown",
   "id": "d272ab6a",
   "metadata": {},
   "source": [
    "map() takes 2 arguments. function and iterable."
   ]
  },
  {
   "cell_type": "markdown",
   "id": "5080e91d",
   "metadata": {},
   "source": [
    "map(function , iterable..)"
   ]
  },
  {
   "cell_type": "code",
   "execution_count": 7,
   "id": "20eb22ec",
   "metadata": {},
   "outputs": [
    {
     "name": "stdout",
     "output_type": "stream",
     "text": [
      "<map object at 0x1067580d0>\n"
     ]
    }
   ],
   "source": [
    "# Calculate the length of each word in the tuple:\n",
    "\n",
    "def myfunc(n):\n",
    "  return len(n)\n",
    "\n",
    "x = map(myfunc, ('apple', 'banana', 'cherry'))\n",
    "print(x)"
   ]
  },
  {
   "cell_type": "code",
   "execution_count": 5,
   "id": "bf709741",
   "metadata": {},
   "outputs": [
    {
     "name": "stdout",
     "output_type": "stream",
     "text": [
      "4\n",
      "20\n",
      "8\n"
     ]
    }
   ],
   "source": [
    "# What is the output?\n",
    "\n",
    "print((lambda x: 2 * x)(2))\n",
    "\n",
    "# lambda function with trenary operator\n",
    "func = lambda a, b: b - a if a <= b else a * b\n",
    "\n",
    "print(func(10, 2))\n",
    "print(func(2, 10))"
   ]
  },
  {
   "cell_type": "code",
   "execution_count": 10,
   "id": "fb86525f",
   "metadata": {},
   "outputs": [
    {
     "name": "stdout",
     "output_type": "stream",
     "text": [
      "[100, 20]\n"
     ]
    }
   ],
   "source": [
    "# Iterating through functions\n",
    "def square(x):\n",
    "    return (x * x)\n",
    "\n",
    "def double(x):\n",
    "    return (x + x)\n",
    "\n",
    "# list of functions\n",
    "funcs = [square, double]\n",
    "\n",
    "value = list(map(lambda x: x(10), funcs))\n",
    "\n",
    "print(value)"
   ]
  },
  {
   "cell_type": "markdown",
   "id": "87bedbc8",
   "metadata": {},
   "source": [
    "## filter()"
   ]
  },
  {
   "cell_type": "markdown",
   "id": "722c20bd",
   "metadata": {},
   "source": [
    "filter() takes 2 arguments funtion and iterable"
   ]
  },
  {
   "cell_type": "code",
   "execution_count": 3,
   "id": "223790fb",
   "metadata": {},
   "outputs": [
    {
     "name": "stdout",
     "output_type": "stream",
     "text": [
      "[1, 4, 9, 16, 25, 36, 49, 64, 81]\n"
     ]
    }
   ],
   "source": [
    "def square_num(num):\n",
    "    return num*num\n",
    "\n",
    "l1 = [1,2,3,4,5,6,7,8,9]\n",
    "\n",
    "sq_list = list(map(square_num, l1))\n",
    "print(sq_list)"
   ]
  },
  {
   "cell_type": "code",
   "execution_count": 4,
   "id": "4f5fc675",
   "metadata": {},
   "outputs": [
    {
     "name": "stdout",
     "output_type": "stream",
     "text": [
      "[77, 76, 78, 79, 80]\n"
     ]
    }
   ],
   "source": [
    "def is_A_student(score):\n",
    "    return score > 75\n",
    "\n",
    "scores_list =[77,66,75,76,67,78,68,79,80]\n",
    "filter_list_A_score = list(filter(is_A_student, scores_list))\n",
    "\n",
    "print(filter_list_A_score)"
   ]
  },
  {
   "cell_type": "markdown",
   "id": "03f9513b",
   "metadata": {},
   "source": [
    "### Excercises"
   ]
  },
  {
   "cell_type": "code",
   "execution_count": 10,
   "id": "4299a139",
   "metadata": {},
   "outputs": [
    {
     "name": "stdout",
     "output_type": "stream",
     "text": [
      "[-3, -9]\n"
     ]
    }
   ],
   "source": [
    "# Write a code to keep negative numbers\n",
    "numbers = [1, 0, -3, 6, 5, -9, 24]\n",
    "\n",
    "neg_nums = list(filter(lambda n : n < 0, numbers ))\n",
    "print(neg_nums)"
   ]
  },
  {
   "cell_type": "code",
   "execution_count": 11,
   "id": "32269285",
   "metadata": {},
   "outputs": [
    {
     "name": "stdout",
     "output_type": "stream",
     "text": [
      "[2, 4, 6, 8]\n",
      "[1, 3, 5, 7]\n"
     ]
    }
   ],
   "source": [
    "# Write a code to keep even numbers\n",
    "# Write a code to keep odd numbers\n",
    "\n",
    "numbers = [1, 2, 3, 4, 5, 6, 7, 8]\n",
    "even_nums = list(filter( lambda n : n%2 ==0, numbers))\n",
    "odd_nums = list(filter( lambda n : n%2 !=0, numbers))\n",
    "print(even_nums)\n",
    "print(odd_nums)"
   ]
  },
  {
   "cell_type": "code",
   "execution_count": null,
   "id": "9fe84944",
   "metadata": {},
   "outputs": [],
   "source": []
  }
 ],
 "metadata": {
  "kernelspec": {
   "display_name": "Python 3 (ipykernel)",
   "language": "python",
   "name": "python3"
  },
  "language_info": {
   "codemirror_mode": {
    "name": "ipython",
    "version": 3
   },
   "file_extension": ".py",
   "mimetype": "text/x-python",
   "name": "python",
   "nbconvert_exporter": "python",
   "pygments_lexer": "ipython3",
   "version": "3.11.5"
  }
 },
 "nbformat": 4,
 "nbformat_minor": 5
}
