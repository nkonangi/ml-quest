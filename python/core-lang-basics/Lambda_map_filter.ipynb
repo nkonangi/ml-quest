{
 "cells": [
  {
   "cell_type": "markdown",
   "id": "8f31cbfc",
   "metadata": {},
   "source": [
    "# Lambda"
   ]
  },
  {
   "cell_type": "markdown",
   "id": "dde3332e",
   "metadata": {},
   "source": [
    "A lambda function is a small anonymous function.\n",
    "\n",
    "A lambda function can take any number of arguments, but can only have one expression."
   ]
  },
  {
   "cell_type": "markdown",
   "id": "bba1c804",
   "metadata": {},
   "source": [
    "## Syntax"
   ]
  },
  {
   "cell_type": "markdown",
   "id": "5b89dd5f",
   "metadata": {},
   "source": [
    "lambda arguments : expression"
   ]
  },
  {
   "cell_type": "code",
   "execution_count": 1,
   "id": "b6abbc6b",
   "metadata": {},
   "outputs": [
    {
     "name": "stdout",
     "output_type": "stream",
     "text": [
      "25\n"
     ]
    }
   ],
   "source": [
    "x = lambda a : a+10\n",
    "print(x(15))"
   ]
  },
  {
   "cell_type": "code",
   "execution_count": 2,
   "id": "14786456",
   "metadata": {},
   "outputs": [
    {
     "name": "stdout",
     "output_type": "stream",
     "text": [
      "12\n"
     ]
    }
   ],
   "source": [
    "add1 = lambda a,b : a+b\n",
    "print(add1(5,7))"
   ]
  },
  {
   "cell_type": "code",
   "execution_count": 5,
   "id": "72271f94",
   "metadata": {},
   "outputs": [
    {
     "name": "stdout",
     "output_type": "stream",
     "text": [
      "27\n"
     ]
    }
   ],
   "source": [
    "print((lambda x: x**3 if x <= 4 else x*3 )(3))"
   ]
  },
  {
   "cell_type": "markdown",
   "id": "599fa874",
   "metadata": {},
   "source": [
    "## map()"
   ]
  },
  {
   "cell_type": "markdown",
   "id": "f2526a83",
   "metadata": {},
   "source": [
    "The map() function in Python does not modify the original iterable in-place. Instead, it applies a specified function to each element of the iterable and returns an iterable containing the results. The original iterable remains unchanged."
   ]
  },
  {
   "cell_type": "markdown",
   "id": "d272ab6a",
   "metadata": {},
   "source": [
    "map() takes 2 arguments. function and iterable."
   ]
  },
  {
   "cell_type": "code",
   "execution_count": 7,
   "id": "20eb22ec",
   "metadata": {},
   "outputs": [
    {
     "name": "stdout",
     "output_type": "stream",
     "text": [
      "<map object at 0x1067580d0>\n"
     ]
    }
   ],
   "source": [
    "# Calculate the length of each word in the tuple:\n",
    "\n",
    "def myfunc(n):\n",
    "  return len(n)\n",
    "\n",
    "x = map(myfunc, ('apple', 'banana', 'cherry'))\n",
    "print(x)"
   ]
  },
  {
   "cell_type": "code",
   "execution_count": 10,
   "id": "fb86525f",
   "metadata": {},
   "outputs": [
    {
     "name": "stdout",
     "output_type": "stream",
     "text": [
      "[100, 20]\n"
     ]
    }
   ],
   "source": [
    "# Iterating through functions\n",
    "def square(x):\n",
    "    return (x * x)\n",
    "\n",
    "def double(x):\n",
    "    return (x + x)\n",
    "\n",
    "# list of functions\n",
    "funcs = [square, double]\n",
    "\n",
    "value = list(map(lambda x: x(10), funcs))\n",
    "\n",
    "print(value)"
   ]
  },
  {
   "cell_type": "code",
   "execution_count": null,
   "id": "af28cc04",
   "metadata": {},
   "outputs": [],
   "source": []
  }
 ],
 "metadata": {
  "kernelspec": {
   "display_name": "Python 3 (ipykernel)",
   "language": "python",
   "name": "python3"
  },
  "language_info": {
   "codemirror_mode": {
    "name": "ipython",
    "version": 3
   },
   "file_extension": ".py",
   "mimetype": "text/x-python",
   "name": "python",
   "nbconvert_exporter": "python",
   "pygments_lexer": "ipython3",
   "version": "3.11.5"
  }
 },
 "nbformat": 4,
 "nbformat_minor": 5
}
