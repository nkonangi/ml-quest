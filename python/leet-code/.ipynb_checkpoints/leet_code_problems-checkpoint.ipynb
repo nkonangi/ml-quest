{
 "cells": [
  {
   "cell_type": "markdown",
   "id": "ddf57341",
   "metadata": {},
   "source": [
    "### Leet Code problems from IK Switchup\n",
    "1. TwoSum\n",
    "217. Contains Duplicates\n"
   ]
  },
  {
   "cell_type": "markdown",
   "id": "31b375c2",
   "metadata": {},
   "source": [
    "## LeetCode 349\n"
   ]
  },
  {
   "cell_type": "markdown",
   "id": "dabef774",
   "metadata": {},
   "source": [
    "Given two integer arrays nums1 and nums2, return an array of their intersection. Each element in the result must be unique and you may return the result in any order."
   ]
  },
  {
   "cell_type": "code",
   "execution_count": 2,
   "id": "2a3bdf17",
   "metadata": {},
   "outputs": [],
   "source": [
    "def intersect_set(num1, num2):\n",
    "    set1= set()\n",
    "    for i in num1:\n",
    "        if i in num2:\n",
    "            set1.add(i)\n",
    "    return list(set1)\n",
    "        "
   ]
  },
  {
   "cell_type": "code",
   "execution_count": 3,
   "id": "6e9210c4",
   "metadata": {},
   "outputs": [
    {
     "name": "stdout",
     "output_type": "stream",
     "text": [
      "[3, 4, 5]\n"
     ]
    }
   ],
   "source": [
    "num1 = [1,2,3,4,5]\n",
    "num2 = [3,4,5,6,7]\n",
    "\n",
    "print(intersect_set(num1, num2))\n"
   ]
  },
  {
   "cell_type": "code",
   "execution_count": 4,
   "id": "d37af979",
   "metadata": {},
   "outputs": [
    {
     "name": "stdout",
     "output_type": "stream",
     "text": [
      "[3, 4, 5]\n"
     ]
    }
   ],
   "source": [
    "num1 = [1,2,3,3,4,4,5]\n",
    "num2 = [3,4,4,5,6,7]\n",
    "\n",
    "print(intersect_set(num1, num2))"
   ]
  },
  {
   "cell_type": "code",
   "execution_count": 5,
   "id": "9fbaf29c",
   "metadata": {},
   "outputs": [
    {
     "name": "stdout",
     "output_type": "stream",
     "text": [
      "[3, 4, 5]\n"
     ]
    }
   ],
   "source": [
    "num1 = [1,2,2,3,3,4,4,5]\n",
    "num2 = [3,4,4,5,6,7]\n",
    "\n",
    "print(intersect_set(num1, num2))"
   ]
  },
  {
   "cell_type": "code",
   "execution_count": 6,
   "id": "50ed1f64",
   "metadata": {},
   "outputs": [
    {
     "name": "stdout",
     "output_type": "stream",
     "text": [
      "[]\n"
     ]
    }
   ],
   "source": [
    "num1 = [1,2,3,3,4,4,5]\n",
    "num2 = [6,7]\n",
    "\n",
    "print(intersect_set(num1, num2))"
   ]
  },
  {
   "cell_type": "markdown",
   "id": "e04d54c3",
   "metadata": {},
   "source": [
    "## LeetCode 217"
   ]
  },
  {
   "cell_type": "markdown",
   "id": "6295f70d",
   "metadata": {},
   "source": [
    "Given an integer array nums, return true if any value appears at least twice in the array, and return false if every element is distinct."
   ]
  },
  {
   "cell_type": "code",
   "execution_count": 8,
   "id": "3fe08840",
   "metadata": {},
   "outputs": [],
   "source": [
    "def has_duplicates(nums):\n",
    "    set1 = set()\n",
    "    for i in nums:\n",
    "        if i in set1:\n",
    "            return True\n",
    "        set1.add(i)"
   ]
  },
  {
   "cell_type": "code",
   "execution_count": 9,
   "id": "24df5556",
   "metadata": {},
   "outputs": [
    {
     "name": "stdout",
     "output_type": "stream",
     "text": [
      "None\n"
     ]
    }
   ],
   "source": [
    "nums = [1,2,3,4,5]\n",
    "print(has_duplicates(nums))"
   ]
  },
  {
   "cell_type": "code",
   "execution_count": 10,
   "id": "3099de91",
   "metadata": {},
   "outputs": [
    {
     "name": "stdout",
     "output_type": "stream",
     "text": [
      "True\n"
     ]
    }
   ],
   "source": [
    "nums = [1,2,3,4,5,5]\n",
    "print(has_duplicates(nums))"
   ]
  },
  {
   "cell_type": "code",
   "execution_count": 12,
   "id": "ca4f7354",
   "metadata": {},
   "outputs": [],
   "source": [
    "def has_duplicates1(nums):\n",
    "    return len(nums) !=  len(set(nums))"
   ]
  },
  {
   "cell_type": "code",
   "execution_count": 13,
   "id": "433dc014",
   "metadata": {},
   "outputs": [
    {
     "name": "stdout",
     "output_type": "stream",
     "text": [
      "True\n"
     ]
    }
   ],
   "source": [
    "nums = [1,2,3,4,5,5]\n",
    "print(has_duplicates1(nums))"
   ]
  },
  {
   "cell_type": "code",
   "execution_count": null,
   "id": "9eb7d964",
   "metadata": {},
   "outputs": [],
   "source": []
  }
 ],
 "metadata": {
  "kernelspec": {
   "display_name": "Python 3 (ipykernel)",
   "language": "python",
   "name": "python3"
  },
  "language_info": {
   "codemirror_mode": {
    "name": "ipython",
    "version": 3
   },
   "file_extension": ".py",
   "mimetype": "text/x-python",
   "name": "python",
   "nbconvert_exporter": "python",
   "pygments_lexer": "ipython3",
   "version": "3.11.5"
  }
 },
 "nbformat": 4,
 "nbformat_minor": 5
}
